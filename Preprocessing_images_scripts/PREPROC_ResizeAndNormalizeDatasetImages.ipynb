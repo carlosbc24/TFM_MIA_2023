{
 "cells": [
  {
   "cell_type": "markdown",
   "source": [
    "# REDIMENSIONAR Y NORMALIZAR IMÁGENES DE CADA DATASET EMPLEADO\n",
    "Este script implementado en Python permite aplicar una fase de pre-procesamiento en la que se redimensionan y normalizan todas las imágenes para que tengan todas las dimensiones (256, 256, 1) o, lo que es lo mismo, 256x256 (redimensionado o reescalado) y para que todos los valores de la imagen se encuentren en el rango de valores entre 0 y 1 (normalización min-max)."
   ],
   "metadata": {
    "collapsed": false
   }
  },
  {
   "cell_type": "markdown",
   "source": [
    "# 1. IMPORTAR LIBRERÍAS"
   ],
   "metadata": {
    "collapsed": false
   }
  },
  {
   "cell_type": "code",
   "execution_count": 1,
   "metadata": {},
   "outputs": [],
   "source": [
    "from skimage import io\n",
    "import os # Librería para acceder a variables del sistema\n",
    "import numpy as np # Librería empleada para operaciones de array\n",
    "from os import path # Librería empleada para comprobar que existen ciertos archivos y directorios\n",
    "from os import listdir # Librería del sistema empleada para leer archivos o directorios\n",
    "from  matplotlib import image # Librería empleada para importar una imagen como un vector\n",
    "from skimage import transform # Para modificar las dimensiones de las imágenes y así unificarlas"
   ]
  },
  {
   "cell_type": "markdown",
   "source": [
    "# 2. DEFINICIÓN DE LAS RUTAS DE LOS 2 DATASETS EMPLEADOS"
   ],
   "metadata": {
    "collapsed": false
   }
  },
  {
   "cell_type": "code",
   "execution_count": 2,
   "metadata": {},
   "outputs": [
    {
     "name": "stdout",
     "output_type": "stream",
     "text": [
      "HSVE IMAGES PATH:  ./DATASETS/HSVE_ORIGINAL_ALL_TYPES_PREPROCESED1/\n"
     ]
    }
   ],
   "source": [
    "# Ubicación de las imágenes MRI de cerebros con HSVE\n",
    "\n",
    "class_HSVE_path = './DATASETS/HSVE_ORIGINAL_ALL_TYPES_PREPROCESED1/' # Ubicación remota las imágenes MRI de la clase positiva (cerebros con la enfermedad HSVE)\n",
    "\n",
    "class_HSVE_RESIZED_path = './DATASETS/HSVE_ORIGINAL_ALL_TYPES_RESCALED_256/' # Ubicación remota las imágenes MRI de la clase positiva (cerebros con la enfermedad HSVE)\n",
    "\n",
    "print('HSVE IMAGES PATH: ', class_HSVE_path) # Se visualiza el path de esta fracción del dataset (clase1)"
   ]
  },
  {
   "cell_type": "code",
   "execution_count": 3,
   "metadata": {},
   "outputs": [
    {
     "name": "stdout",
     "output_type": "stream",
     "text": [
      "HEALTHY BRAINS IMAGES PATH:  ./DATASETS/HEALTHY_BRAINS_ALL_TYPES/\n"
     ]
    }
   ],
   "source": [
    "# Ubicación de las imágenes MRI de cerebros sanos\n",
    "\n",
    "class_HealthyBrains_path = './DATASETS/HEALTHY_BRAINS_ALL_TYPES/' # Ubicación remota las imágenes MRI de la clase negativa (cerebros sanos)\n",
    "\n",
    "class_HealthyBrains_RESIZED_path = './DATASETS/HEALTHY_BRAINS_ALL_TYPES_RESCALED_256/' # Ubicación remota las imágenes MRI de la clase negativa (cerebros sanos)\n",
    "\n",
    "print('HEALTHY BRAINS IMAGES PATH: ', class_HealthyBrains_path) # Se visualiza el path de esta fracción del dataset (clase0)"
   ]
  },
  {
   "cell_type": "markdown",
   "source": [
    "# 3. LECTURA DE CADA IMAGEN DE CADA DATASET\n",
    "Para cada imagen leída, se redimensiona la imagen para que tenga las dimensiones (256, 256, 1) o, lo que es lo mismo, 256x256 y se normaliza para que todos los valores de la imagen se encuentren en el rango de valores entre 0 y 1. Esto se realiza mediante una normalización min-max, es decir, restando a cada uno de los píxeles de la imagen el valor mínimo de los píxeles y dividiendo entre el valor máximo."
   ],
   "metadata": {
    "collapsed": false
   }
  },
  {
   "cell_type": "code",
   "execution_count": 4,
   "metadata": {},
   "outputs": [
    {
     "name": "stderr",
     "output_type": "stream",
     "text": [
      "Lossy conversion from float64 to uint8. Range [0, 1]. Convert image to uint8 prior to saving to suppress this warning.\n"
     ]
    },
    {
     "name": "stdout",
     "output_type": "stream",
     "text": [
      "hsv-encephalitis-9(1).jpeg\n",
      "<class 'numpy.ndarray'>\n",
      "SHAPE:  (256, 256, 1)\n",
      "RANGE: [ 0.0392156862745098 , 1.0 ]\n",
      "hsv-encephalitis-9(10).jpeg\n"
     ]
    },
    {
     "name": "stderr",
     "output_type": "stream",
     "text": [
      "Lossy conversion from float64 to uint8. Range [0, 1]. Convert image to uint8 prior to saving to suppress this warning.\n",
      "Lossy conversion from float64 to uint8. Range [0, 1]. Convert image to uint8 prior to saving to suppress this warning.\n",
      "Lossy conversion from float64 to uint8. Range [0, 1]. Convert image to uint8 prior to saving to suppress this warning.\n"
     ]
    },
    {
     "name": "stdout",
     "output_type": "stream",
     "text": [
      "<class 'numpy.ndarray'>\n",
      "SHAPE:  (256, 256, 1)\n",
      "RANGE: [ 0.047058823529411764 , 1.0 ]\n",
      "hsv-encephalitis-9(11).jpeg\n",
      "<class 'numpy.ndarray'>\n",
      "SHAPE:  (256, 256, 1)\n",
      "RANGE: [ 0.0392156862745098 , 1.0 ]\n",
      "hsv-encephalitis-9(12).jpeg\n"
     ]
    },
    {
     "name": "stderr",
     "output_type": "stream",
     "text": [
      "Lossy conversion from float64 to uint8. Range [0, 1]. Convert image to uint8 prior to saving to suppress this warning.\n",
      "Lossy conversion from float64 to uint8. Range [0, 1]. Convert image to uint8 prior to saving to suppress this warning.\n"
     ]
    },
    {
     "name": "stdout",
     "output_type": "stream",
     "text": [
      "<class 'numpy.ndarray'>\n",
      "SHAPE:  (256, 256, 1)\n",
      "RANGE: [ 0.0392156862745098 , 1.0 ]\n",
      "hsv-encephalitis-9(2).jpeg\n",
      "<class 'numpy.ndarray'>\n",
      "SHAPE:  (256, 256, 1)\n",
      "RANGE: [ 0.043137254901960784 , 1.0 ]\n",
      "hsv-encephalitis-9(3).jpeg\n",
      "<class 'numpy.ndarray'>\n",
      "SHAPE:  (256, 256, 1)\n",
      "RANGE: [ 0.054901960784313725 , 1.0 ]\n",
      "hsv-encephalitis-9(4).jpeg\n"
     ]
    },
    {
     "name": "stderr",
     "output_type": "stream",
     "text": [
      "Lossy conversion from float64 to uint8. Range [0, 1]. Convert image to uint8 prior to saving to suppress this warning.\n",
      "Lossy conversion from float64 to uint8. Range [0, 1]. Convert image to uint8 prior to saving to suppress this warning.\n",
      "Lossy conversion from float64 to uint8. Range [0, 1]. Convert image to uint8 prior to saving to suppress this warning.\n"
     ]
    },
    {
     "name": "stdout",
     "output_type": "stream",
     "text": [
      "<class 'numpy.ndarray'>\n",
      "SHAPE:  (256, 256, 1)\n",
      "RANGE: [ 0.058823529411764705 , 1.0 ]\n",
      "hsv-encephalitis-9(5).jpeg\n",
      "<class 'numpy.ndarray'>\n",
      "SHAPE:  (256, 256, 1)\n",
      "RANGE: [ 0.058823529411764705 , 1.0 ]\n",
      "hsv-encephalitis-9(6).jpeg\n"
     ]
    },
    {
     "name": "stderr",
     "output_type": "stream",
     "text": [
      "Lossy conversion from float64 to uint8. Range [0, 1]. Convert image to uint8 prior to saving to suppress this warning.\n",
      "Lossy conversion from float64 to uint8. Range [0, 1]. Convert image to uint8 prior to saving to suppress this warning.\n"
     ]
    },
    {
     "name": "stdout",
     "output_type": "stream",
     "text": [
      "<class 'numpy.ndarray'>\n",
      "SHAPE:  (256, 256, 1)\n",
      "RANGE: [ 0.058823529411764705 , 1.0 ]\n",
      "hsv-encephalitis-9(7).jpeg\n",
      "<class 'numpy.ndarray'>\n",
      "SHAPE:  (256, 256, 1)\n",
      "RANGE: [ 0.058823529411764705 , 1.0 ]\n",
      "hsv-encephalitis-9(8).jpeg\n"
     ]
    },
    {
     "name": "stderr",
     "output_type": "stream",
     "text": [
      "Lossy conversion from float64 to uint8. Range [0, 1]. Convert image to uint8 prior to saving to suppress this warning.\n"
     ]
    },
    {
     "name": "stdout",
     "output_type": "stream",
     "text": [
      "<class 'numpy.ndarray'>\n",
      "SHAPE:  (256, 256, 1)\n",
      "RANGE: [ 0.050980392156862744 , 1.0 ]\n",
      "hsv-encephalitis-9(9).jpeg\n",
      "<class 'numpy.ndarray'>\n",
      "SHAPE:  (256, 256, 1)\n",
      "RANGE: [ 0.050980392156862744 , 1.0 ]\n",
      "hsv-encephalitis-9(1).jpeg\n"
     ]
    },
    {
     "name": "stderr",
     "output_type": "stream",
     "text": [
      "Lossy conversion from float64 to uint8. Range [0, 1]. Convert image to uint8 prior to saving to suppress this warning.\n",
      "Lossy conversion from float64 to uint8. Range [0, 1]. Convert image to uint8 prior to saving to suppress this warning.\n"
     ]
    },
    {
     "name": "stdout",
     "output_type": "stream",
     "text": [
      "<class 'numpy.ndarray'>\n",
      "SHAPE:  (256, 256, 1)\n",
      "RANGE: [ 0.012254901960785575 , 0.9898284313725402 ]\n",
      "hsv-encephalitis-9(10).jpeg\n",
      "<class 'numpy.ndarray'>\n",
      "SHAPE:  (256, 256, 1)\n",
      "RANGE: [ 0.012745098039215872 , 0.8542892156862711 ]\n",
      "hsv-encephalitis-9(11).jpeg\n"
     ]
    },
    {
     "name": "stderr",
     "output_type": "stream",
     "text": [
      "Lossy conversion from float64 to uint8. Range [0, 1]. Convert image to uint8 prior to saving to suppress this warning.\n",
      "Lossy conversion from float64 to uint8. Range [0, 1]. Convert image to uint8 prior to saving to suppress this warning.\n",
      "Lossy conversion from float64 to uint8. Range [0, 1]. Convert image to uint8 prior to saving to suppress this warning.\n"
     ]
    },
    {
     "name": "stdout",
     "output_type": "stream",
     "text": [
      "<class 'numpy.ndarray'>\n",
      "SHAPE:  (256, 256, 1)\n",
      "RANGE: [ 0.016666666666666836 , 0.8503676470588165 ]\n",
      "hsv-encephalitis-9(12).jpeg\n",
      "<class 'numpy.ndarray'>\n",
      "SHAPE:  (256, 256, 1)\n",
      "RANGE: [ 0.02058823529411782 , 0.9172181372548982 ]\n",
      "hsv-encephalitis-9(13).jpeg\n"
     ]
    },
    {
     "name": "stderr",
     "output_type": "stream",
     "text": [
      "Lossy conversion from float64 to uint8. Range [0, 1]. Convert image to uint8 prior to saving to suppress this warning.\n"
     ]
    },
    {
     "name": "stdout",
     "output_type": "stream",
     "text": [
      "<class 'numpy.ndarray'>\n",
      "SHAPE:  (256, 256, 1)\n",
      "RANGE: [ 0.024448529411764855 , 0.9601102941176418 ]\n",
      "hsv-encephalitis-9(2).jpeg\n",
      "<class 'numpy.ndarray'>\n",
      "SHAPE:  (256, 256, 1)\n",
      "RANGE: [ 0.008394607843137366 , 0.8376838235294042 ]\n",
      "hsv-encephalitis-9(3).jpeg\n"
     ]
    },
    {
     "name": "stderr",
     "output_type": "stream",
     "text": [
      "Lossy conversion from float64 to uint8. Range [0, 1]. Convert image to uint8 prior to saving to suppress this warning.\n",
      "Lossy conversion from float64 to uint8. Range [0, 1]. Convert image to uint8 prior to saving to suppress this warning.\n",
      "Lossy conversion from float64 to uint8. Range [0, 1]. Convert image to uint8 prior to saving to suppress this warning.\n"
     ]
    },
    {
     "name": "stdout",
     "output_type": "stream",
     "text": [
      "<class 'numpy.ndarray'>\n",
      "SHAPE:  (256, 256, 1)\n",
      "RANGE: [ 0.008762254901961112 , 0.9249387254901871 ]\n",
      "hsv-encephalitis-9(4).jpeg\n",
      "<class 'numpy.ndarray'>\n",
      "SHAPE:  (256, 256, 1)\n",
      "RANGE: [ 0.012316176470588875 , 0.9033088235294024 ]\n",
      "hsv-encephalitis-9(5).jpeg\n",
      "<class 'numpy.ndarray'>\n",
      "SHAPE:  (256, 256, 1)\n",
      "RANGE: [ 0.012683823529412138 , 0.921936274509794 ]\n",
      "hsv-encephalitis-9(6).jpeg\n"
     ]
    },
    {
     "name": "stderr",
     "output_type": "stream",
     "text": [
      "Lossy conversion from float64 to uint8. Range [0, 1]. Convert image to uint8 prior to saving to suppress this warning.\n",
      "Lossy conversion from float64 to uint8. Range [0, 1]. Convert image to uint8 prior to saving to suppress this warning.\n",
      "Lossy conversion from float64 to uint8. Range [0, 1]. Convert image to uint8 prior to saving to suppress this warning.\n"
     ]
    },
    {
     "name": "stdout",
     "output_type": "stream",
     "text": [
      "<class 'numpy.ndarray'>\n",
      "SHAPE:  (256, 256, 1)\n",
      "RANGE: [ 0.012622549019608029 , 0.8278799019607817 ]\n",
      "hsv-encephalitis-9(7).jpeg\n",
      "<class 'numpy.ndarray'>\n",
      "SHAPE:  (256, 256, 1)\n",
      "RANGE: [ 0.012622549019608234 , 0.796568627450973 ]\n",
      "hsv-encephalitis-9(8).jpeg\n",
      "<class 'numpy.ndarray'>\n",
      "SHAPE:  (256, 256, 1)\n",
      "RANGE: [ 0.012683823529412138 , 0.861580882352935 ]\n",
      "hsv-encephalitis-9(9).jpeg\n"
     ]
    },
    {
     "name": "stderr",
     "output_type": "stream",
     "text": [
      "Lossy conversion from float64 to uint8. Range [0, 1]. Convert image to uint8 prior to saving to suppress this warning.\n",
      "Lossy conversion from float64 to uint8. Range [0, 1]. Convert image to uint8 prior to saving to suppress this warning.\n"
     ]
    },
    {
     "name": "stdout",
     "output_type": "stream",
     "text": [
      "<class 'numpy.ndarray'>\n",
      "SHAPE:  (256, 256, 1)\n",
      "RANGE: [ 0.016482843137255145 , 0.8720588235294069 ]\n",
      "hsv-encephalitis-9(1).jpeg\n",
      "<class 'numpy.ndarray'>\n",
      "SHAPE:  (256, 256, 1)\n",
      "RANGE: [ 0.050980392156862744 , 1.0 ]\n",
      "hsv-encephalitis-9(10).jpeg\n"
     ]
    },
    {
     "name": "stderr",
     "output_type": "stream",
     "text": [
      "Lossy conversion from float64 to uint8. Range [0, 1]. Convert image to uint8 prior to saving to suppress this warning.\n",
      "Lossy conversion from float64 to uint8. Range [0, 1]. Convert image to uint8 prior to saving to suppress this warning.\n"
     ]
    },
    {
     "name": "stdout",
     "output_type": "stream",
     "text": [
      "<class 'numpy.ndarray'>\n",
      "SHAPE:  (256, 256, 1)\n",
      "RANGE: [ 0.03529411764705882 , 0.9490196078431372 ]\n",
      "hsv-encephalitis-9(11).jpeg\n",
      "<class 'numpy.ndarray'>\n",
      "SHAPE:  (256, 256, 1)\n",
      "RANGE: [ 0.0392156862745098 , 1.0 ]\n",
      "hsv-encephalitis-9(12).jpeg\n"
     ]
    },
    {
     "name": "stderr",
     "output_type": "stream",
     "text": [
      "Lossy conversion from float64 to uint8. Range [0, 1]. Convert image to uint8 prior to saving to suppress this warning.\n",
      "Lossy conversion from float64 to uint8. Range [0, 1]. Convert image to uint8 prior to saving to suppress this warning.\n",
      "Lossy conversion from float64 to uint8. Range [0, 1]. Convert image to uint8 prior to saving to suppress this warning.\n"
     ]
    },
    {
     "name": "stdout",
     "output_type": "stream",
     "text": [
      "<class 'numpy.ndarray'>\n",
      "SHAPE:  (256, 256, 1)\n",
      "RANGE: [ 0.043137254901960784 , 1.0 ]\n",
      "hsv-encephalitis-9(13).jpeg\n",
      "<class 'numpy.ndarray'>\n",
      "SHAPE:  (256, 256, 1)\n",
      "RANGE: [ 0.050980392156862744 , 1.0 ]\n",
      "hsv-encephalitis-9(14).jpeg\n",
      "<class 'numpy.ndarray'>\n",
      "SHAPE:  (256, 256, 1)\n"
     ]
    },
    {
     "name": "stderr",
     "output_type": "stream",
     "text": [
      "Lossy conversion from float64 to uint8. Range [0, 1]. Convert image to uint8 prior to saving to suppress this warning.\n",
      "Lossy conversion from float64 to uint8. Range [0, 1]. Convert image to uint8 prior to saving to suppress this warning.\n"
     ]
    },
    {
     "name": "stdout",
     "output_type": "stream",
     "text": [
      "RANGE: [ 0.054901960784313725 , 1.0 ]\n",
      "hsv-encephalitis-9(15).jpeg\n",
      "<class 'numpy.ndarray'>\n",
      "SHAPE:  (256, 256, 1)\n",
      "RANGE: [ 0.058823529411764705 , 1.0 ]\n",
      "hsv-encephalitis-9(16).jpeg\n"
     ]
    },
    {
     "name": "stderr",
     "output_type": "stream",
     "text": [
      "Lossy conversion from float64 to uint8. Range [0, 1]. Convert image to uint8 prior to saving to suppress this warning.\n",
      "Lossy conversion from float64 to uint8. Range [0, 1]. Convert image to uint8 prior to saving to suppress this warning.\n"
     ]
    },
    {
     "name": "stdout",
     "output_type": "stream",
     "text": [
      "<class 'numpy.ndarray'>\n",
      "SHAPE:  (256, 256, 1)\n",
      "RANGE: [ 0.050980392156862744 , 1.0 ]\n",
      "hsv-encephalitis-9(17).jpeg\n",
      "<class 'numpy.ndarray'>\n",
      "SHAPE:  (256, 256, 1)\n",
      "RANGE: [ 0.054901960784313725 , 1.0 ]\n",
      "hsv-encephalitis-9(18).jpeg\n",
      "<class 'numpy.ndarray'>\n",
      "SHAPE:  (256, 256, 1)\n",
      "RANGE: [ 0.058823529411764705 , 1.0 ]\n",
      "hsv-encephalitis-9(19).jpeg\n"
     ]
    },
    {
     "name": "stderr",
     "output_type": "stream",
     "text": [
      "Lossy conversion from float64 to uint8. Range [0, 1]. Convert image to uint8 prior to saving to suppress this warning.\n",
      "Lossy conversion from float64 to uint8. Range [0, 1]. Convert image to uint8 prior to saving to suppress this warning.\n",
      "Lossy conversion from float64 to uint8. Range [0, 1]. Convert image to uint8 prior to saving to suppress this warning.\n"
     ]
    },
    {
     "name": "stdout",
     "output_type": "stream",
     "text": [
      "<class 'numpy.ndarray'>\n",
      "SHAPE:  (256, 256, 1)\n",
      "RANGE: [ 0.07450980392156863 , 1.0 ]\n",
      "hsv-encephalitis-9(2).jpeg\n",
      "<class 'numpy.ndarray'>\n",
      "SHAPE:  (256, 256, 1)\n",
      "RANGE: [ 0.050980392156862744 , 1.0 ]\n",
      "hsv-encephalitis-9(20).jpeg\n",
      "<class 'numpy.ndarray'>\n",
      "SHAPE:  (256, 256, 1)\n",
      "RANGE: [ 0.09019607843137255 , 1.0 ]\n",
      "hsv-encephalitis-9(21).jpeg\n"
     ]
    },
    {
     "name": "stderr",
     "output_type": "stream",
     "text": [
      "Lossy conversion from float64 to uint8. Range [0, 1]. Convert image to uint8 prior to saving to suppress this warning.\n",
      "Lossy conversion from float64 to uint8. Range [0, 1]. Convert image to uint8 prior to saving to suppress this warning.\n",
      "Lossy conversion from float64 to uint8. Range [0, 1]. Convert image to uint8 prior to saving to suppress this warning.\n"
     ]
    },
    {
     "name": "stdout",
     "output_type": "stream",
     "text": [
      "<class 'numpy.ndarray'>\n",
      "SHAPE:  (256, 256, 1)\n",
      "RANGE: [ 0.09019607843137255 , 1.0 ]\n",
      "hsv-encephalitis-9(22).jpeg\n",
      "<class 'numpy.ndarray'>\n",
      "SHAPE:  (256, 256, 1)\n",
      "RANGE: [ 0.08235294117647059 , 1.0 ]\n",
      "hsv-encephalitis-9(23).jpeg\n",
      "<class 'numpy.ndarray'>\n",
      "SHAPE:  (256, 256, 1)\n",
      "RANGE: [ 0.054901960784313725 , 1.0 ]\n",
      "hsv-encephalitis-9(3).jpeg\n"
     ]
    },
    {
     "name": "stderr",
     "output_type": "stream",
     "text": [
      "Lossy conversion from float64 to uint8. Range [0, 1]. Convert image to uint8 prior to saving to suppress this warning.\n",
      "Lossy conversion from float64 to uint8. Range [0, 1]. Convert image to uint8 prior to saving to suppress this warning.\n",
      "Lossy conversion from float64 to uint8. Range [0, 1]. Convert image to uint8 prior to saving to suppress this warning.\n"
     ]
    },
    {
     "name": "stdout",
     "output_type": "stream",
     "text": [
      "<class 'numpy.ndarray'>\n",
      "SHAPE:  (256, 256, 1)\n",
      "RANGE: [ 0.058823529411764705 , 1.0 ]\n",
      "hsv-encephalitis-9(4).jpeg\n",
      "<class 'numpy.ndarray'>\n",
      "SHAPE:  (256, 256, 1)\n",
      "RANGE: [ 0.058823529411764705 , 1.0 ]\n",
      "hsv-encephalitis-9(5).jpeg\n",
      "<class 'numpy.ndarray'>\n",
      "SHAPE:  (256, 256, 1)\n",
      "RANGE: [ 0.054901960784313725 , 1.0 ]\n",
      "hsv-encephalitis-9(6).jpeg\n"
     ]
    },
    {
     "name": "stderr",
     "output_type": "stream",
     "text": [
      "Lossy conversion from float64 to uint8. Range [0, 1]. Convert image to uint8 prior to saving to suppress this warning.\n",
      "Lossy conversion from float64 to uint8. Range [0, 1]. Convert image to uint8 prior to saving to suppress this warning.\n"
     ]
    },
    {
     "name": "stdout",
     "output_type": "stream",
     "text": [
      "<class 'numpy.ndarray'>\n",
      "SHAPE:  (256, 256, 1)\n",
      "RANGE: [ 0.0392156862745098 , 1.0 ]\n",
      "hsv-encephalitis-9(7).jpeg\n",
      "<class 'numpy.ndarray'>\n",
      "SHAPE:  (256, 256, 1)\n",
      "RANGE: [ 0.0392156862745098 , 1.0 ]\n",
      "hsv-encephalitis-9(8).jpeg\n"
     ]
    },
    {
     "name": "stderr",
     "output_type": "stream",
     "text": [
      "Lossy conversion from float64 to uint8. Range [0, 1]. Convert image to uint8 prior to saving to suppress this warning.\n",
      "Lossy conversion from float64 to uint8. Range [0, 1]. Convert image to uint8 prior to saving to suppress this warning.\n"
     ]
    },
    {
     "name": "stdout",
     "output_type": "stream",
     "text": [
      "<class 'numpy.ndarray'>\n",
      "SHAPE:  (256, 256, 1)\n",
      "RANGE: [ 0.0392156862745098 , 1.0 ]\n",
      "hsv-encephalitis-9(9).jpeg\n",
      "<class 'numpy.ndarray'>\n",
      "SHAPE:  (256, 256, 1)\n",
      "RANGE: [ 0.0392156862745098 , 0.9647058823529412 ]\n",
      "hsv-encephalitis-9(1).jpeg\n"
     ]
    },
    {
     "name": "stderr",
     "output_type": "stream",
     "text": [
      "Lossy conversion from float64 to uint8. Range [0, 1]. Convert image to uint8 prior to saving to suppress this warning.\n",
      "Lossy conversion from float64 to uint8. Range [0, 1]. Convert image to uint8 prior to saving to suppress this warning.\n"
     ]
    },
    {
     "name": "stdout",
     "output_type": "stream",
     "text": [
      "<class 'numpy.ndarray'>\n",
      "SHAPE:  (256, 256, 1)\n",
      "RANGE: [ 0.025793877423117662 , 0.9999858055093378 ]\n",
      "hsv-encephalitis-9(10).jpeg\n",
      "<class 'numpy.ndarray'>\n",
      "SHAPE:  (256, 256, 1)\n",
      "RANGE: [ 0.03071871256657978 , 0.9999999723938563 ]\n",
      "hsv-encephalitis-9(11).jpeg\n"
     ]
    },
    {
     "name": "stderr",
     "output_type": "stream",
     "text": [
      "Lossy conversion from float64 to uint8. Range [0, 1]. Convert image to uint8 prior to saving to suppress this warning.\n",
      "Lossy conversion from float64 to uint8. Range [0, 1]. Convert image to uint8 prior to saving to suppress this warning.\n"
     ]
    },
    {
     "name": "stdout",
     "output_type": "stream",
     "text": [
      "<class 'numpy.ndarray'>\n",
      "SHAPE:  (256, 256, 1)\n",
      "RANGE: [ 0.02196697656604358 , 0.9999993059255432 ]\n",
      "hsv-encephalitis-9(12).jpeg\n",
      "<class 'numpy.ndarray'>\n",
      "SHAPE:  (256, 256, 1)\n",
      "RANGE: [ 0.016491661585639972 , 0.9999999999317404 ]\n",
      "hsv-encephalitis-9(13).jpeg\n"
     ]
    },
    {
     "name": "stderr",
     "output_type": "stream",
     "text": [
      "Lossy conversion from float64 to uint8. Range [0, 1]. Convert image to uint8 prior to saving to suppress this warning.\n",
      "Lossy conversion from float64 to uint8. Range [0, 1]. Convert image to uint8 prior to saving to suppress this warning.\n"
     ]
    },
    {
     "name": "stdout",
     "output_type": "stream",
     "text": [
      "<class 'numpy.ndarray'>\n",
      "SHAPE:  (256, 256, 1)\n",
      "RANGE: [ 0.017752694818140284 , 0.9999870248513798 ]\n",
      "hsv-encephalitis-9(14).jpeg\n",
      "<class 'numpy.ndarray'>\n",
      "SHAPE:  (256, 256, 1)\n",
      "RANGE: [ 0.01423890570352119 , 0.9999772734297174 ]\n",
      "hsv-encephalitis-9(15).jpeg\n"
     ]
    },
    {
     "name": "stderr",
     "output_type": "stream",
     "text": [
      "Lossy conversion from float64 to uint8. Range [0, 1]. Convert image to uint8 prior to saving to suppress this warning.\n",
      "Lossy conversion from float64 to uint8. Range [0, 1]. Convert image to uint8 prior to saving to suppress this warning.\n"
     ]
    },
    {
     "name": "stdout",
     "output_type": "stream",
     "text": [
      "<class 'numpy.ndarray'>\n",
      "SHAPE:  (256, 256, 1)\n",
      "RANGE: [ 0.01845342524732971 , 0.9999117970379221 ]\n",
      "hsv-encephalitis-9(16).jpeg\n",
      "<class 'numpy.ndarray'>\n",
      "SHAPE:  (256, 256, 1)\n",
      "RANGE: [ 0.024544477791011078 , 0.999999999658702 ]\n",
      "hsv-encephalitis-9(17).jpeg\n"
     ]
    },
    {
     "name": "stderr",
     "output_type": "stream",
     "text": [
      "Lossy conversion from float64 to uint8. Range [0, 1]. Convert image to uint8 prior to saving to suppress this warning.\n",
      "Lossy conversion from float64 to uint8. Range [0, 1]. Convert image to uint8 prior to saving to suppress this warning.\n",
      "Lossy conversion from float64 to uint8. Range [0, 1]. Convert image to uint8 prior to saving to suppress this warning.\n"
     ]
    },
    {
     "name": "stdout",
     "output_type": "stream",
     "text": [
      "<class 'numpy.ndarray'>\n",
      "SHAPE:  (256, 256, 1)\n",
      "RANGE: [ 0.025887103811821646 , 0.9974184865812855 ]\n",
      "hsv-encephalitis-9(18).jpeg\n",
      "<class 'numpy.ndarray'>\n",
      "SHAPE:  (256, 256, 1)\n",
      "RANGE: [ 0.03354355713594213 , 0.91166514449263 ]\n",
      "hsv-encephalitis-9(2).jpeg\n",
      "<class 'numpy.ndarray'>\n",
      "SHAPE:  (256, 256, 1)\n",
      "RANGE: [ 0.025106205234017718 , 0.9999986410572692 ]\n",
      "hsv-encephalitis-9(3).jpeg\n"
     ]
    },
    {
     "name": "stderr",
     "output_type": "stream",
     "text": [
      "Lossy conversion from float64 to uint8. Range [0, 1]. Convert image to uint8 prior to saving to suppress this warning.\n",
      "Lossy conversion from float64 to uint8. Range [0, 1]. Convert image to uint8 prior to saving to suppress this warning.\n"
     ]
    },
    {
     "name": "stdout",
     "output_type": "stream",
     "text": [
      "<class 'numpy.ndarray'>\n",
      "SHAPE:  (256, 256, 1)\n",
      "RANGE: [ 0.021977855124536087 , 0.9999977919614038 ]\n",
      "hsv-encephalitis-9(4).jpeg\n",
      "<class 'numpy.ndarray'>\n",
      "SHAPE:  (256, 256, 1)\n",
      "RANGE: [ 0.021895183154815073 , 1.0 ]\n",
      "hsv-encephalitis-9(5).jpeg\n"
     ]
    },
    {
     "name": "stderr",
     "output_type": "stream",
     "text": [
      "Lossy conversion from float64 to uint8. Range [0, 1]. Convert image to uint8 prior to saving to suppress this warning.\n",
      "Lossy conversion from float64 to uint8. Range [0, 1]. Convert image to uint8 prior to saving to suppress this warning.\n"
     ]
    },
    {
     "name": "stdout",
     "output_type": "stream",
     "text": [
      "<class 'numpy.ndarray'>\n",
      "SHAPE:  (256, 256, 1)\n",
      "RANGE: [ 0.021195773651538054 , 0.9999999169767901 ]\n",
      "hsv-encephalitis-9(6).jpeg\n",
      "<class 'numpy.ndarray'>\n",
      "SHAPE:  (256, 256, 1)\n",
      "RANGE: [ 0.01825439383849874 , 1.0 ]\n",
      "hsv-encephalitis-9(7).jpeg\n"
     ]
    },
    {
     "name": "stderr",
     "output_type": "stream",
     "text": [
      "Lossy conversion from float64 to uint8. Range [0, 1]. Convert image to uint8 prior to saving to suppress this warning.\n",
      "Lossy conversion from float64 to uint8. Range [0, 1]. Convert image to uint8 prior to saving to suppress this warning.\n"
     ]
    },
    {
     "name": "stdout",
     "output_type": "stream",
     "text": [
      "<class 'numpy.ndarray'>\n",
      "SHAPE:  (256, 256, 1)\n",
      "RANGE: [ 0.025700678504038163 , 1.0 ]\n",
      "hsv-encephalitis-9(8).jpeg\n",
      "<class 'numpy.ndarray'>\n",
      "SHAPE:  (256, 256, 1)\n",
      "RANGE: [ 0.029143098808586676 , 0.9999999447877126 ]\n",
      "hsv-encephalitis-9(9).jpeg\n"
     ]
    },
    {
     "name": "stderr",
     "output_type": "stream",
     "text": [
      "Lossy conversion from float64 to uint8. Range [0, 1]. Convert image to uint8 prior to saving to suppress this warning.\n",
      "Lossy conversion from float64 to uint8. Range [0, 1]. Convert image to uint8 prior to saving to suppress this warning.\n"
     ]
    },
    {
     "name": "stdout",
     "output_type": "stream",
     "text": [
      "<class 'numpy.ndarray'>\n",
      "SHAPE:  (256, 256, 1)\n",
      "RANGE: [ 0.034046011198201796 , 0.9999930236607413 ]\n",
      "hsv-encephalitis-9.jpeg\n",
      "<class 'numpy.ndarray'>\n",
      "SHAPE:  (256, 256, 1)\n",
      "RANGE: [ 0.029716453004676555 , 0.9039609546703257 ]\n",
      "herpes-simplex-encephalitis-15(1).png\n"
     ]
    },
    {
     "name": "stderr",
     "output_type": "stream",
     "text": [
      "Lossy conversion from float64 to uint8. Range [0, 1]. Convert image to uint8 prior to saving to suppress this warning.\n",
      "Lossy conversion from float64 to uint8. Range [0, 1]. Convert image to uint8 prior to saving to suppress this warning.\n"
     ]
    },
    {
     "name": "stdout",
     "output_type": "stream",
     "text": [
      "<class 'numpy.ndarray'>\n",
      "SHAPE:  (256, 256, 1)\n",
      "RANGE: [ 0.23419338 , 0.7026609 ]\n",
      "herpes-simplex-encephalitis-15(10).png\n",
      "<class 'numpy.ndarray'>\n",
      "SHAPE:  (256, 256, 1)\n",
      "RANGE: [ 0.22110268 , 0.54272294 ]\n",
      "herpes-simplex-encephalitis-15(11).png\n"
     ]
    },
    {
     "name": "stderr",
     "output_type": "stream",
     "text": [
      "Lossy conversion from float64 to uint8. Range [0, 1]. Convert image to uint8 prior to saving to suppress this warning.\n",
      "Lossy conversion from float64 to uint8. Range [0, 1]. Convert image to uint8 prior to saving to suppress this warning.\n"
     ]
    },
    {
     "name": "stdout",
     "output_type": "stream",
     "text": [
      "<class 'numpy.ndarray'>\n",
      "SHAPE:  (256, 256, 1)\n",
      "RANGE: [ 0.23419338 , 0.5978064 ]\n",
      "herpes-simplex-encephalitis-15(2).png\n",
      "<class 'numpy.ndarray'>\n",
      "SHAPE:  (256, 256, 1)\n",
      "RANGE: [ 0.22764802 , 0.6716813 ]\n",
      "herpes-simplex-encephalitis-15(3).png\n"
     ]
    },
    {
     "name": "stderr",
     "output_type": "stream",
     "text": [
      "Lossy conversion from float64 to uint8. Range [0, 1]. Convert image to uint8 prior to saving to suppress this warning.\n",
      "Lossy conversion from float64 to uint8. Range [0, 1]. Convert image to uint8 prior to saving to suppress this warning.\n"
     ]
    },
    {
     "name": "stdout",
     "output_type": "stream",
     "text": [
      "<class 'numpy.ndarray'>\n",
      "SHAPE:  (256, 256, 1)\n",
      "RANGE: [ 0.22764802 , 0.66562283 ]\n",
      "herpes-simplex-encephalitis-15(4).png\n",
      "<class 'numpy.ndarray'>\n",
      "SHAPE:  (256, 256, 1)\n",
      "RANGE: [ 0.22437535 , 0.6603456 ]\n",
      "herpes-simplex-encephalitis-15(5).png\n"
     ]
    },
    {
     "name": "stderr",
     "output_type": "stream",
     "text": [
      "Lossy conversion from float64 to uint8. Range [0, 1]. Convert image to uint8 prior to saving to suppress this warning.\n",
      "Lossy conversion from float64 to uint8. Range [0, 1]. Convert image to uint8 prior to saving to suppress this warning.\n"
     ]
    },
    {
     "name": "stdout",
     "output_type": "stream",
     "text": [
      "<class 'numpy.ndarray'>\n",
      "SHAPE:  (256, 256, 1)\n",
      "RANGE: [ 0.22437535 , 0.7087941 ]\n",
      "herpes-simplex-encephalitis-15(6).png\n",
      "<class 'numpy.ndarray'>\n",
      "SHAPE:  (256, 256, 1)\n",
      "RANGE: [ 0.21783 , 0.63321245 ]\n",
      "herpes-simplex-encephalitis-15(7).png\n"
     ]
    },
    {
     "name": "stderr",
     "output_type": "stream",
     "text": [
      "Lossy conversion from float64 to uint8. Range [0, 1]. Convert image to uint8 prior to saving to suppress this warning.\n",
      "Lossy conversion from float64 to uint8. Range [0, 1]. Convert image to uint8 prior to saving to suppress this warning.\n"
     ]
    },
    {
     "name": "stdout",
     "output_type": "stream",
     "text": [
      "<class 'numpy.ndarray'>\n",
      "SHAPE:  (256, 256, 1)\n",
      "RANGE: [ 0.22437535 , 0.6520351 ]\n",
      "herpes-simplex-encephalitis-15(8).png\n",
      "<class 'numpy.ndarray'>\n",
      "SHAPE:  (256, 256, 1)\n",
      "RANGE: [ 0.20473929 , 0.5960132 ]\n",
      "herpes-simplex-encephalitis-15(9).png\n"
     ]
    },
    {
     "name": "stderr",
     "output_type": "stream",
     "text": [
      "Lossy conversion from float64 to uint8. Range [0, 1]. Convert image to uint8 prior to saving to suppress this warning.\n",
      "Lossy conversion from float64 to uint8. Range [0, 1]. Convert image to uint8 prior to saving to suppress this warning.\n"
     ]
    },
    {
     "name": "stdout",
     "output_type": "stream",
     "text": [
      "<class 'numpy.ndarray'>\n",
      "SHAPE:  (256, 256, 1)\n",
      "RANGE: [ 0.22764802 , 0.58299994 ]\n",
      "herpes-simplex-encephalitis-15.png\n",
      "<class 'numpy.ndarray'>\n",
      "SHAPE:  (256, 256, 1)\n",
      "RANGE: [ 0.23419338 , 0.6955131 ]\n",
      "herpes-simplex-encephalitis-15(1).png\n"
     ]
    },
    {
     "name": "stderr",
     "output_type": "stream",
     "text": [
      "Lossy conversion from float64 to uint8. Range [0, 1]. Convert image to uint8 prior to saving to suppress this warning.\n",
      "Lossy conversion from float64 to uint8. Range [0, 1]. Convert image to uint8 prior to saving to suppress this warning.\n"
     ]
    },
    {
     "name": "stdout",
     "output_type": "stream",
     "text": [
      "<class 'numpy.ndarray'>\n",
      "SHAPE:  (256, 256, 1)\n",
      "RANGE: [ 0.20801196 , 0.8128815 ]\n",
      "herpes-simplex-encephalitis-15(10).png\n",
      "<class 'numpy.ndarray'>\n",
      "SHAPE:  (256, 256, 1)\n",
      "RANGE: [ 0.21128464 , 0.774495 ]\n",
      "herpes-simplex-encephalitis-15(11).png\n"
     ]
    },
    {
     "name": "stderr",
     "output_type": "stream",
     "text": [
      "Lossy conversion from float64 to uint8. Range [0, 1]. Convert image to uint8 prior to saving to suppress this warning.\n",
      "Lossy conversion from float64 to uint8. Range [0, 1]. Convert image to uint8 prior to saving to suppress this warning.\n"
     ]
    },
    {
     "name": "stdout",
     "output_type": "stream",
     "text": [
      "<class 'numpy.ndarray'>\n",
      "SHAPE:  (256, 256, 1)\n",
      "RANGE: [ 0.21128464 , 0.7883392 ]\n",
      "herpes-simplex-encephalitis-15(2).png\n",
      "<class 'numpy.ndarray'>\n",
      "SHAPE:  (256, 256, 1)\n",
      "RANGE: [ 0.21455732 , 0.85914457 ]\n",
      "herpes-simplex-encephalitis-15(3).png\n"
     ]
    },
    {
     "name": "stderr",
     "output_type": "stream",
     "text": [
      "Lossy conversion from float64 to uint8. Range [0, 1]. Convert image to uint8 prior to saving to suppress this warning.\n",
      "Lossy conversion from float64 to uint8. Range [0, 1]. Convert image to uint8 prior to saving to suppress this warning.\n"
     ]
    },
    {
     "name": "stdout",
     "output_type": "stream",
     "text": [
      "<class 'numpy.ndarray'>\n",
      "SHAPE:  (256, 256, 1)\n",
      "RANGE: [ 0.21128464 , 0.82706976 ]\n",
      "herpes-simplex-encephalitis-15(4).png\n",
      "<class 'numpy.ndarray'>\n",
      "SHAPE:  (256, 256, 1)\n",
      "RANGE: [ 0.20801196 , 0.79267764 ]\n",
      "herpes-simplex-encephalitis-15(5).png\n"
     ]
    },
    {
     "name": "stderr",
     "output_type": "stream",
     "text": [
      "Lossy conversion from float64 to uint8. Range [0, 1]. Convert image to uint8 prior to saving to suppress this warning.\n",
      "Lossy conversion from float64 to uint8. Range [0, 1]. Convert image to uint8 prior to saving to suppress this warning.\n"
     ]
    },
    {
     "name": "stdout",
     "output_type": "stream",
     "text": [
      "<class 'numpy.ndarray'>\n",
      "SHAPE:  (256, 256, 1)\n",
      "RANGE: [ 0.20146662 , 0.8195106 ]\n",
      "herpes-simplex-encephalitis-15(6).png\n",
      "<class 'numpy.ndarray'>\n",
      "SHAPE:  (256, 256, 1)\n",
      "RANGE: [ 0.20146662 , 0.7774494 ]\n",
      "herpes-simplex-encephalitis-15(7).png\n"
     ]
    },
    {
     "name": "stderr",
     "output_type": "stream",
     "text": [
      "Lossy conversion from float64 to uint8. Range [0, 1]. Convert image to uint8 prior to saving to suppress this warning.\n",
      "Lossy conversion from float64 to uint8. Range [0, 1]. Convert image to uint8 prior to saving to suppress this warning.\n"
     ]
    },
    {
     "name": "stdout",
     "output_type": "stream",
     "text": [
      "<class 'numpy.ndarray'>\n",
      "SHAPE:  (256, 256, 1)\n",
      "RANGE: [ 0.20801196 , 0.7586819 ]\n",
      "herpes-simplex-encephalitis-15(8).png\n",
      "<class 'numpy.ndarray'>\n",
      "SHAPE:  (256, 256, 1)\n",
      "RANGE: [ 0.22110268 , 0.84878457 ]\n",
      "herpes-simplex-encephalitis-15(9).png\n"
     ]
    },
    {
     "name": "stderr",
     "output_type": "stream",
     "text": [
      "Lossy conversion from float64 to uint8. Range [0, 1]. Convert image to uint8 prior to saving to suppress this warning.\n",
      "Lossy conversion from float64 to uint8. Range [0, 1]. Convert image to uint8 prior to saving to suppress this warning.\n"
     ]
    },
    {
     "name": "stdout",
     "output_type": "stream",
     "text": [
      "<class 'numpy.ndarray'>\n",
      "SHAPE:  (256, 256, 1)\n",
      "RANGE: [ 0.21455732 , 0.80586374 ]\n",
      "herpes-simplex-encephalitis-15.png\n",
      "<class 'numpy.ndarray'>\n",
      "SHAPE:  (256, 256, 1)\n",
      "RANGE: [ 0.2146591 , 0.81780213 ]\n",
      "herpes-simplex-encephalitis-15(1).png\n"
     ]
    },
    {
     "name": "stderr",
     "output_type": "stream",
     "text": [
      "Lossy conversion from float64 to uint8. Range [0, 1]. Convert image to uint8 prior to saving to suppress this warning.\n",
      "Lossy conversion from float64 to uint8. Range [0, 1]. Convert image to uint8 prior to saving to suppress this warning.\n"
     ]
    },
    {
     "name": "stdout",
     "output_type": "stream",
     "text": [
      "<class 'numpy.ndarray'>\n",
      "SHAPE:  (256, 256, 1)\n",
      "RANGE: [ 0.2309207 , 0.88723594 ]\n",
      "herpes-simplex-encephalitis-15(10).png\n",
      "<class 'numpy.ndarray'>\n",
      "SHAPE:  (256, 256, 1)\n",
      "RANGE: [ 0.22437535 , 0.7044928 ]\n",
      "herpes-simplex-encephalitis-15(11).png\n"
     ]
    },
    {
     "name": "stderr",
     "output_type": "stream",
     "text": [
      "Lossy conversion from float64 to uint8. Range [0, 1]. Convert image to uint8 prior to saving to suppress this warning.\n",
      "Lossy conversion from float64 to uint8. Range [0, 1]. Convert image to uint8 prior to saving to suppress this warning.\n"
     ]
    },
    {
     "name": "stdout",
     "output_type": "stream",
     "text": [
      "<class 'numpy.ndarray'>\n",
      "SHAPE:  (256, 256, 1)\n",
      "RANGE: [ 0.22764802 , 0.8444708 ]\n",
      "herpes-simplex-encephalitis-15(12).png\n",
      "<class 'numpy.ndarray'>\n",
      "SHAPE:  (256, 256, 1)\n",
      "RANGE: [ 0.22437535 , 0.79837304 ]\n",
      "herpes-simplex-encephalitis-15(13).png\n"
     ]
    },
    {
     "name": "stderr",
     "output_type": "stream",
     "text": [
      "Lossy conversion from float64 to uint8. Range [0, 1]. Convert image to uint8 prior to saving to suppress this warning.\n",
      "Lossy conversion from float64 to uint8. Range [0, 1]. Convert image to uint8 prior to saving to suppress this warning.\n"
     ]
    },
    {
     "name": "stdout",
     "output_type": "stream",
     "text": [
      "<class 'numpy.ndarray'>\n",
      "SHAPE:  (256, 256, 1)\n",
      "RANGE: [ 0.22437535 , 0.75332355 ]\n",
      "herpes-simplex-encephalitis-15(14).png\n",
      "<class 'numpy.ndarray'>\n",
      "SHAPE:  (256, 256, 1)\n",
      "RANGE: [ 0.22764802 , 0.7662122 ]\n",
      "herpes-simplex-encephalitis-15(15).png\n"
     ]
    },
    {
     "name": "stderr",
     "output_type": "stream",
     "text": [
      "Lossy conversion from float64 to uint8. Range [0, 1]. Convert image to uint8 prior to saving to suppress this warning.\n",
      "Lossy conversion from float64 to uint8. Range [0, 1]. Convert image to uint8 prior to saving to suppress this warning.\n"
     ]
    },
    {
     "name": "stdout",
     "output_type": "stream",
     "text": [
      "<class 'numpy.ndarray'>\n",
      "SHAPE:  (256, 256, 1)\n",
      "RANGE: [ 0.23419338 , 0.65013033 ]\n",
      "herpes-simplex-encephalitis-15(16).png\n",
      "<class 'numpy.ndarray'>\n",
      "SHAPE:  (256, 256, 1)\n",
      "RANGE: [ 0.24401142 , 0.6843528 ]\n",
      "herpes-simplex-encephalitis-15(2).png\n"
     ]
    },
    {
     "name": "stderr",
     "output_type": "stream",
     "text": [
      "Lossy conversion from float64 to uint8. Range [0, 1]. Convert image to uint8 prior to saving to suppress this warning.\n",
      "Lossy conversion from float64 to uint8. Range [0, 1]. Convert image to uint8 prior to saving to suppress this warning.\n"
     ]
    },
    {
     "name": "stdout",
     "output_type": "stream",
     "text": [
      "<class 'numpy.ndarray'>\n",
      "SHAPE:  (256, 256, 1)\n",
      "RANGE: [ 0.2309207 , 0.81983435 ]\n",
      "herpes-simplex-encephalitis-15(3).png\n",
      "<class 'numpy.ndarray'>\n",
      "SHAPE:  (256, 256, 1)\n",
      "RANGE: [ 0.22764802 , 0.77863747 ]\n",
      "herpes-simplex-encephalitis-15(4).png\n"
     ]
    },
    {
     "name": "stderr",
     "output_type": "stream",
     "text": [
      "Lossy conversion from float64 to uint8. Range [0, 1]. Convert image to uint8 prior to saving to suppress this warning.\n",
      "Lossy conversion from float64 to uint8. Range [0, 1]. Convert image to uint8 prior to saving to suppress this warning.\n"
     ]
    },
    {
     "name": "stdout",
     "output_type": "stream",
     "text": [
      "<class 'numpy.ndarray'>\n",
      "SHAPE:  (256, 256, 1)\n",
      "RANGE: [ 0.22764802 , 0.69376665 ]\n",
      "herpes-simplex-encephalitis-15(5).png\n",
      "<class 'numpy.ndarray'>\n",
      "SHAPE:  (256, 256, 1)\n",
      "RANGE: [ 0.22437535 , 0.7018521 ]\n",
      "herpes-simplex-encephalitis-15(6).png\n"
     ]
    },
    {
     "name": "stderr",
     "output_type": "stream",
     "text": [
      "Lossy conversion from float64 to uint8. Range [0, 1]. Convert image to uint8 prior to saving to suppress this warning.\n",
      "Lossy conversion from float64 to uint8. Range [0, 1]. Convert image to uint8 prior to saving to suppress this warning.\n"
     ]
    },
    {
     "name": "stdout",
     "output_type": "stream",
     "text": [
      "<class 'numpy.ndarray'>\n",
      "SHAPE:  (256, 256, 1)\n",
      "RANGE: [ 0.2309207 , 0.6896921 ]\n",
      "herpes-simplex-encephalitis-15(7).png\n",
      "<class 'numpy.ndarray'>\n",
      "SHAPE:  (256, 256, 1)\n",
      "RANGE: [ 0.23419338 , 0.68084365 ]\n",
      "herpes-simplex-encephalitis-15(8).png\n"
     ]
    },
    {
     "name": "stderr",
     "output_type": "stream",
     "text": [
      "Lossy conversion from float64 to uint8. Range [0, 1]. Convert image to uint8 prior to saving to suppress this warning.\n",
      "Lossy conversion from float64 to uint8. Range [0, 1]. Convert image to uint8 prior to saving to suppress this warning.\n"
     ]
    },
    {
     "name": "stdout",
     "output_type": "stream",
     "text": [
      "<class 'numpy.ndarray'>\n",
      "SHAPE:  (256, 256, 1)\n",
      "RANGE: [ 0.2309207 , 0.722233 ]\n",
      "herpes-simplex-encephalitis-15(9).png\n",
      "<class 'numpy.ndarray'>\n",
      "SHAPE:  (256, 256, 1)\n",
      "RANGE: [ 0.22764802 , 0.7647729 ]\n",
      "herpes-simplex-encephalitis-15.png\n"
     ]
    },
    {
     "name": "stderr",
     "output_type": "stream",
     "text": [
      "Lossy conversion from float64 to uint8. Range [0, 1]. Convert image to uint8 prior to saving to suppress this warning.\n"
     ]
    },
    {
     "name": "stdout",
     "output_type": "stream",
     "text": [
      "<class 'numpy.ndarray'>\n",
      "SHAPE:  (256, 256, 1)\n",
      "RANGE: [ 0.2309207 , 0.97784686 ]\n",
      "herpes-simplex-virus-encephalitis-1(1).jpg\n"
     ]
    },
    {
     "name": "stderr",
     "output_type": "stream",
     "text": [
      "Lossy conversion from float64 to uint8. Range [0, 1]. Convert image to uint8 prior to saving to suppress this warning.\n",
      "Lossy conversion from float64 to uint8. Range [0, 1]. Convert image to uint8 prior to saving to suppress this warning.\n"
     ]
    },
    {
     "name": "stdout",
     "output_type": "stream",
     "text": [
      "<class 'numpy.ndarray'>\n",
      "SHAPE:  (256, 256, 1)\n",
      "RANGE: [ 0.0 , 0.9348856071823286 ]\n",
      "herpes-simplex-virus-encephalitis-1(10).jpg\n",
      "<class 'numpy.ndarray'>\n",
      "SHAPE:  (256, 256, 1)\n",
      "RANGE: [ 0.0 , 0.9142398273103503 ]\n",
      "herpes-simplex-virus-encephalitis-1(11).jpg\n"
     ]
    },
    {
     "name": "stderr",
     "output_type": "stream",
     "text": [
      "Lossy conversion from float64 to uint8. Range [0, 1]. Convert image to uint8 prior to saving to suppress this warning.\n",
      "Lossy conversion from float64 to uint8. Range [0, 1]. Convert image to uint8 prior to saving to suppress this warning.\n"
     ]
    },
    {
     "name": "stdout",
     "output_type": "stream",
     "text": [
      "<class 'numpy.ndarray'>\n",
      "SHAPE:  (256, 256, 1)\n",
      "RANGE: [ 0.0 , 0.9686373246111687 ]\n",
      "herpes-simplex-virus-encephalitis-1(2).jpg\n",
      "<class 'numpy.ndarray'>\n",
      "SHAPE:  (256, 256, 1)\n",
      "RANGE: [ 0.0 , 0.9249950994701771 ]\n",
      "herpes-simplex-virus-encephalitis-1(3).jpg\n"
     ]
    },
    {
     "name": "stderr",
     "output_type": "stream",
     "text": [
      "Lossy conversion from float64 to uint8. Range [0, 1]. Convert image to uint8 prior to saving to suppress this warning.\n",
      "Lossy conversion from float64 to uint8. Range [0, 1]. Convert image to uint8 prior to saving to suppress this warning.\n"
     ]
    },
    {
     "name": "stdout",
     "output_type": "stream",
     "text": [
      "<class 'numpy.ndarray'>\n",
      "SHAPE:  (256, 256, 1)\n",
      "RANGE: [ 0.0 , 0.9007956979800834 ]\n",
      "herpes-simplex-virus-encephalitis-1(4).jpg\n",
      "<class 'numpy.ndarray'>\n",
      "SHAPE:  (256, 256, 1)\n",
      "RANGE: [ 0.0 , 0.8913971113259085 ]\n",
      "herpes-simplex-virus-encephalitis-1(5).jpg\n"
     ]
    },
    {
     "name": "stderr",
     "output_type": "stream",
     "text": [
      "Lossy conversion from float64 to uint8. Range [0, 1]. Convert image to uint8 prior to saving to suppress this warning.\n",
      "Lossy conversion from float64 to uint8. Range [0, 1]. Convert image to uint8 prior to saving to suppress this warning.\n"
     ]
    },
    {
     "name": "stdout",
     "output_type": "stream",
     "text": [
      "<class 'numpy.ndarray'>\n",
      "SHAPE:  (256, 256, 1)\n",
      "RANGE: [ 0.0 , 0.8689863954195239 ]\n",
      "herpes-simplex-virus-encephalitis-1(6).jpg\n",
      "<class 'numpy.ndarray'>\n",
      "SHAPE:  (256, 256, 1)\n",
      "RANGE: [ 0.0 , 0.9062580733109938 ]\n",
      "herpes-simplex-virus-encephalitis-1(7).jpg\n"
     ]
    },
    {
     "name": "stderr",
     "output_type": "stream",
     "text": [
      "Lossy conversion from float64 to uint8. Range [0, 1]. Convert image to uint8 prior to saving to suppress this warning.\n",
      "Lossy conversion from float64 to uint8. Range [0, 1]. Convert image to uint8 prior to saving to suppress this warning.\n"
     ]
    },
    {
     "name": "stdout",
     "output_type": "stream",
     "text": [
      "<class 'numpy.ndarray'>\n",
      "SHAPE:  (256, 256, 1)\n",
      "RANGE: [ 0.0 , 0.9538272995288595 ]\n",
      "herpes-simplex-virus-encephalitis-1(8).jpg\n",
      "<class 'numpy.ndarray'>\n",
      "SHAPE:  (256, 256, 1)\n",
      "RANGE: [ 0.0 , 0.9254325832786543 ]\n",
      "herpes-simplex-virus-encephalitis-1(9).jpg\n"
     ]
    },
    {
     "name": "stderr",
     "output_type": "stream",
     "text": [
      "Lossy conversion from float64 to uint8. Range [0, 1]. Convert image to uint8 prior to saving to suppress this warning.\n",
      "Lossy conversion from float64 to uint8. Range [0, 1]. Convert image to uint8 prior to saving to suppress this warning.\n"
     ]
    },
    {
     "name": "stdout",
     "output_type": "stream",
     "text": [
      "<class 'numpy.ndarray'>\n",
      "SHAPE:  (256, 256, 1)\n",
      "RANGE: [ 0.0 , 0.9355639412158906 ]\n",
      "herpes-simplex-virus-encephalitis-1(1).jpg\n",
      "<class 'numpy.ndarray'>\n",
      "SHAPE:  (256, 256, 1)\n",
      "RANGE: [ 0.0 , 0.9318189703630877 ]\n",
      "herpes-simplex-virus-encephalitis-1(10).jpg\n"
     ]
    },
    {
     "name": "stderr",
     "output_type": "stream",
     "text": [
      "Lossy conversion from float64 to uint8. Range [0, 1]. Convert image to uint8 prior to saving to suppress this warning.\n",
      "Lossy conversion from float64 to uint8. Range [0, 1]. Convert image to uint8 prior to saving to suppress this warning.\n"
     ]
    },
    {
     "name": "stdout",
     "output_type": "stream",
     "text": [
      "<class 'numpy.ndarray'>\n",
      "SHAPE:  (256, 256, 1)\n",
      "RANGE: [ 0.0 , 0.9606192292054523 ]\n",
      "herpes-simplex-virus-encephalitis-1(11).jpg\n",
      "<class 'numpy.ndarray'>\n",
      "SHAPE:  (256, 256, 1)\n",
      "RANGE: [ 0.0 , 0.9595984958764272 ]\n",
      "herpes-simplex-virus-encephalitis-1(2).jpg\n"
     ]
    },
    {
     "name": "stderr",
     "output_type": "stream",
     "text": [
      "Lossy conversion from float64 to uint8. Range [0, 1]. Convert image to uint8 prior to saving to suppress this warning.\n",
      "Lossy conversion from float64 to uint8. Range [0, 1]. Convert image to uint8 prior to saving to suppress this warning.\n"
     ]
    },
    {
     "name": "stdout",
     "output_type": "stream",
     "text": [
      "<class 'numpy.ndarray'>\n",
      "SHAPE:  (256, 256, 1)\n",
      "RANGE: [ 0.0 , 0.9242703397376133 ]\n",
      "herpes-simplex-virus-encephalitis-1(3).jpg\n",
      "<class 'numpy.ndarray'>\n",
      "SHAPE:  (256, 256, 1)\n",
      "RANGE: [ 0.0 , 0.9251760756308345 ]\n",
      "herpes-simplex-virus-encephalitis-1(4).jpg\n"
     ]
    },
    {
     "name": "stderr",
     "output_type": "stream",
     "text": [
      "Lossy conversion from float64 to uint8. Range [0, 1]. Convert image to uint8 prior to saving to suppress this warning.\n",
      "Lossy conversion from float64 to uint8. Range [0, 1]. Convert image to uint8 prior to saving to suppress this warning.\n"
     ]
    },
    {
     "name": "stdout",
     "output_type": "stream",
     "text": [
      "<class 'numpy.ndarray'>\n",
      "SHAPE:  (256, 256, 1)\n",
      "RANGE: [ 0.0 , 0.9370530701381975 ]\n",
      "herpes-simplex-virus-encephalitis-1(5).jpg\n",
      "<class 'numpy.ndarray'>\n",
      "SHAPE:  (256, 256, 1)\n",
      "RANGE: [ 0.0 , 0.94389994047453 ]\n",
      "herpes-simplex-virus-encephalitis-1(6).jpg\n"
     ]
    },
    {
     "name": "stderr",
     "output_type": "stream",
     "text": [
      "Lossy conversion from float64 to uint8. Range [0, 1]. Convert image to uint8 prior to saving to suppress this warning.\n",
      "Lossy conversion from float64 to uint8. Range [0, 1]. Convert image to uint8 prior to saving to suppress this warning.\n"
     ]
    },
    {
     "name": "stdout",
     "output_type": "stream",
     "text": [
      "<class 'numpy.ndarray'>\n",
      "SHAPE:  (256, 256, 1)\n",
      "RANGE: [ 0.0 , 0.9503706989095504 ]\n",
      "herpes-simplex-virus-encephalitis-1(7).jpg\n",
      "<class 'numpy.ndarray'>\n",
      "SHAPE:  (256, 256, 1)\n",
      "RANGE: [ 0.0 , 0.9752459569903729 ]\n",
      "herpes-simplex-virus-encephalitis-1(8).jpg\n"
     ]
    },
    {
     "name": "stderr",
     "output_type": "stream",
     "text": [
      "Lossy conversion from float64 to uint8. Range [0, 1]. Convert image to uint8 prior to saving to suppress this warning.\n",
      "Lossy conversion from float64 to uint8. Range [0, 1]. Convert image to uint8 prior to saving to suppress this warning.\n"
     ]
    },
    {
     "name": "stdout",
     "output_type": "stream",
     "text": [
      "<class 'numpy.ndarray'>\n",
      "SHAPE:  (256, 256, 1)\n",
      "RANGE: [ 0.0 , 0.9839195109236352 ]\n",
      "herpes-simplex-virus-encephalitis-1(9).jpg\n",
      "<class 'numpy.ndarray'>\n",
      "SHAPE:  (256, 256, 1)\n",
      "RANGE: [ 0.0 , 0.979604633396205 ]\n",
      "herpes-simplex-virus-encephalitis-1.jpg\n"
     ]
    },
    {
     "name": "stderr",
     "output_type": "stream",
     "text": [
      "Lossy conversion from float64 to uint8. Range [0, 1]. Convert image to uint8 prior to saving to suppress this warning.\n",
      "Lossy conversion from float64 to uint8. Range [0, 1]. Convert image to uint8 prior to saving to suppress this warning.\n"
     ]
    },
    {
     "name": "stdout",
     "output_type": "stream",
     "text": [
      "<class 'numpy.ndarray'>\n",
      "SHAPE:  (256, 256, 1)\n",
      "RANGE: [ 0.0 , 0.944104413939456 ]\n",
      "herpes-simplex-virus-encephalitis-1(1).jpg\n",
      "<class 'numpy.ndarray'>\n",
      "SHAPE:  (256, 256, 1)\n",
      "RANGE: [ 0.0 , 0.9661562666120724 ]\n",
      "herpes-simplex-virus-encephalitis-1(10).jpg\n"
     ]
    },
    {
     "name": "stderr",
     "output_type": "stream",
     "text": [
      "Lossy conversion from float64 to uint8. Range [0, 1]. Convert image to uint8 prior to saving to suppress this warning.\n",
      "Lossy conversion from float64 to uint8. Range [0, 1]. Convert image to uint8 prior to saving to suppress this warning.\n"
     ]
    },
    {
     "name": "stdout",
     "output_type": "stream",
     "text": [
      "<class 'numpy.ndarray'>\n",
      "SHAPE:  (256, 256, 1)\n",
      "RANGE: [ 0.0 , 0.9395396219625236 ]\n",
      "herpes-simplex-virus-encephalitis-1(11).jpg\n",
      "<class 'numpy.ndarray'>\n",
      "SHAPE:  (256, 256, 1)\n",
      "RANGE: [ 0.0 , 0.9477133341188948 ]\n",
      "herpes-simplex-virus-encephalitis-1(12).jpg\n"
     ]
    },
    {
     "name": "stderr",
     "output_type": "stream",
     "text": [
      "Lossy conversion from float64 to uint8. Range [0, 1]. Convert image to uint8 prior to saving to suppress this warning.\n",
      "Lossy conversion from float64 to uint8. Range [0, 1]. Convert image to uint8 prior to saving to suppress this warning.\n"
     ]
    },
    {
     "name": "stdout",
     "output_type": "stream",
     "text": [
      "<class 'numpy.ndarray'>\n",
      "SHAPE:  (256, 256, 1)\n",
      "RANGE: [ 0.0 , 0.8682527879309503 ]\n",
      "herpes-simplex-virus-encephalitis-1(2).jpg\n",
      "<class 'numpy.ndarray'>\n",
      "SHAPE:  (256, 256, 1)\n",
      "RANGE: [ 0.0 , 0.8662478129876277 ]\n",
      "herpes-simplex-virus-encephalitis-1(3).jpg\n"
     ]
    },
    {
     "name": "stderr",
     "output_type": "stream",
     "text": [
      "Lossy conversion from float64 to uint8. Range [0, 1]. Convert image to uint8 prior to saving to suppress this warning.\n",
      "Lossy conversion from float64 to uint8. Range [0, 1]. Convert image to uint8 prior to saving to suppress this warning.\n"
     ]
    },
    {
     "name": "stdout",
     "output_type": "stream",
     "text": [
      "<class 'numpy.ndarray'>\n",
      "SHAPE:  (256, 256, 1)\n",
      "RANGE: [ 0.0 , 0.7444135914241019 ]\n",
      "herpes-simplex-virus-encephalitis-1(4).jpg\n",
      "<class 'numpy.ndarray'>\n",
      "SHAPE:  (256, 256, 1)\n",
      "RANGE: [ 0.0 , 0.9496161623916414 ]\n",
      "herpes-simplex-virus-encephalitis-1(5).jpg\n"
     ]
    },
    {
     "name": "stderr",
     "output_type": "stream",
     "text": [
      "Lossy conversion from float64 to uint8. Range [0, 1]. Convert image to uint8 prior to saving to suppress this warning.\n",
      "Lossy conversion from float64 to uint8. Range [0, 1]. Convert image to uint8 prior to saving to suppress this warning.\n"
     ]
    },
    {
     "name": "stdout",
     "output_type": "stream",
     "text": [
      "<class 'numpy.ndarray'>\n",
      "SHAPE:  (256, 256, 1)\n",
      "RANGE: [ 0.0 , 0.938731581404362 ]\n",
      "herpes-simplex-virus-encephalitis-1(6).jpg\n",
      "<class 'numpy.ndarray'>\n",
      "SHAPE:  (256, 256, 1)\n",
      "RANGE: [ 0.0 , 0.8406371452446098 ]\n",
      "herpes-simplex-virus-encephalitis-1(7).jpg\n"
     ]
    },
    {
     "name": "stderr",
     "output_type": "stream",
     "text": [
      "Lossy conversion from float64 to uint8. Range [0, 1]. Convert image to uint8 prior to saving to suppress this warning.\n",
      "Lossy conversion from float64 to uint8. Range [0, 1]. Convert image to uint8 prior to saving to suppress this warning.\n"
     ]
    },
    {
     "name": "stdout",
     "output_type": "stream",
     "text": [
      "<class 'numpy.ndarray'>\n",
      "SHAPE:  (256, 256, 1)\n",
      "RANGE: [ 0.0 , 0.9584345528870051 ]\n",
      "herpes-simplex-virus-encephalitis-1(8).jpg\n",
      "<class 'numpy.ndarray'>\n",
      "SHAPE:  (256, 256, 1)\n",
      "RANGE: [ 0.0 , 0.9387499592841932 ]\n",
      "herpes-simplex-virus-encephalitis-1(9).jpg\n"
     ]
    },
    {
     "name": "stderr",
     "output_type": "stream",
     "text": [
      "Lossy conversion from float64 to uint8. Range [0, 1]. Convert image to uint8 prior to saving to suppress this warning.\n",
      "Lossy conversion from float64 to uint8. Range [0, 1]. Convert image to uint8 prior to saving to suppress this warning.\n"
     ]
    },
    {
     "name": "stdout",
     "output_type": "stream",
     "text": [
      "<class 'numpy.ndarray'>\n",
      "SHAPE:  (256, 256, 1)\n",
      "RANGE: [ 0.0 , 0.9467318583370461 ]\n",
      "herpes-simplex-virus-encephalitis-1(1).jpg\n",
      "<class 'numpy.ndarray'>\n",
      "SHAPE:  (256, 256, 1)\n",
      "RANGE: [ 0.0 , 0.9584473066047284 ]\n",
      "herpes-simplex-virus-encephalitis-1(10).jpg\n"
     ]
    },
    {
     "name": "stderr",
     "output_type": "stream",
     "text": [
      "Lossy conversion from float64 to uint8. Range [0, 1]. Convert image to uint8 prior to saving to suppress this warning.\n",
      "Lossy conversion from float64 to uint8. Range [0, 1]. Convert image to uint8 prior to saving to suppress this warning.\n"
     ]
    },
    {
     "name": "stdout",
     "output_type": "stream",
     "text": [
      "<class 'numpy.ndarray'>\n",
      "SHAPE:  (256, 256, 1)\n",
      "RANGE: [ 0.0 , 0.9639007046358523 ]\n",
      "herpes-simplex-virus-encephalitis-1(11).jpg\n",
      "<class 'numpy.ndarray'>\n",
      "SHAPE:  (256, 256, 1)\n",
      "RANGE: [ 0.0 , 0.9620556958972863 ]\n",
      "herpes-simplex-virus-encephalitis-1(12).jpg\n"
     ]
    },
    {
     "name": "stderr",
     "output_type": "stream",
     "text": [
      "Lossy conversion from float64 to uint8. Range [0, 1]. Convert image to uint8 prior to saving to suppress this warning.\n",
      "Lossy conversion from float64 to uint8. Range [0, 1]. Convert image to uint8 prior to saving to suppress this warning.\n"
     ]
    },
    {
     "name": "stdout",
     "output_type": "stream",
     "text": [
      "<class 'numpy.ndarray'>\n",
      "SHAPE:  (256, 256, 1)\n",
      "RANGE: [ 0.0 , 0.932437735984095 ]\n",
      "herpes-simplex-virus-encephalitis-1(13).jpg\n",
      "<class 'numpy.ndarray'>\n",
      "SHAPE:  (256, 256, 1)\n",
      "RANGE: [ 0.0 , 0.9705128713650433 ]\n",
      "herpes-simplex-virus-encephalitis-1(14).jpg\n"
     ]
    },
    {
     "name": "stderr",
     "output_type": "stream",
     "text": [
      "Lossy conversion from float64 to uint8. Range [0, 1]. Convert image to uint8 prior to saving to suppress this warning.\n",
      "Lossy conversion from float64 to uint8. Range [0, 1]. Convert image to uint8 prior to saving to suppress this warning.\n"
     ]
    },
    {
     "name": "stdout",
     "output_type": "stream",
     "text": [
      "<class 'numpy.ndarray'>\n",
      "SHAPE:  (256, 256, 1)\n",
      "RANGE: [ 0.0 , 0.9596206822783528 ]\n",
      "herpes-simplex-virus-encephalitis-1(15).jpg\n",
      "<class 'numpy.ndarray'>\n",
      "SHAPE:  (256, 256, 1)\n",
      "RANGE: [ 0.0 , 0.9365759224408433 ]\n",
      "herpes-simplex-virus-encephalitis-1(16).jpg\n"
     ]
    },
    {
     "name": "stderr",
     "output_type": "stream",
     "text": [
      "Lossy conversion from float64 to uint8. Range [0, 1]. Convert image to uint8 prior to saving to suppress this warning.\n",
      "Lossy conversion from float64 to uint8. Range [0, 1]. Convert image to uint8 prior to saving to suppress this warning.\n"
     ]
    },
    {
     "name": "stdout",
     "output_type": "stream",
     "text": [
      "<class 'numpy.ndarray'>\n",
      "SHAPE:  (256, 256, 1)\n",
      "RANGE: [ 0.0 , 0.9396367453563421 ]\n",
      "herpes-simplex-virus-encephalitis-1(17).jpg\n",
      "<class 'numpy.ndarray'>\n",
      "SHAPE:  (256, 256, 1)\n",
      "RANGE: [ 0.0 , 0.9491519949117307 ]\n",
      "herpes-simplex-virus-encephalitis-1(2).jpg\n"
     ]
    },
    {
     "name": "stderr",
     "output_type": "stream",
     "text": [
      "Lossy conversion from float64 to uint8. Range [0, 1]. Convert image to uint8 prior to saving to suppress this warning.\n",
      "Lossy conversion from float64 to uint8. Range [0, 1]. Convert image to uint8 prior to saving to suppress this warning.\n"
     ]
    },
    {
     "name": "stdout",
     "output_type": "stream",
     "text": [
      "<class 'numpy.ndarray'>\n",
      "SHAPE:  (256, 256, 1)\n",
      "RANGE: [ 0.0 , 0.8724735687671216 ]\n",
      "herpes-simplex-virus-encephalitis-1(3).jpg\n",
      "<class 'numpy.ndarray'>\n",
      "SHAPE:  (256, 256, 1)\n",
      "RANGE: [ 0.0 , 0.9627432158320122 ]\n",
      "herpes-simplex-virus-encephalitis-1(4).jpg\n"
     ]
    },
    {
     "name": "stderr",
     "output_type": "stream",
     "text": [
      "Lossy conversion from float64 to uint8. Range [0, 1]. Convert image to uint8 prior to saving to suppress this warning.\n",
      "Lossy conversion from float64 to uint8. Range [0, 1]. Convert image to uint8 prior to saving to suppress this warning.\n"
     ]
    },
    {
     "name": "stdout",
     "output_type": "stream",
     "text": [
      "<class 'numpy.ndarray'>\n",
      "SHAPE:  (256, 256, 1)\n",
      "RANGE: [ 0.0 , 0.965829449301983 ]\n",
      "herpes-simplex-virus-encephalitis-1(5).jpg\n",
      "<class 'numpy.ndarray'>\n",
      "SHAPE:  (256, 256, 1)\n",
      "RANGE: [ 0.0 , 0.9531716850864573 ]\n",
      "herpes-simplex-virus-encephalitis-1(6).jpg\n"
     ]
    },
    {
     "name": "stderr",
     "output_type": "stream",
     "text": [
      "Lossy conversion from float64 to uint8. Range [0, 1]. Convert image to uint8 prior to saving to suppress this warning.\n",
      "Lossy conversion from float64 to uint8. Range [0, 1]. Convert image to uint8 prior to saving to suppress this warning.\n"
     ]
    },
    {
     "name": "stdout",
     "output_type": "stream",
     "text": [
      "<class 'numpy.ndarray'>\n",
      "SHAPE:  (256, 256, 1)\n",
      "RANGE: [ 0.0 , 0.9603284780955003 ]\n",
      "herpes-simplex-virus-encephalitis-1(7).jpg\n",
      "<class 'numpy.ndarray'>\n",
      "SHAPE:  (256, 256, 1)\n",
      "RANGE: [ 0.0 , 0.9610307694814748 ]\n",
      "herpes-simplex-virus-encephalitis-1(8).jpg\n"
     ]
    },
    {
     "name": "stderr",
     "output_type": "stream",
     "text": [
      "Lossy conversion from float64 to uint8. Range [0, 1]. Convert image to uint8 prior to saving to suppress this warning.\n",
      "Lossy conversion from float64 to uint8. Range [0, 1]. Convert image to uint8 prior to saving to suppress this warning.\n"
     ]
    },
    {
     "name": "stdout",
     "output_type": "stream",
     "text": [
      "<class 'numpy.ndarray'>\n",
      "SHAPE:  (256, 256, 1)\n",
      "RANGE: [ 0.0 , 0.9665931256516985 ]\n",
      "herpes-simplex-virus-encephalitis-1(9).jpg\n",
      "<class 'numpy.ndarray'>\n",
      "SHAPE:  (256, 256, 1)\n",
      "RANGE: [ 0.0 , 0.9199801038997208 ]\n"
     ]
    },
    {
     "name": "stderr",
     "output_type": "stream",
     "text": [
      "Lossy conversion from float64 to uint8. Range [0, 1]. Convert image to uint8 prior to saving to suppress this warning.\n"
     ]
    },
    {
     "name": "stdout",
     "output_type": "stream",
     "text": [
      "hsv-encephalitis-2.jpg\n",
      "<class 'numpy.ndarray'>\n",
      "SHAPE:  (256, 256, 1)\n",
      "RANGE: [ 6.205512102366213e-09 , 0.9999999947086262 ]\n"
     ]
    },
    {
     "name": "stderr",
     "output_type": "stream",
     "text": [
      "Lossy conversion from float64 to uint8. Range [0, 1]. Convert image to uint8 prior to saving to suppress this warning.\n"
     ]
    },
    {
     "name": "stdout",
     "output_type": "stream",
     "text": [
      "hsv-encephalitis-7.JPG\n",
      "<class 'numpy.ndarray'>\n",
      "SHAPE:  (256, 256, 1)\n",
      "RANGE: [ 0.0 , 0.9294117647058824 ]\n",
      "herpes-simplex-virus-hsv-encephalitis-4(1).jpg\n"
     ]
    },
    {
     "name": "stderr",
     "output_type": "stream",
     "text": [
      "Lossy conversion from float64 to uint8. Range [0, 1]. Convert image to uint8 prior to saving to suppress this warning.\n",
      "Lossy conversion from float64 to uint8. Range [0, 1]. Convert image to uint8 prior to saving to suppress this warning.\n"
     ]
    },
    {
     "name": "stdout",
     "output_type": "stream",
     "text": [
      "<class 'numpy.ndarray'>\n",
      "SHAPE:  (256, 256, 1)\n",
      "RANGE: [ 0.0 , 0.8996052033644336 ]\n",
      "herpes-simplex-virus-hsv-encephalitis-4(10).jpg\n",
      "<class 'numpy.ndarray'>\n",
      "SHAPE:  (256, 256, 1)\n",
      "RANGE: [ 0.0 , 0.9355639412158906 ]\n",
      "herpes-simplex-virus-hsv-encephalitis-4(11).jpg\n"
     ]
    },
    {
     "name": "stderr",
     "output_type": "stream",
     "text": [
      "Lossy conversion from float64 to uint8. Range [0, 1]. Convert image to uint8 prior to saving to suppress this warning.\n",
      "Lossy conversion from float64 to uint8. Range [0, 1]. Convert image to uint8 prior to saving to suppress this warning.\n"
     ]
    },
    {
     "name": "stdout",
     "output_type": "stream",
     "text": [
      "<class 'numpy.ndarray'>\n",
      "SHAPE:  (256, 256, 1)\n",
      "RANGE: [ 0.0 , 0.9142398273103503 ]\n",
      "herpes-simplex-virus-hsv-encephalitis-4(12).jpg\n",
      "<class 'numpy.ndarray'>\n",
      "SHAPE:  (256, 256, 1)\n",
      "RANGE: [ 0.0 , 0.9686373246111687 ]\n",
      "herpes-simplex-virus-hsv-encephalitis-4(13).jpg\n"
     ]
    },
    {
     "name": "stderr",
     "output_type": "stream",
     "text": [
      "Lossy conversion from float64 to uint8. Range [0, 1]. Convert image to uint8 prior to saving to suppress this warning.\n",
      "Lossy conversion from float64 to uint8. Range [0, 1]. Convert image to uint8 prior to saving to suppress this warning.\n"
     ]
    },
    {
     "name": "stdout",
     "output_type": "stream",
     "text": [
      "<class 'numpy.ndarray'>\n",
      "SHAPE:  (256, 256, 1)\n",
      "RANGE: [ 0.0 , 0.9715034585462221 ]\n",
      "herpes-simplex-virus-hsv-encephalitis-4(2).jpg\n",
      "<class 'numpy.ndarray'>\n",
      "SHAPE:  (256, 256, 1)\n",
      "RANGE: [ 0.0 , 0.9348856071823286 ]\n",
      "herpes-simplex-virus-hsv-encephalitis-4(3).jpg\n"
     ]
    },
    {
     "name": "stderr",
     "output_type": "stream",
     "text": [
      "Lossy conversion from float64 to uint8. Range [0, 1]. Convert image to uint8 prior to saving to suppress this warning.\n",
      "Lossy conversion from float64 to uint8. Range [0, 1]. Convert image to uint8 prior to saving to suppress this warning.\n"
     ]
    },
    {
     "name": "stdout",
     "output_type": "stream",
     "text": [
      "<class 'numpy.ndarray'>\n",
      "SHAPE:  (256, 256, 1)\n",
      "RANGE: [ 0.0 , 0.9249950994701771 ]\n",
      "herpes-simplex-virus-hsv-encephalitis-4(4).jpg\n",
      "<class 'numpy.ndarray'>\n",
      "SHAPE:  (256, 256, 1)\n",
      "RANGE: [ 0.0 , 0.9007956979800834 ]\n",
      "herpes-simplex-virus-hsv-encephalitis-4(5).jpg\n"
     ]
    },
    {
     "name": "stderr",
     "output_type": "stream",
     "text": [
      "Lossy conversion from float64 to uint8. Range [0, 1]. Convert image to uint8 prior to saving to suppress this warning.\n",
      "Lossy conversion from float64 to uint8. Range [0, 1]. Convert image to uint8 prior to saving to suppress this warning.\n"
     ]
    },
    {
     "name": "stdout",
     "output_type": "stream",
     "text": [
      "<class 'numpy.ndarray'>\n",
      "SHAPE:  (256, 256, 1)\n",
      "RANGE: [ 0.0 , 0.8913971113259085 ]\n",
      "herpes-simplex-virus-hsv-encephalitis-4(6).jpg\n",
      "<class 'numpy.ndarray'>\n",
      "SHAPE:  (256, 256, 1)\n",
      "RANGE: [ 0.0 , 0.8689863954195239 ]\n",
      "herpes-simplex-virus-hsv-encephalitis-4(7).jpg\n"
     ]
    },
    {
     "name": "stderr",
     "output_type": "stream",
     "text": [
      "Lossy conversion from float64 to uint8. Range [0, 1]. Convert image to uint8 prior to saving to suppress this warning.\n",
      "Lossy conversion from float64 to uint8. Range [0, 1]. Convert image to uint8 prior to saving to suppress this warning.\n"
     ]
    },
    {
     "name": "stdout",
     "output_type": "stream",
     "text": [
      "<class 'numpy.ndarray'>\n",
      "SHAPE:  (256, 256, 1)\n",
      "RANGE: [ 0.0 , 0.9062580733109938 ]\n",
      "herpes-simplex-virus-hsv-encephalitis-4(8).jpg\n",
      "<class 'numpy.ndarray'>\n",
      "SHAPE:  (256, 256, 1)\n",
      "RANGE: [ 0.0 , 0.9538272995288595 ]\n",
      "herpes-simplex-virus-hsv-encephalitis-4(9).jpg\n"
     ]
    },
    {
     "name": "stderr",
     "output_type": "stream",
     "text": [
      "Lossy conversion from float64 to uint8. Range [0, 1]. Convert image to uint8 prior to saving to suppress this warning.\n",
      "Lossy conversion from float64 to uint8. Range [0, 1]. Convert image to uint8 prior to saving to suppress this warning.\n"
     ]
    },
    {
     "name": "stdout",
     "output_type": "stream",
     "text": [
      "<class 'numpy.ndarray'>\n",
      "SHAPE:  (256, 256, 1)\n",
      "RANGE: [ 0.0 , 0.9254325832786543 ]\n",
      "herpes-simplex-virus-hsv-encephalitis-4(10).jpg\n",
      "<class 'numpy.ndarray'>\n",
      "SHAPE:  (256, 256, 1)\n",
      "RANGE: [ 0.0 , 0.9752459569903729 ]\n",
      "herpes-simplex-virus-hsv-encephalitis-4(11).jpg\n"
     ]
    },
    {
     "name": "stderr",
     "output_type": "stream",
     "text": [
      "Lossy conversion from float64 to uint8. Range [0, 1]. Convert image to uint8 prior to saving to suppress this warning.\n",
      "Lossy conversion from float64 to uint8. Range [0, 1]. Convert image to uint8 prior to saving to suppress this warning.\n"
     ]
    },
    {
     "name": "stdout",
     "output_type": "stream",
     "text": [
      "<class 'numpy.ndarray'>\n",
      "SHAPE:  (256, 256, 1)\n",
      "RANGE: [ 0.0 , 0.9839195109236352 ]\n",
      "herpes-simplex-virus-hsv-encephalitis-4(12).jpg\n",
      "<class 'numpy.ndarray'>\n",
      "SHAPE:  (256, 256, 1)\n",
      "RANGE: [ 0.0 , 0.979604633396205 ]\n",
      "herpes-simplex-virus-hsv-encephalitis-4(13).jpg\n"
     ]
    },
    {
     "name": "stderr",
     "output_type": "stream",
     "text": [
      "Lossy conversion from float64 to uint8. Range [0, 1]. Convert image to uint8 prior to saving to suppress this warning.\n",
      "Lossy conversion from float64 to uint8. Range [0, 1]. Convert image to uint8 prior to saving to suppress this warning.\n"
     ]
    },
    {
     "name": "stdout",
     "output_type": "stream",
     "text": [
      "<class 'numpy.ndarray'>\n",
      "SHAPE:  (256, 256, 1)\n",
      "RANGE: [ 0.0 , 0.9606192292054523 ]\n",
      "herpes-simplex-virus-hsv-encephalitis-4(14).jpg\n",
      "<class 'numpy.ndarray'>\n",
      "SHAPE:  (256, 256, 1)\n",
      "RANGE: [ 0.0 , 0.9595984958764272 ]\n",
      "herpes-simplex-virus-hsv-encephalitis-4(3).jpg\n"
     ]
    },
    {
     "name": "stderr",
     "output_type": "stream",
     "text": [
      "Lossy conversion from float64 to uint8. Range [0, 1]. Convert image to uint8 prior to saving to suppress this warning.\n",
      "Lossy conversion from float64 to uint8. Range [0, 1]. Convert image to uint8 prior to saving to suppress this warning.\n"
     ]
    },
    {
     "name": "stdout",
     "output_type": "stream",
     "text": [
      "<class 'numpy.ndarray'>\n",
      "SHAPE:  (256, 256, 1)\n",
      "RANGE: [ 0.0 , 0.944104413939456 ]\n",
      "herpes-simplex-virus-hsv-encephalitis-4(4).jpg\n",
      "<class 'numpy.ndarray'>\n",
      "SHAPE:  (256, 256, 1)\n",
      "RANGE: [ 0.0 , 0.9318189703630877 ]\n",
      "herpes-simplex-virus-hsv-encephalitis-4(5).jpg\n"
     ]
    },
    {
     "name": "stderr",
     "output_type": "stream",
     "text": [
      "Lossy conversion from float64 to uint8. Range [0, 1]. Convert image to uint8 prior to saving to suppress this warning.\n",
      "Lossy conversion from float64 to uint8. Range [0, 1]. Convert image to uint8 prior to saving to suppress this warning.\n"
     ]
    },
    {
     "name": "stdout",
     "output_type": "stream",
     "text": [
      "<class 'numpy.ndarray'>\n",
      "SHAPE:  (256, 256, 1)\n",
      "RANGE: [ 0.0 , 0.9242703397376133 ]\n",
      "herpes-simplex-virus-hsv-encephalitis-4(6).jpg\n",
      "<class 'numpy.ndarray'>\n",
      "SHAPE:  (256, 256, 1)\n",
      "RANGE: [ 0.0 , 0.9251760756308345 ]\n",
      "herpes-simplex-virus-hsv-encephalitis-4(7).jpg\n"
     ]
    },
    {
     "name": "stderr",
     "output_type": "stream",
     "text": [
      "Lossy conversion from float64 to uint8. Range [0, 1]. Convert image to uint8 prior to saving to suppress this warning.\n",
      "Lossy conversion from float64 to uint8. Range [0, 1]. Convert image to uint8 prior to saving to suppress this warning.\n"
     ]
    },
    {
     "name": "stdout",
     "output_type": "stream",
     "text": [
      "<class 'numpy.ndarray'>\n",
      "SHAPE:  (256, 256, 1)\n",
      "RANGE: [ 0.0 , 0.9370530701381975 ]\n",
      "herpes-simplex-virus-hsv-encephalitis-4(8).jpg\n",
      "<class 'numpy.ndarray'>\n",
      "SHAPE:  (256, 256, 1)\n",
      "RANGE: [ 0.0 , 0.94389994047453 ]\n",
      "herpes-simplex-virus-hsv-encephalitis-4(9).jpg\n"
     ]
    },
    {
     "name": "stderr",
     "output_type": "stream",
     "text": [
      "Lossy conversion from float64 to uint8. Range [0, 1]. Convert image to uint8 prior to saving to suppress this warning.\n",
      "Lossy conversion from float64 to uint8. Range [0, 1]. Convert image to uint8 prior to saving to suppress this warning.\n"
     ]
    },
    {
     "name": "stdout",
     "output_type": "stream",
     "text": [
      "<class 'numpy.ndarray'>\n",
      "SHAPE:  (256, 256, 1)\n",
      "RANGE: [ 0.0 , 0.9503706989095504 ]\n",
      "herpes-simplex-virus-hsv-encephalitis-4(1).jpg\n",
      "<class 'numpy.ndarray'>\n",
      "SHAPE:  (256, 256, 1)\n",
      "RANGE: [ 0.0 , 0.9584473066047284 ]\n",
      "herpes-simplex-virus-hsv-encephalitis-4(10).jpg\n"
     ]
    },
    {
     "name": "stderr",
     "output_type": "stream",
     "text": [
      "Lossy conversion from float64 to uint8. Range [0, 1]. Convert image to uint8 prior to saving to suppress this warning.\n",
      "Lossy conversion from float64 to uint8. Range [0, 1]. Convert image to uint8 prior to saving to suppress this warning.\n"
     ]
    },
    {
     "name": "stdout",
     "output_type": "stream",
     "text": [
      "<class 'numpy.ndarray'>\n",
      "SHAPE:  (256, 256, 1)\n",
      "RANGE: [ 0.0 , 0.9639007046358523 ]\n",
      "herpes-simplex-virus-hsv-encephalitis-4(11).jpg\n",
      "<class 'numpy.ndarray'>\n",
      "SHAPE:  (256, 256, 1)\n",
      "RANGE: [ 0.0 , 0.9620556958972863 ]\n",
      "herpes-simplex-virus-hsv-encephalitis-4(12).jpg\n"
     ]
    },
    {
     "name": "stderr",
     "output_type": "stream",
     "text": [
      "Lossy conversion from float64 to uint8. Range [0, 1]. Convert image to uint8 prior to saving to suppress this warning.\n",
      "Lossy conversion from float64 to uint8. Range [0, 1]. Convert image to uint8 prior to saving to suppress this warning.\n"
     ]
    },
    {
     "name": "stdout",
     "output_type": "stream",
     "text": [
      "<class 'numpy.ndarray'>\n",
      "SHAPE:  (256, 256, 1)\n",
      "RANGE: [ 0.0 , 0.932437735984095 ]\n",
      "herpes-simplex-virus-hsv-encephalitis-4(13).jpg\n",
      "<class 'numpy.ndarray'>\n",
      "SHAPE:  (256, 256, 1)\n",
      "RANGE: [ 0.0 , 0.9705128713650433 ]\n",
      "herpes-simplex-virus-hsv-encephalitis-4(14).jpg\n"
     ]
    },
    {
     "name": "stderr",
     "output_type": "stream",
     "text": [
      "Lossy conversion from float64 to uint8. Range [0, 1]. Convert image to uint8 prior to saving to suppress this warning.\n",
      "Lossy conversion from float64 to uint8. Range [0, 1]. Convert image to uint8 prior to saving to suppress this warning.\n"
     ]
    },
    {
     "name": "stdout",
     "output_type": "stream",
     "text": [
      "<class 'numpy.ndarray'>\n",
      "SHAPE:  (256, 256, 1)\n",
      "RANGE: [ 0.0 , 0.9596206822783528 ]\n",
      "herpes-simplex-virus-hsv-encephalitis-4(15).jpg\n",
      "<class 'numpy.ndarray'>\n",
      "SHAPE:  (256, 256, 1)\n",
      "RANGE: [ 0.0 , 0.9365759224408433 ]\n",
      "herpes-simplex-virus-hsv-encephalitis-4(16).jpg\n"
     ]
    },
    {
     "name": "stderr",
     "output_type": "stream",
     "text": [
      "Lossy conversion from float64 to uint8. Range [0, 1]. Convert image to uint8 prior to saving to suppress this warning.\n",
      "Lossy conversion from float64 to uint8. Range [0, 1]. Convert image to uint8 prior to saving to suppress this warning.\n"
     ]
    },
    {
     "name": "stdout",
     "output_type": "stream",
     "text": [
      "<class 'numpy.ndarray'>\n",
      "SHAPE:  (256, 256, 1)\n",
      "RANGE: [ 0.0 , 0.9396367453563421 ]\n",
      "herpes-simplex-virus-hsv-encephalitis-4(17).jpg\n",
      "<class 'numpy.ndarray'>\n",
      "SHAPE:  (256, 256, 1)\n",
      "RANGE: [ 0.0 , 0.9491519949117307 ]\n",
      "herpes-simplex-virus-hsv-encephalitis-4(2).jpg\n"
     ]
    },
    {
     "name": "stderr",
     "output_type": "stream",
     "text": [
      "Lossy conversion from float64 to uint8. Range [0, 1]. Convert image to uint8 prior to saving to suppress this warning.\n",
      "Lossy conversion from float64 to uint8. Range [0, 1]. Convert image to uint8 prior to saving to suppress this warning.\n"
     ]
    },
    {
     "name": "stdout",
     "output_type": "stream",
     "text": [
      "<class 'numpy.ndarray'>\n",
      "SHAPE:  (256, 256, 1)\n",
      "RANGE: [ 0.0 , 0.8724735687671216 ]\n",
      "herpes-simplex-virus-hsv-encephalitis-4(3).jpg\n",
      "<class 'numpy.ndarray'>\n",
      "SHAPE:  (256, 256, 1)\n",
      "RANGE: [ 0.0 , 0.9627432158320122 ]\n",
      "herpes-simplex-virus-hsv-encephalitis-4(4).jpg\n"
     ]
    },
    {
     "name": "stderr",
     "output_type": "stream",
     "text": [
      "Lossy conversion from float64 to uint8. Range [0, 1]. Convert image to uint8 prior to saving to suppress this warning.\n",
      "Lossy conversion from float64 to uint8. Range [0, 1]. Convert image to uint8 prior to saving to suppress this warning.\n"
     ]
    },
    {
     "name": "stdout",
     "output_type": "stream",
     "text": [
      "<class 'numpy.ndarray'>\n",
      "SHAPE:  (256, 256, 1)\n",
      "RANGE: [ 0.0 , 0.965829449301983 ]\n",
      "herpes-simplex-virus-hsv-encephalitis-4(5).jpg\n",
      "<class 'numpy.ndarray'>\n",
      "SHAPE:  (256, 256, 1)\n",
      "RANGE: [ 0.0 , 0.9531716850864573 ]\n",
      "herpes-simplex-virus-hsv-encephalitis-4(6).jpg\n"
     ]
    },
    {
     "name": "stderr",
     "output_type": "stream",
     "text": [
      "Lossy conversion from float64 to uint8. Range [0, 1]. Convert image to uint8 prior to saving to suppress this warning.\n",
      "Lossy conversion from float64 to uint8. Range [0, 1]. Convert image to uint8 prior to saving to suppress this warning.\n"
     ]
    },
    {
     "name": "stdout",
     "output_type": "stream",
     "text": [
      "<class 'numpy.ndarray'>\n",
      "SHAPE:  (256, 256, 1)\n",
      "RANGE: [ 0.0 , 0.9603284780955003 ]\n",
      "herpes-simplex-virus-hsv-encephalitis-4(7).jpg\n",
      "<class 'numpy.ndarray'>\n",
      "SHAPE:  (256, 256, 1)\n",
      "RANGE: [ 0.0 , 0.9610307694814748 ]\n",
      "herpes-simplex-virus-hsv-encephalitis-4(8).jpg\n"
     ]
    },
    {
     "name": "stderr",
     "output_type": "stream",
     "text": [
      "Lossy conversion from float64 to uint8. Range [0, 1]. Convert image to uint8 prior to saving to suppress this warning.\n",
      "Lossy conversion from float64 to uint8. Range [0, 1]. Convert image to uint8 prior to saving to suppress this warning.\n"
     ]
    },
    {
     "name": "stdout",
     "output_type": "stream",
     "text": [
      "<class 'numpy.ndarray'>\n",
      "SHAPE:  (256, 256, 1)\n",
      "RANGE: [ 0.0 , 0.9665931256516985 ]\n",
      "herpes-simplex-virus-hsv-encephalitis-4(9).jpg\n",
      "<class 'numpy.ndarray'>\n",
      "SHAPE:  (256, 256, 1)\n",
      "RANGE: [ 0.0 , 0.9199801038997208 ]\n",
      "herpes-encephalitis-with-thalamic-involvement-4(1).jpg\n"
     ]
    },
    {
     "name": "stderr",
     "output_type": "stream",
     "text": [
      "Lossy conversion from float64 to uint8. Range [0, 1]. Convert image to uint8 prior to saving to suppress this warning.\n",
      "Lossy conversion from float64 to uint8. Range [0, 1]. Convert image to uint8 prior to saving to suppress this warning.\n"
     ]
    },
    {
     "name": "stdout",
     "output_type": "stream",
     "text": [
      "<class 'numpy.ndarray'>\n",
      "SHAPE:  (256, 256, 1)\n",
      "RANGE: [ 0.0 , 0.9949483192585891 ]\n",
      "herpes-encephalitis-with-thalamic-involvement-4(10).jpg\n",
      "<class 'numpy.ndarray'>\n",
      "SHAPE:  (256, 256, 1)\n",
      "RANGE: [ 0.0 , 0.9945020372582485 ]\n",
      "herpes-encephalitis-with-thalamic-involvement-4(11).jpg\n"
     ]
    },
    {
     "name": "stderr",
     "output_type": "stream",
     "text": [
      "Lossy conversion from float64 to uint8. Range [0, 1]. Convert image to uint8 prior to saving to suppress this warning.\n",
      "Lossy conversion from float64 to uint8. Range [0, 1]. Convert image to uint8 prior to saving to suppress this warning.\n"
     ]
    },
    {
     "name": "stdout",
     "output_type": "stream",
     "text": [
      "<class 'numpy.ndarray'>\n",
      "SHAPE:  (256, 256, 1)\n",
      "RANGE: [ 0.0 , 0.9925501921253925 ]\n",
      "herpes-encephalitis-with-thalamic-involvement-4(12).jpg\n",
      "<class 'numpy.ndarray'>\n",
      "SHAPE:  (256, 256, 1)\n",
      "RANGE: [ 0.0 , 0.9953047578547385 ]\n",
      "herpes-encephalitis-with-thalamic-involvement-4(13).jpg\n"
     ]
    },
    {
     "name": "stderr",
     "output_type": "stream",
     "text": [
      "Lossy conversion from float64 to uint8. Range [0, 1]. Convert image to uint8 prior to saving to suppress this warning.\n",
      "Lossy conversion from float64 to uint8. Range [0, 1]. Convert image to uint8 prior to saving to suppress this warning.\n"
     ]
    },
    {
     "name": "stdout",
     "output_type": "stream",
     "text": [
      "<class 'numpy.ndarray'>\n",
      "SHAPE:  (256, 256, 1)\n",
      "RANGE: [ 0.0 , 0.9949073221213534 ]\n",
      "herpes-encephalitis-with-thalamic-involvement-4(14).jpg\n",
      "<class 'numpy.ndarray'>\n",
      "SHAPE:  (256, 256, 1)\n",
      "RANGE: [ 0.0 , 0.9945291653445067 ]\n",
      "herpes-encephalitis-with-thalamic-involvement-4(15).jpg\n"
     ]
    },
    {
     "name": "stderr",
     "output_type": "stream",
     "text": [
      "Lossy conversion from float64 to uint8. Range [0, 1]. Convert image to uint8 prior to saving to suppress this warning.\n",
      "Lossy conversion from float64 to uint8. Range [0, 1]. Convert image to uint8 prior to saving to suppress this warning.\n"
     ]
    },
    {
     "name": "stdout",
     "output_type": "stream",
     "text": [
      "<class 'numpy.ndarray'>\n",
      "SHAPE:  (256, 256, 1)\n",
      "RANGE: [ 0.0 , 0.996503382841117 ]\n",
      "herpes-encephalitis-with-thalamic-involvement-4(16).jpg\n",
      "<class 'numpy.ndarray'>\n",
      "SHAPE:  (256, 256, 1)\n",
      "RANGE: [ 0.0 , 0.9985845704649057 ]\n",
      "herpes-encephalitis-with-thalamic-involvement-4(17).jpg\n"
     ]
    },
    {
     "name": "stderr",
     "output_type": "stream",
     "text": [
      "Lossy conversion from float64 to uint8. Range [0, 1]. Convert image to uint8 prior to saving to suppress this warning.\n",
      "Lossy conversion from float64 to uint8. Range [0, 1]. Convert image to uint8 prior to saving to suppress this warning.\n"
     ]
    },
    {
     "name": "stdout",
     "output_type": "stream",
     "text": [
      "<class 'numpy.ndarray'>\n",
      "SHAPE:  (256, 256, 1)\n",
      "RANGE: [ 0.0 , 0.998479387353403 ]\n",
      "herpes-encephalitis-with-thalamic-involvement-4(2).jpg\n",
      "<class 'numpy.ndarray'>\n",
      "SHAPE:  (256, 256, 1)\n",
      "RANGE: [ 0.0 , 0.996176227001666 ]\n",
      "herpes-encephalitis-with-thalamic-involvement-4(3).jpg\n"
     ]
    },
    {
     "name": "stderr",
     "output_type": "stream",
     "text": [
      "Lossy conversion from float64 to uint8. Range [0, 1]. Convert image to uint8 prior to saving to suppress this warning.\n",
      "Lossy conversion from float64 to uint8. Range [0, 1]. Convert image to uint8 prior to saving to suppress this warning.\n"
     ]
    },
    {
     "name": "stdout",
     "output_type": "stream",
     "text": [
      "<class 'numpy.ndarray'>\n",
      "SHAPE:  (256, 256, 1)\n",
      "RANGE: [ 0.0 , 0.9981423273089411 ]\n",
      "herpes-encephalitis-with-thalamic-involvement-4(4).jpg\n",
      "<class 'numpy.ndarray'>\n",
      "SHAPE:  (256, 256, 1)\n",
      "RANGE: [ 0.0 , 0.998167130634938 ]\n",
      "herpes-encephalitis-with-thalamic-involvement-4(5).jpg\n"
     ]
    },
    {
     "name": "stderr",
     "output_type": "stream",
     "text": [
      "Lossy conversion from float64 to uint8. Range [0, 1]. Convert image to uint8 prior to saving to suppress this warning.\n",
      "Lossy conversion from float64 to uint8. Range [0, 1]. Convert image to uint8 prior to saving to suppress this warning.\n"
     ]
    },
    {
     "name": "stdout",
     "output_type": "stream",
     "text": [
      "<class 'numpy.ndarray'>\n",
      "SHAPE:  (256, 256, 1)\n",
      "RANGE: [ 0.0 , 0.9959373705871456 ]\n",
      "herpes-encephalitis-with-thalamic-involvement-4(6).jpg\n",
      "<class 'numpy.ndarray'>\n",
      "SHAPE:  (256, 256, 1)\n",
      "RANGE: [ 0.0 , 0.997136313071054 ]\n",
      "herpes-encephalitis-with-thalamic-involvement-4(7).jpg\n"
     ]
    },
    {
     "name": "stderr",
     "output_type": "stream",
     "text": [
      "Lossy conversion from float64 to uint8. Range [0, 1]. Convert image to uint8 prior to saving to suppress this warning.\n",
      "Lossy conversion from float64 to uint8. Range [0, 1]. Convert image to uint8 prior to saving to suppress this warning.\n"
     ]
    },
    {
     "name": "stdout",
     "output_type": "stream",
     "text": [
      "<class 'numpy.ndarray'>\n",
      "SHAPE:  (256, 256, 1)\n",
      "RANGE: [ 2.8643392042871083e-07 , 0.9878037112386864 ]\n",
      "herpes-encephalitis-with-thalamic-involvement-4(8).jpg\n",
      "<class 'numpy.ndarray'>\n",
      "SHAPE:  (256, 256, 1)\n",
      "RANGE: [ 5.72663062087163e-07 , 0.9898598421228155 ]\n",
      "herpes-encephalitis-with-thalamic-involvement-4(9).jpg\n"
     ]
    },
    {
     "name": "stderr",
     "output_type": "stream",
     "text": [
      "Lossy conversion from float64 to uint8. Range [0, 1]. Convert image to uint8 prior to saving to suppress this warning.\n",
      "Lossy conversion from float64 to uint8. Range [0, 1]. Convert image to uint8 prior to saving to suppress this warning.\n"
     ]
    },
    {
     "name": "stdout",
     "output_type": "stream",
     "text": [
      "<class 'numpy.ndarray'>\n",
      "SHAPE:  (256, 256, 1)\n",
      "RANGE: [ 0.0 , 0.9945464977280245 ]\n",
      "herpes-encephalitis-with-thalamic-involvement-4.jpg\n",
      "<class 'numpy.ndarray'>\n",
      "SHAPE:  (256, 256, 1)\n",
      "RANGE: [ 0.0 , 0.9932078588425652 ]\n",
      "herpes-encephalitis-with-thalamic-involvement-4(1).jpg\n"
     ]
    },
    {
     "name": "stderr",
     "output_type": "stream",
     "text": [
      "Lossy conversion from float64 to uint8. Range [0, 1]. Convert image to uint8 prior to saving to suppress this warning.\n",
      "Lossy conversion from float64 to uint8. Range [0, 1]. Convert image to uint8 prior to saving to suppress this warning.\n"
     ]
    },
    {
     "name": "stdout",
     "output_type": "stream",
     "text": [
      "<class 'numpy.ndarray'>\n",
      "SHAPE:  (256, 256, 1)\n",
      "RANGE: [ 5.451251780143522e-07 , 1.0 ]\n",
      "herpes-encephalitis-with-thalamic-involvement-4(10).jpg\n",
      "<class 'numpy.ndarray'>\n",
      "SHAPE:  (256, 256, 1)\n",
      "RANGE: [ 0.0 , 0.9959818765240696 ]\n",
      "herpes-encephalitis-with-thalamic-involvement-4(11).jpg\n"
     ]
    },
    {
     "name": "stderr",
     "output_type": "stream",
     "text": [
      "Lossy conversion from float64 to uint8. Range [0, 1]. Convert image to uint8 prior to saving to suppress this warning.\n",
      "Lossy conversion from float64 to uint8. Range [0, 1]. Convert image to uint8 prior to saving to suppress this warning.\n"
     ]
    },
    {
     "name": "stdout",
     "output_type": "stream",
     "text": [
      "<class 'numpy.ndarray'>\n",
      "SHAPE:  (256, 256, 1)\n",
      "RANGE: [ 0.0 , 0.9929645184395933 ]\n",
      "herpes-encephalitis-with-thalamic-involvement-4(12).jpg\n",
      "<class 'numpy.ndarray'>\n",
      "SHAPE:  (256, 256, 1)\n",
      "RANGE: [ 0.0 , 0.9934839355239872 ]\n",
      "herpes-encephalitis-with-thalamic-involvement-4(13).jpg\n"
     ]
    },
    {
     "name": "stderr",
     "output_type": "stream",
     "text": [
      "Lossy conversion from float64 to uint8. Range [0, 1]. Convert image to uint8 prior to saving to suppress this warning.\n",
      "Lossy conversion from float64 to uint8. Range [0, 1]. Convert image to uint8 prior to saving to suppress this warning.\n"
     ]
    },
    {
     "name": "stdout",
     "output_type": "stream",
     "text": [
      "<class 'numpy.ndarray'>\n",
      "SHAPE:  (256, 256, 1)\n",
      "RANGE: [ 0.0 , 0.9983294896830167 ]\n",
      "herpes-encephalitis-with-thalamic-involvement-4(14).jpg\n",
      "<class 'numpy.ndarray'>\n",
      "SHAPE:  (256, 256, 1)\n",
      "RANGE: [ 0.0 , 0.9967392015746228 ]\n",
      "herpes-encephalitis-with-thalamic-involvement-4(15).jpg\n"
     ]
    },
    {
     "name": "stderr",
     "output_type": "stream",
     "text": [
      "Lossy conversion from float64 to uint8. Range [0, 1]. Convert image to uint8 prior to saving to suppress this warning.\n",
      "Lossy conversion from float64 to uint8. Range [0, 1]. Convert image to uint8 prior to saving to suppress this warning.\n"
     ]
    },
    {
     "name": "stdout",
     "output_type": "stream",
     "text": [
      "<class 'numpy.ndarray'>\n",
      "SHAPE:  (256, 256, 1)\n",
      "RANGE: [ 0.0 , 0.998900208260256 ]\n",
      "herpes-encephalitis-with-thalamic-involvement-4(16).jpg\n",
      "<class 'numpy.ndarray'>\n",
      "SHAPE:  (256, 256, 1)\n",
      "RANGE: [ 0.0 , 0.9985950485772335 ]\n",
      "herpes-encephalitis-with-thalamic-involvement-4(17).jpg\n"
     ]
    },
    {
     "name": "stderr",
     "output_type": "stream",
     "text": [
      "Lossy conversion from float64 to uint8. Range [0, 1]. Convert image to uint8 prior to saving to suppress this warning.\n",
      "Lossy conversion from float64 to uint8. Range [0, 1]. Convert image to uint8 prior to saving to suppress this warning.\n"
     ]
    },
    {
     "name": "stdout",
     "output_type": "stream",
     "text": [
      "<class 'numpy.ndarray'>\n",
      "SHAPE:  (256, 256, 1)\n",
      "RANGE: [ 0.0 , 0.9988750324887838 ]\n",
      "herpes-encephalitis-with-thalamic-involvement-4(2).jpg\n",
      "<class 'numpy.ndarray'>\n",
      "SHAPE:  (256, 256, 1)\n",
      "RANGE: [ 1.0347650303425653e-06 , 0.999354228428167 ]\n",
      "herpes-encephalitis-with-thalamic-involvement-4(3).jpg\n"
     ]
    },
    {
     "name": "stderr",
     "output_type": "stream",
     "text": [
      "Lossy conversion from float64 to uint8. Range [0, 1]. Convert image to uint8 prior to saving to suppress this warning.\n",
      "Lossy conversion from float64 to uint8. Range [0, 1]. Convert image to uint8 prior to saving to suppress this warning.\n"
     ]
    },
    {
     "name": "stdout",
     "output_type": "stream",
     "text": [
      "<class 'numpy.ndarray'>\n",
      "SHAPE:  (256, 256, 1)\n",
      "RANGE: [ 5.726630620871629e-07 , 0.9971657575259276 ]\n",
      "herpes-encephalitis-with-thalamic-involvement-4(4).jpg\n",
      "<class 'numpy.ndarray'>\n",
      "SHAPE:  (256, 256, 1)\n",
      "RANGE: [ 0.0 , 0.9990995106579625 ]\n",
      "herpes-encephalitis-with-thalamic-involvement-4(5).jpg\n"
     ]
    },
    {
     "name": "stderr",
     "output_type": "stream",
     "text": [
      "Lossy conversion from float64 to uint8. Range [0, 1]. Convert image to uint8 prior to saving to suppress this warning.\n",
      "Lossy conversion from float64 to uint8. Range [0, 1]. Convert image to uint8 prior to saving to suppress this warning.\n"
     ]
    },
    {
     "name": "stdout",
     "output_type": "stream",
     "text": [
      "<class 'numpy.ndarray'>\n",
      "SHAPE:  (256, 256, 1)\n",
      "RANGE: [ 0.0 , 0.9884403176134957 ]\n",
      "herpes-encephalitis-with-thalamic-involvement-4(6).jpg\n",
      "<class 'numpy.ndarray'>\n",
      "SHAPE:  (256, 256, 1)\n",
      "RANGE: [ 5.548532568613906e-08 , 0.9917079687124277 ]\n",
      "herpes-encephalitis-with-thalamic-involvement-4(7).jpg\n"
     ]
    },
    {
     "name": "stderr",
     "output_type": "stream",
     "text": [
      "Lossy conversion from float64 to uint8. Range [0, 1]. Convert image to uint8 prior to saving to suppress this warning.\n",
      "Lossy conversion from float64 to uint8. Range [0, 1]. Convert image to uint8 prior to saving to suppress this warning.\n"
     ]
    },
    {
     "name": "stdout",
     "output_type": "stream",
     "text": [
      "<class 'numpy.ndarray'>\n",
      "SHAPE:  (256, 256, 1)\n",
      "RANGE: [ 0.0 , 0.993478088017889 ]\n",
      "herpes-encephalitis-with-thalamic-involvement-4(8).jpg\n",
      "<class 'numpy.ndarray'>\n",
      "SHAPE:  (256, 256, 1)\n",
      "RANGE: [ 0.0 , 0.9948694425777282 ]\n",
      "herpes-encephalitis-with-thalamic-involvement-4(9).jpg\n"
     ]
    },
    {
     "name": "stderr",
     "output_type": "stream",
     "text": [
      "Lossy conversion from float64 to uint8. Range [0, 1]. Convert image to uint8 prior to saving to suppress this warning.\n",
      "Lossy conversion from float64 to uint8. Range [0, 1]. Convert image to uint8 prior to saving to suppress this warning.\n"
     ]
    },
    {
     "name": "stdout",
     "output_type": "stream",
     "text": [
      "<class 'numpy.ndarray'>\n",
      "SHAPE:  (256, 256, 1)\n",
      "RANGE: [ 0.0 , 0.9905072857028371 ]\n",
      "herpes-encephalitis-with-thalamic-involvement-4.jpg\n",
      "<class 'numpy.ndarray'>\n",
      "SHAPE:  (256, 256, 1)\n",
      "RANGE: [ 0.0 , 0.9922470048244092 ]\n",
      "herpes-encephalitis-with-thalamic-involvement-4(10).jpg\n"
     ]
    },
    {
     "name": "stderr",
     "output_type": "stream",
     "text": [
      "Lossy conversion from float64 to uint8. Range [0, 1]. Convert image to uint8 prior to saving to suppress this warning.\n",
      "Lossy conversion from float64 to uint8. Range [0, 1]. Convert image to uint8 prior to saving to suppress this warning.\n"
     ]
    },
    {
     "name": "stdout",
     "output_type": "stream",
     "text": [
      "<class 'numpy.ndarray'>\n",
      "SHAPE:  (256, 256, 1)\n",
      "RANGE: [ 2.46558466248717e-05 , 0.999996266157929 ]\n",
      "herpes-encephalitis-with-thalamic-involvement-4(11).jpg\n",
      "<class 'numpy.ndarray'>\n",
      "SHAPE:  (256, 256, 1)\n",
      "RANGE: [ 3.681869845057704e-06 , 0.9950924733955377 ]\n",
      "herpes-encephalitis-with-thalamic-involvement-4(12).jpg\n"
     ]
    },
    {
     "name": "stderr",
     "output_type": "stream",
     "text": [
      "Lossy conversion from float64 to uint8. Range [0, 1]. Convert image to uint8 prior to saving to suppress this warning.\n",
      "Lossy conversion from float64 to uint8. Range [0, 1]. Convert image to uint8 prior to saving to suppress this warning.\n"
     ]
    },
    {
     "name": "stdout",
     "output_type": "stream",
     "text": [
      "<class 'numpy.ndarray'>\n",
      "SHAPE:  (256, 256, 1)\n",
      "RANGE: [ 5.495980508882176e-06 , 0.9971035877259431 ]\n",
      "herpes-encephalitis-with-thalamic-involvement-4(13).jpg\n",
      "<class 'numpy.ndarray'>\n",
      "SHAPE:  (256, 256, 1)\n",
      "RANGE: [ 8.855177569604034e-06 , 0.9944754311007654 ]\n",
      "herpes-encephalitis-with-thalamic-involvement-4(14).jpg\n"
     ]
    },
    {
     "name": "stderr",
     "output_type": "stream",
     "text": [
      "Lossy conversion from float64 to uint8. Range [0, 1]. Convert image to uint8 prior to saving to suppress this warning.\n",
      "Lossy conversion from float64 to uint8. Range [0, 1]. Convert image to uint8 prior to saving to suppress this warning.\n"
     ]
    },
    {
     "name": "stdout",
     "output_type": "stream",
     "text": [
      "<class 'numpy.ndarray'>\n",
      "SHAPE:  (256, 256, 1)\n",
      "RANGE: [ 4.505713502018356e-06 , 0.9967181476007563 ]\n",
      "herpes-encephalitis-with-thalamic-involvement-4(15).jpg\n",
      "<class 'numpy.ndarray'>\n",
      "SHAPE:  (256, 256, 1)\n",
      "RANGE: [ 1.4569368194432382e-05 , 0.9992749752693324 ]\n",
      "herpes-encephalitis-with-thalamic-involvement-4(16).jpg\n"
     ]
    },
    {
     "name": "stderr",
     "output_type": "stream",
     "text": [
      "Lossy conversion from float64 to uint8. Range [0, 1]. Convert image to uint8 prior to saving to suppress this warning.\n",
      "Lossy conversion from float64 to uint8. Range [0, 1]. Convert image to uint8 prior to saving to suppress this warning.\n"
     ]
    },
    {
     "name": "stdout",
     "output_type": "stream",
     "text": [
      "<class 'numpy.ndarray'>\n",
      "SHAPE:  (256, 256, 1)\n",
      "RANGE: [ 2.1505793328240064e-05 , 0.9999992432733877 ]\n",
      "herpes-encephalitis-with-thalamic-involvement-4(17).jpg\n",
      "<class 'numpy.ndarray'>\n",
      "SHAPE:  (256, 256, 1)\n",
      "RANGE: [ 6.922415268981418e-06 , 0.9983764414101517 ]\n",
      "herpes-encephalitis-with-thalamic-involvement-4(18).jpg\n"
     ]
    },
    {
     "name": "stderr",
     "output_type": "stream",
     "text": [
      "Lossy conversion from float64 to uint8. Range [0, 1]. Convert image to uint8 prior to saving to suppress this warning.\n",
      "Lossy conversion from float64 to uint8. Range [0, 1]. Convert image to uint8 prior to saving to suppress this warning.\n"
     ]
    },
    {
     "name": "stdout",
     "output_type": "stream",
     "text": [
      "<class 'numpy.ndarray'>\n",
      "SHAPE:  (256, 256, 1)\n",
      "RANGE: [ 3.461141584824695e-06 , 0.9984915913540584 ]\n",
      "herpes-encephalitis-with-thalamic-involvement-4(19).jpg\n",
      "<class 'numpy.ndarray'>\n",
      "SHAPE:  (256, 256, 1)\n",
      "RANGE: [ 1.579905407820077e-05 , 0.9993365817075518 ]\n",
      "herpes-encephalitis-with-thalamic-involvement-4(20).jpg\n"
     ]
    },
    {
     "name": "stderr",
     "output_type": "stream",
     "text": [
      "Lossy conversion from float64 to uint8. Range [0, 1]. Convert image to uint8 prior to saving to suppress this warning.\n",
      "Lossy conversion from float64 to uint8. Range [0, 1]. Convert image to uint8 prior to saving to suppress this warning.\n"
     ]
    },
    {
     "name": "stdout",
     "output_type": "stream",
     "text": [
      "<class 'numpy.ndarray'>\n",
      "SHAPE:  (256, 256, 1)\n",
      "RANGE: [ 5.18116530816921e-08 , 0.9999999100313823 ]\n",
      "herpes-encephalitis-with-thalamic-involvement-4(21).jpg\n",
      "<class 'numpy.ndarray'>\n",
      "SHAPE:  (256, 256, 1)\n",
      "RANGE: [ 1.9302844907972073e-06 , 0.9999997926819252 ]\n",
      "herpes-encephalitis-with-thalamic-involvement-4(22).jpg\n"
     ]
    },
    {
     "name": "stderr",
     "output_type": "stream",
     "text": [
      "Lossy conversion from float64 to uint8. Range [0, 1]. Convert image to uint8 prior to saving to suppress this warning.\n",
      "Lossy conversion from float64 to uint8. Range [0, 1]. Convert image to uint8 prior to saving to suppress this warning.\n"
     ]
    },
    {
     "name": "stdout",
     "output_type": "stream",
     "text": [
      "<class 'numpy.ndarray'>\n",
      "SHAPE:  (256, 256, 1)\n",
      "RANGE: [ 2.1069132810901805e-08 , 0.9978708438968663 ]\n",
      "herpes-encephalitis-with-thalamic-involvement-4(4).jpg\n",
      "<class 'numpy.ndarray'>\n",
      "SHAPE:  (256, 256, 1)\n",
      "RANGE: [ 5.1811653081692105e-08 , 0.9981282839401117 ]\n",
      "herpes-encephalitis-with-thalamic-involvement-4(5).jpg\n"
     ]
    },
    {
     "name": "stderr",
     "output_type": "stream",
     "text": [
      "Lossy conversion from float64 to uint8. Range [0, 1]. Convert image to uint8 prior to saving to suppress this warning.\n",
      "Lossy conversion from float64 to uint8. Range [0, 1]. Convert image to uint8 prior to saving to suppress this warning.\n"
     ]
    },
    {
     "name": "stdout",
     "output_type": "stream",
     "text": [
      "<class 'numpy.ndarray'>\n",
      "SHAPE:  (256, 256, 1)\n",
      "RANGE: [ 5.1811653081692105e-08 , 0.9999998564071826 ]\n",
      "herpes-encephalitis-with-thalamic-involvement-4(6).jpg\n",
      "<class 'numpy.ndarray'>\n",
      "SHAPE:  (256, 256, 1)\n",
      "RANGE: [ 5.18116530816921e-08 , 0.9963678738350519 ]\n",
      "herpes-encephalitis-with-thalamic-involvement-4(7).jpg\n"
     ]
    },
    {
     "name": "stderr",
     "output_type": "stream",
     "text": [
      "Lossy conversion from float64 to uint8. Range [0, 1]. Convert image to uint8 prior to saving to suppress this warning.\n",
      "Lossy conversion from float64 to uint8. Range [0, 1]. Convert image to uint8 prior to saving to suppress this warning.\n"
     ]
    },
    {
     "name": "stdout",
     "output_type": "stream",
     "text": [
      "<class 'numpy.ndarray'>\n",
      "SHAPE:  (256, 256, 1)\n",
      "RANGE: [ 6.779692656535305e-07 , 0.9960758793761086 ]\n",
      "herpes-encephalitis-with-thalamic-involvement-4(8).jpg\n",
      "<class 'numpy.ndarray'>\n",
      "SHAPE:  (256, 256, 1)\n",
      "RANGE: [ 1.9980064025094703e-05 , 0.9988980067584157 ]\n",
      "herpes-encephalitis-with-thalamic-involvement-4(9).jpg\n"
     ]
    },
    {
     "name": "stderr",
     "output_type": "stream",
     "text": [
      "Lossy conversion from float64 to uint8. Range [0, 1]. Convert image to uint8 prior to saving to suppress this warning.\n"
     ]
    },
    {
     "name": "stdout",
     "output_type": "stream",
     "text": [
      "<class 'numpy.ndarray'>\n",
      "SHAPE:  (256, 256, 1)\n",
      "RANGE: [ 2.4903984858156188e-05 , 0.9978889805870668 ]\n",
      "herpes-simplex-virus-type-2-encephalitis.png\n"
     ]
    },
    {
     "name": "stderr",
     "output_type": "stream",
     "text": [
      "Lossy conversion from float64 to uint8. Range [0, 1]. Convert image to uint8 prior to saving to suppress this warning.\n"
     ]
    },
    {
     "name": "stdout",
     "output_type": "stream",
     "text": [
      "<class 'numpy.ndarray'>\n",
      "SHAPE:  (256, 256, 1)\n",
      "RANGE: [ 0.16546714 , 0.83417517 ]\n",
      "herpes-simplex-virus-type-2-encephalitis.png\n"
     ]
    },
    {
     "name": "stderr",
     "output_type": "stream",
     "text": [
      "Lossy conversion from float64 to uint8. Range [0, 1]. Convert image to uint8 prior to saving to suppress this warning.\n",
      "Lossy conversion from float64 to uint8. Range [0, 1]. Convert image to uint8 prior to saving to suppress this warning.\n"
     ]
    },
    {
     "name": "stdout",
     "output_type": "stream",
     "text": [
      "<class 'numpy.ndarray'>\n",
      "SHAPE:  (256, 256, 1)\n",
      "RANGE: [ 0.16546714 , 0.84691614 ]\n",
      "herpes-simplex-virus-type-2-encephalitis.png\n",
      "<class 'numpy.ndarray'>\n",
      "SHAPE:  (256, 256, 1)\n",
      "RANGE: [ 0.16546714 , 0.8304594 ]\n",
      "herpes-simplex-virus-type-2-encephalitis.png\n"
     ]
    },
    {
     "name": "stderr",
     "output_type": "stream",
     "text": [
      "Lossy conversion from float64 to uint8. Range [0, 1]. Convert image to uint8 prior to saving to suppress this warning.\n"
     ]
    },
    {
     "name": "stdout",
     "output_type": "stream",
     "text": [
      "<class 'numpy.ndarray'>\n",
      "SHAPE:  (256, 256, 1)\n",
      "RANGE: [ 0.16546714 , 0.86583805 ]\n",
      "herpes-simplex-encephalitis-18(1).png\n"
     ]
    },
    {
     "name": "stderr",
     "output_type": "stream",
     "text": [
      "Lossy conversion from float64 to uint8. Range [0, 1]. Convert image to uint8 prior to saving to suppress this warning.\n",
      "Lossy conversion from float64 to uint8. Range [0, 1]. Convert image to uint8 prior to saving to suppress this warning.\n"
     ]
    },
    {
     "name": "stdout",
     "output_type": "stream",
     "text": [
      "<class 'numpy.ndarray'>\n",
      "SHAPE:  (256, 256, 1)\n",
      "RANGE: [ 0.16546714 , 0.99948794 ]\n",
      "herpes-simplex-encephalitis-18(10).png\n",
      "<class 'numpy.ndarray'>\n",
      "SHAPE:  (256, 256, 1)\n",
      "RANGE: [ 0.16564539 , 0.86193424 ]\n",
      "herpes-simplex-encephalitis-18(11).png\n"
     ]
    },
    {
     "name": "stderr",
     "output_type": "stream",
     "text": [
      "Lossy conversion from float64 to uint8. Range [0, 1]. Convert image to uint8 prior to saving to suppress this warning.\n",
      "Lossy conversion from float64 to uint8. Range [0, 1]. Convert image to uint8 prior to saving to suppress this warning.\n"
     ]
    },
    {
     "name": "stdout",
     "output_type": "stream",
     "text": [
      "<class 'numpy.ndarray'>\n",
      "SHAPE:  (256, 256, 1)\n",
      "RANGE: [ 0.17223255 , 0.8573809 ]\n",
      "herpes-simplex-encephalitis-18(12).png\n",
      "<class 'numpy.ndarray'>\n",
      "SHAPE:  (256, 256, 1)\n",
      "RANGE: [ 0.1788304 , 0.85195315 ]\n",
      "herpes-simplex-encephalitis-18(2).png\n"
     ]
    },
    {
     "name": "stderr",
     "output_type": "stream",
     "text": [
      "Lossy conversion from float64 to uint8. Range [0, 1]. Convert image to uint8 prior to saving to suppress this warning.\n",
      "Lossy conversion from float64 to uint8. Range [0, 1]. Convert image to uint8 prior to saving to suppress this warning.\n"
     ]
    },
    {
     "name": "stdout",
     "output_type": "stream",
     "text": [
      "<class 'numpy.ndarray'>\n",
      "SHAPE:  (256, 256, 1)\n",
      "RANGE: [ 0.16546714 , 0.998971 ]\n",
      "herpes-simplex-encephalitis-18(3).png\n",
      "<class 'numpy.ndarray'>\n",
      "SHAPE:  (256, 256, 1)\n",
      "RANGE: [ 0.16546714 , 0.99469966 ]\n",
      "herpes-simplex-encephalitis-18(4).png\n"
     ]
    },
    {
     "name": "stderr",
     "output_type": "stream",
     "text": [
      "Lossy conversion from float64 to uint8. Range [0, 1]. Convert image to uint8 prior to saving to suppress this warning.\n",
      "Lossy conversion from float64 to uint8. Range [0, 1]. Convert image to uint8 prior to saving to suppress this warning.\n"
     ]
    },
    {
     "name": "stdout",
     "output_type": "stream",
     "text": [
      "<class 'numpy.ndarray'>\n",
      "SHAPE:  (256, 256, 1)\n",
      "RANGE: [ 0.16546714 , 0.98930764 ]\n",
      "herpes-simplex-encephalitis-18(5).png\n",
      "<class 'numpy.ndarray'>\n",
      "SHAPE:  (256, 256, 1)\n",
      "RANGE: [ 0.16546714 , 0.93898684 ]\n",
      "herpes-simplex-encephalitis-18(6).png\n"
     ]
    },
    {
     "name": "stderr",
     "output_type": "stream",
     "text": [
      "Lossy conversion from float64 to uint8. Range [0, 1]. Convert image to uint8 prior to saving to suppress this warning.\n",
      "Lossy conversion from float64 to uint8. Range [0, 1]. Convert image to uint8 prior to saving to suppress this warning.\n"
     ]
    },
    {
     "name": "stdout",
     "output_type": "stream",
     "text": [
      "<class 'numpy.ndarray'>\n",
      "SHAPE:  (256, 256, 1)\n",
      "RANGE: [ 0.16546714 , 0.87782276 ]\n",
      "herpes-simplex-encephalitis-18(7).png\n",
      "<class 'numpy.ndarray'>\n",
      "SHAPE:  (256, 256, 1)\n",
      "RANGE: [ 0.16546714 , 0.860517 ]\n",
      "herpes-simplex-encephalitis-18(8).png\n"
     ]
    },
    {
     "name": "stderr",
     "output_type": "stream",
     "text": [
      "Lossy conversion from float64 to uint8. Range [0, 1]. Convert image to uint8 prior to saving to suppress this warning.\n",
      "Lossy conversion from float64 to uint8. Range [0, 1]. Convert image to uint8 prior to saving to suppress this warning.\n"
     ]
    },
    {
     "name": "stdout",
     "output_type": "stream",
     "text": [
      "<class 'numpy.ndarray'>\n",
      "SHAPE:  (256, 256, 1)\n",
      "RANGE: [ 0.16546714 , 0.87881 ]\n",
      "herpes-simplex-encephalitis-18(9).png\n",
      "<class 'numpy.ndarray'>\n",
      "SHAPE:  (256, 256, 1)\n",
      "RANGE: [ 0.16546714 , 0.90036863 ]\n",
      "herpes-simplex-encephalitis-18.png\n"
     ]
    },
    {
     "name": "stderr",
     "output_type": "stream",
     "text": [
      "Lossy conversion from float64 to uint8. Range [0, 1]. Convert image to uint8 prior to saving to suppress this warning.\n",
      "Lossy conversion from float64 to uint8. Range [0, 1]. Convert image to uint8 prior to saving to suppress this warning.\n"
     ]
    },
    {
     "name": "stdout",
     "output_type": "stream",
     "text": [
      "<class 'numpy.ndarray'>\n",
      "SHAPE:  (256, 256, 1)\n",
      "RANGE: [ 0.16546714 , 0.9994394 ]\n",
      "herpes-simplex-encephalitis-18(1).png\n",
      "<class 'numpy.ndarray'>\n",
      "SHAPE:  (256, 256, 1)\n",
      "RANGE: [ 0.16546714 , 0.99707067 ]\n",
      "herpes-simplex-encephalitis-18(10).png\n"
     ]
    },
    {
     "name": "stderr",
     "output_type": "stream",
     "text": [
      "Lossy conversion from float64 to uint8. Range [0, 1]. Convert image to uint8 prior to saving to suppress this warning.\n",
      "Lossy conversion from float64 to uint8. Range [0, 1]. Convert image to uint8 prior to saving to suppress this warning.\n"
     ]
    },
    {
     "name": "stdout",
     "output_type": "stream",
     "text": [
      "<class 'numpy.ndarray'>\n",
      "SHAPE:  (256, 256, 1)\n",
      "RANGE: [ 0.16546714 , 0.85505307 ]\n",
      "herpes-simplex-encephalitis-18(11).png\n",
      "<class 'numpy.ndarray'>\n",
      "SHAPE:  (256, 256, 1)\n",
      "RANGE: [ 0.16546714 , 0.86114484 ]\n",
      "herpes-simplex-encephalitis-18(2).png\n"
     ]
    },
    {
     "name": "stderr",
     "output_type": "stream",
     "text": [
      "Lossy conversion from float64 to uint8. Range [0, 1]. Convert image to uint8 prior to saving to suppress this warning.\n",
      "Lossy conversion from float64 to uint8. Range [0, 1]. Convert image to uint8 prior to saving to suppress this warning.\n"
     ]
    },
    {
     "name": "stdout",
     "output_type": "stream",
     "text": [
      "<class 'numpy.ndarray'>\n",
      "SHAPE:  (256, 256, 1)\n",
      "RANGE: [ 0.16546714 , 0.9990486 ]\n",
      "herpes-simplex-encephalitis-18(3).png\n",
      "<class 'numpy.ndarray'>\n",
      "SHAPE:  (256, 256, 1)\n",
      "RANGE: [ 0.16546714 , 0.99998176 ]\n",
      "herpes-simplex-encephalitis-18(4).png\n"
     ]
    },
    {
     "name": "stderr",
     "output_type": "stream",
     "text": [
      "Lossy conversion from float64 to uint8. Range [0, 1]. Convert image to uint8 prior to saving to suppress this warning.\n",
      "Lossy conversion from float64 to uint8. Range [0, 1]. Convert image to uint8 prior to saving to suppress this warning.\n"
     ]
    },
    {
     "name": "stdout",
     "output_type": "stream",
     "text": [
      "<class 'numpy.ndarray'>\n",
      "SHAPE:  (256, 256, 1)\n",
      "RANGE: [ 0.16546714 , 0.9796539 ]\n",
      "herpes-simplex-encephalitis-18(5).png\n",
      "<class 'numpy.ndarray'>\n",
      "SHAPE:  (256, 256, 1)\n",
      "RANGE: [ 0.16546714 , 0.9550415 ]\n",
      "herpes-simplex-encephalitis-18(6).png\n"
     ]
    },
    {
     "name": "stderr",
     "output_type": "stream",
     "text": [
      "Lossy conversion from float64 to uint8. Range [0, 1]. Convert image to uint8 prior to saving to suppress this warning.\n",
      "Lossy conversion from float64 to uint8. Range [0, 1]. Convert image to uint8 prior to saving to suppress this warning.\n"
     ]
    },
    {
     "name": "stdout",
     "output_type": "stream",
     "text": [
      "<class 'numpy.ndarray'>\n",
      "SHAPE:  (256, 256, 1)\n",
      "RANGE: [ 0.16546714 , 0.933245 ]\n",
      "herpes-simplex-encephalitis-18(7).png\n",
      "<class 'numpy.ndarray'>\n",
      "SHAPE:  (256, 256, 1)\n",
      "RANGE: [ 0.16546714 , 0.9851774 ]\n",
      "herpes-simplex-encephalitis-18(8).png\n"
     ]
    },
    {
     "name": "stderr",
     "output_type": "stream",
     "text": [
      "Lossy conversion from float64 to uint8. Range [0, 1]. Convert image to uint8 prior to saving to suppress this warning.\n",
      "Lossy conversion from float64 to uint8. Range [0, 1]. Convert image to uint8 prior to saving to suppress this warning.\n"
     ]
    },
    {
     "name": "stdout",
     "output_type": "stream",
     "text": [
      "<class 'numpy.ndarray'>\n",
      "SHAPE:  (256, 256, 1)\n",
      "RANGE: [ 0.16546714 , 0.9573798 ]\n",
      "herpes-simplex-encephalitis-18(9).png\n",
      "<class 'numpy.ndarray'>\n",
      "SHAPE:  (256, 256, 1)\n",
      "RANGE: [ 0.16546714 , 0.84501696 ]\n",
      "herpes-simplex-encephalitis-18.png\n"
     ]
    },
    {
     "name": "stderr",
     "output_type": "stream",
     "text": [
      "Lossy conversion from float64 to uint8. Range [0, 1]. Convert image to uint8 prior to saving to suppress this warning.\n",
      "Lossy conversion from float64 to uint8. Range [0, 1]. Convert image to uint8 prior to saving to suppress this warning.\n"
     ]
    },
    {
     "name": "stdout",
     "output_type": "stream",
     "text": [
      "<class 'numpy.ndarray'>\n",
      "SHAPE:  (256, 256, 1)\n",
      "RANGE: [ 0.16546714 , 0.9988953 ]\n",
      "herpes-simplex-encephalitis-18(1).png\n",
      "<class 'numpy.ndarray'>\n",
      "SHAPE:  (256, 256, 1)\n",
      "RANGE: [ 0.17201251 , 1.0 ]\n",
      "herpes-simplex-encephalitis-18(10).png\n"
     ]
    },
    {
     "name": "stderr",
     "output_type": "stream",
     "text": [
      "Lossy conversion from float64 to uint8. Range [0, 1]. Convert image to uint8 prior to saving to suppress this warning.\n",
      "Lossy conversion from float64 to uint8. Range [0, 1]. Convert image to uint8 prior to saving to suppress this warning.\n"
     ]
    },
    {
     "name": "stdout",
     "output_type": "stream",
     "text": [
      "<class 'numpy.ndarray'>\n",
      "SHAPE:  (256, 256, 1)\n",
      "RANGE: [ 0.17329437 , 0.9829851 ]\n",
      "herpes-simplex-encephalitis-18(11).png\n",
      "<class 'numpy.ndarray'>\n",
      "SHAPE:  (256, 256, 1)\n",
      "RANGE: [ 0.17601871 , 0.97356755 ]\n",
      "herpes-simplex-encephalitis-18(2).png\n"
     ]
    },
    {
     "name": "stderr",
     "output_type": "stream",
     "text": [
      "Lossy conversion from float64 to uint8. Range [0, 1]. Convert image to uint8 prior to saving to suppress this warning.\n",
      "Lossy conversion from float64 to uint8. Range [0, 1]. Convert image to uint8 prior to saving to suppress this warning.\n"
     ]
    },
    {
     "name": "stdout",
     "output_type": "stream",
     "text": [
      "<class 'numpy.ndarray'>\n",
      "SHAPE:  (256, 256, 1)\n",
      "RANGE: [ 0.17201251 , 0.9965948 ]\n",
      "herpes-simplex-encephalitis-18(3).png\n",
      "<class 'numpy.ndarray'>\n",
      "SHAPE:  (256, 256, 1)\n",
      "RANGE: [ 0.17201251 , 1.0 ]\n",
      "herpes-simplex-encephalitis-18(4).png\n"
     ]
    },
    {
     "name": "stderr",
     "output_type": "stream",
     "text": [
      "Lossy conversion from float64 to uint8. Range [0, 1]. Convert image to uint8 prior to saving to suppress this warning.\n",
      "Lossy conversion from float64 to uint8. Range [0, 1]. Convert image to uint8 prior to saving to suppress this warning.\n"
     ]
    },
    {
     "name": "stdout",
     "output_type": "stream",
     "text": [
      "<class 'numpy.ndarray'>\n",
      "SHAPE:  (256, 256, 1)\n",
      "RANGE: [ 0.17201251 , 1.0 ]\n",
      "herpes-simplex-encephalitis-18(5).png\n",
      "<class 'numpy.ndarray'>\n",
      "SHAPE:  (256, 256, 1)\n",
      "RANGE: [ 0.17201251 , 0.9968129 ]\n",
      "herpes-simplex-encephalitis-18(6).png\n"
     ]
    },
    {
     "name": "stderr",
     "output_type": "stream",
     "text": [
      "Lossy conversion from float64 to uint8. Range [0, 1]. Convert image to uint8 prior to saving to suppress this warning.\n",
      "Lossy conversion from float64 to uint8. Range [0, 1]. Convert image to uint8 prior to saving to suppress this warning.\n"
     ]
    },
    {
     "name": "stdout",
     "output_type": "stream",
     "text": [
      "<class 'numpy.ndarray'>\n",
      "SHAPE:  (256, 256, 1)\n",
      "RANGE: [ 0.17201251 , 0.99329185 ]\n",
      "herpes-simplex-encephalitis-18(7).png\n",
      "<class 'numpy.ndarray'>\n",
      "SHAPE:  (256, 256, 1)\n",
      "RANGE: [ 0.17201251 , 0.9758962 ]\n",
      "herpes-simplex-encephalitis-18(8).png\n"
     ]
    },
    {
     "name": "stderr",
     "output_type": "stream",
     "text": [
      "Lossy conversion from float64 to uint8. Range [0, 1]. Convert image to uint8 prior to saving to suppress this warning.\n",
      "Lossy conversion from float64 to uint8. Range [0, 1]. Convert image to uint8 prior to saving to suppress this warning.\n"
     ]
    },
    {
     "name": "stdout",
     "output_type": "stream",
     "text": [
      "<class 'numpy.ndarray'>\n",
      "SHAPE:  (256, 256, 1)\n",
      "RANGE: [ 0.17216733 , 0.974491 ]\n",
      "herpes-simplex-encephalitis-18(9).png\n",
      "<class 'numpy.ndarray'>\n",
      "SHAPE:  (256, 256, 1)\n",
      "RANGE: [ 0.17346987 , 0.98553634 ]\n",
      "herpes-simplex-encephalitis-18.png\n"
     ]
    },
    {
     "name": "stderr",
     "output_type": "stream",
     "text": [
      "Lossy conversion from float64 to uint8. Range [0, 1]. Convert image to uint8 prior to saving to suppress this warning.\n",
      "Lossy conversion from float64 to uint8. Range [0, 1]. Convert image to uint8 prior to saving to suppress this warning.\n"
     ]
    },
    {
     "name": "stdout",
     "output_type": "stream",
     "text": [
      "<class 'numpy.ndarray'>\n",
      "SHAPE:  (256, 256, 1)\n",
      "RANGE: [ 0.17201251 , 1.0 ]\n",
      "herpes-simplex-encephalitis-18(1).png\n",
      "<class 'numpy.ndarray'>\n",
      "SHAPE:  (256, 256, 1)\n",
      "RANGE: [ 0.17405793 , 0.9753239 ]\n",
      "herpes-simplex-encephalitis-18(10).png\n"
     ]
    },
    {
     "name": "stderr",
     "output_type": "stream",
     "text": [
      "Lossy conversion from float64 to uint8. Range [0, 1]. Convert image to uint8 prior to saving to suppress this warning.\n",
      "Lossy conversion from float64 to uint8. Range [0, 1]. Convert image to uint8 prior to saving to suppress this warning.\n"
     ]
    },
    {
     "name": "stdout",
     "output_type": "stream",
     "text": [
      "<class 'numpy.ndarray'>\n",
      "SHAPE:  (256, 256, 1)\n",
      "RANGE: [ 0.16546714 , 0.861055 ]\n",
      "herpes-simplex-encephalitis-18(11).png\n",
      "<class 'numpy.ndarray'>\n",
      "SHAPE:  (256, 256, 1)\n",
      "RANGE: [ 0.16546714 , 0.91812235 ]\n",
      "herpes-simplex-encephalitis-18(12).png\n"
     ]
    },
    {
     "name": "stderr",
     "output_type": "stream",
     "text": [
      "Lossy conversion from float64 to uint8. Range [0, 1]. Convert image to uint8 prior to saving to suppress this warning.\n",
      "Lossy conversion from float64 to uint8. Range [0, 1]. Convert image to uint8 prior to saving to suppress this warning.\n",
      "Lossy conversion from float64 to uint8. Range [0, 1]. Convert image to uint8 prior to saving to suppress this warning.\n"
     ]
    },
    {
     "name": "stdout",
     "output_type": "stream",
     "text": [
      "<class 'numpy.ndarray'>\n",
      "SHAPE:  (256, 256, 1)\n",
      "RANGE: [ 0.16546714 , 0.8651203 ]\n",
      "herpes-simplex-encephalitis-18(13).png\n",
      "<class 'numpy.ndarray'>\n",
      "SHAPE:  (256, 256, 1)\n",
      "RANGE: [ 0.16546714 , 0.8941781 ]\n",
      "herpes-simplex-encephalitis-18(14).png\n"
     ]
    },
    {
     "name": "stderr",
     "output_type": "stream",
     "text": [
      "Lossy conversion from float64 to uint8. Range [0, 1]. Convert image to uint8 prior to saving to suppress this warning.\n",
      "Lossy conversion from float64 to uint8. Range [0, 1]. Convert image to uint8 prior to saving to suppress this warning.\n"
     ]
    },
    {
     "name": "stdout",
     "output_type": "stream",
     "text": [
      "<class 'numpy.ndarray'>\n",
      "SHAPE:  (256, 256, 1)\n",
      "RANGE: [ 0.16546714 , 0.8934175 ]\n",
      "herpes-simplex-encephalitis-18(15).png\n",
      "<class 'numpy.ndarray'>\n",
      "SHAPE:  (256, 256, 1)\n",
      "RANGE: [ 0.16546714 , 0.8769614 ]\n",
      "herpes-simplex-encephalitis-18(16).png\n"
     ]
    },
    {
     "name": "stderr",
     "output_type": "stream",
     "text": [
      "Lossy conversion from float64 to uint8. Range [0, 1]. Convert image to uint8 prior to saving to suppress this warning.\n"
     ]
    },
    {
     "name": "stdout",
     "output_type": "stream",
     "text": [
      "<class 'numpy.ndarray'>\n",
      "SHAPE:  (256, 256, 1)\n",
      "RANGE: [ 0.16546714 , 0.856929 ]\n",
      "herpes-simplex-encephalitis-18(17).png\n",
      "<class 'numpy.ndarray'>\n",
      "SHAPE:  (256, 256, 1)\n",
      "RANGE: [ 0.16546714 , 0.94984555 ]\n",
      "herpes-simplex-encephalitis-18(18).png\n"
     ]
    },
    {
     "name": "stderr",
     "output_type": "stream",
     "text": [
      "Lossy conversion from float64 to uint8. Range [0, 1]. Convert image to uint8 prior to saving to suppress this warning.\n",
      "Lossy conversion from float64 to uint8. Range [0, 1]. Convert image to uint8 prior to saving to suppress this warning.\n"
     ]
    },
    {
     "name": "stdout",
     "output_type": "stream",
     "text": [
      "<class 'numpy.ndarray'>\n",
      "SHAPE:  (256, 256, 1)\n",
      "RANGE: [ 0.16546714 , 0.99932885 ]\n",
      "herpes-simplex-encephalitis-18(19).png\n",
      "<class 'numpy.ndarray'>\n",
      "SHAPE:  (256, 256, 1)\n",
      "RANGE: [ 0.16546714 , 0.89551723 ]\n",
      "herpes-simplex-encephalitis-18(2).png\n"
     ]
    },
    {
     "name": "stderr",
     "output_type": "stream",
     "text": [
      "Lossy conversion from float64 to uint8. Range [0, 1]. Convert image to uint8 prior to saving to suppress this warning.\n",
      "Lossy conversion from float64 to uint8. Range [0, 1]. Convert image to uint8 prior to saving to suppress this warning.\n",
      "Lossy conversion from float64 to uint8. Range [0, 1]. Convert image to uint8 prior to saving to suppress this warning.\n"
     ]
    },
    {
     "name": "stdout",
     "output_type": "stream",
     "text": [
      "<class 'numpy.ndarray'>\n",
      "SHAPE:  (256, 256, 1)\n",
      "RANGE: [ 0.17323977 , 0.9386309 ]\n",
      "herpes-simplex-encephalitis-18(20).png\n",
      "<class 'numpy.ndarray'>\n",
      "SHAPE:  (256, 256, 1)\n",
      "RANGE: [ 0.16546714 , 0.837424 ]\n",
      "herpes-simplex-encephalitis-18(21).png\n"
     ]
    },
    {
     "name": "stderr",
     "output_type": "stream",
     "text": [
      "Lossy conversion from float64 to uint8. Range [0, 1]. Convert image to uint8 prior to saving to suppress this warning.\n",
      "Lossy conversion from float64 to uint8. Range [0, 1]. Convert image to uint8 prior to saving to suppress this warning.\n"
     ]
    },
    {
     "name": "stdout",
     "output_type": "stream",
     "text": [
      "<class 'numpy.ndarray'>\n",
      "SHAPE:  (256, 256, 1)\n",
      "RANGE: [ 0.16996709 , 0.83953655 ]\n",
      "herpes-simplex-encephalitis-18(22).png\n",
      "<class 'numpy.ndarray'>\n",
      "SHAPE:  (256, 256, 1)\n",
      "RANGE: [ 0.17331327 , 0.8930243 ]\n",
      "herpes-simplex-encephalitis-18(23).png\n"
     ]
    },
    {
     "name": "stderr",
     "output_type": "stream",
     "text": [
      "Lossy conversion from float64 to uint8. Range [0, 1]. Convert image to uint8 prior to saving to suppress this warning.\n"
     ]
    },
    {
     "name": "stdout",
     "output_type": "stream",
     "text": [
      "<class 'numpy.ndarray'>\n",
      "SHAPE:  (256, 256, 1)\n",
      "RANGE: [ 0.17364885 , 0.9675417 ]\n",
      "herpes-simplex-encephalitis-18(3).png\n",
      "<class 'numpy.ndarray'>\n",
      "SHAPE:  (256, 256, 1)\n",
      "RANGE: [ 0.1701045 , 0.9169239 ]\n",
      "herpes-simplex-encephalitis-18(4).png\n"
     ]
    },
    {
     "name": "stderr",
     "output_type": "stream",
     "text": [
      "Lossy conversion from float64 to uint8. Range [0, 1]. Convert image to uint8 prior to saving to suppress this warning.\n",
      "Lossy conversion from float64 to uint8. Range [0, 1]. Convert image to uint8 prior to saving to suppress this warning.\n"
     ]
    },
    {
     "name": "stdout",
     "output_type": "stream",
     "text": [
      "<class 'numpy.ndarray'>\n",
      "SHAPE:  (256, 256, 1)\n",
      "RANGE: [ 0.16546714 , 0.9655282 ]\n",
      "herpes-simplex-encephalitis-18(5).png\n",
      "<class 'numpy.ndarray'>\n",
      "SHAPE:  (256, 256, 1)\n",
      "RANGE: [ 0.16546714 , 0.97582245 ]\n",
      "herpes-simplex-encephalitis-18(6).png\n"
     ]
    },
    {
     "name": "stderr",
     "output_type": "stream",
     "text": [
      "Lossy conversion from float64 to uint8. Range [0, 1]. Convert image to uint8 prior to saving to suppress this warning.\n",
      "Lossy conversion from float64 to uint8. Range [0, 1]. Convert image to uint8 prior to saving to suppress this warning.\n"
     ]
    },
    {
     "name": "stdout",
     "output_type": "stream",
     "text": [
      "<class 'numpy.ndarray'>\n",
      "SHAPE:  (256, 256, 1)\n",
      "RANGE: [ 0.16546714 , 0.9813291 ]\n",
      "herpes-simplex-encephalitis-18(7).png\n",
      "<class 'numpy.ndarray'>\n",
      "SHAPE:  (256, 256, 1)\n",
      "RANGE: [ 0.16546714 , 0.98368776 ]\n",
      "herpes-simplex-encephalitis-18(8).png\n"
     ]
    },
    {
     "name": "stderr",
     "output_type": "stream",
     "text": [
      "Lossy conversion from float64 to uint8. Range [0, 1]. Convert image to uint8 prior to saving to suppress this warning.\n",
      "Lossy conversion from float64 to uint8. Range [0, 1]. Convert image to uint8 prior to saving to suppress this warning.\n"
     ]
    },
    {
     "name": "stdout",
     "output_type": "stream",
     "text": [
      "<class 'numpy.ndarray'>\n",
      "SHAPE:  (256, 256, 1)\n",
      "RANGE: [ 0.16546714 , 0.94632363 ]\n",
      "herpes-simplex-encephalitis-18(9).png\n",
      "<class 'numpy.ndarray'>\n",
      "SHAPE:  (256, 256, 1)\n",
      "RANGE: [ 0.16546714 , 0.8848395 ]\n",
      "herpes-simplex-encephalitis-18.png\n"
     ]
    },
    {
     "name": "stderr",
     "output_type": "stream",
     "text": [
      "Lossy conversion from float64 to uint8. Range [0, 1]. Convert image to uint8 prior to saving to suppress this warning.\n",
      "Lossy conversion from float64 to uint8. Range [0, 1]. Convert image to uint8 prior to saving to suppress this warning.\n"
     ]
    },
    {
     "name": "stdout",
     "output_type": "stream",
     "text": [
      "<class 'numpy.ndarray'>\n",
      "SHAPE:  (256, 256, 1)\n",
      "RANGE: [ 0.17733061 , 0.9994918 ]\n",
      "herpes-simplex-encephalitis-18(1).png\n",
      "<class 'numpy.ndarray'>\n",
      "SHAPE:  (256, 256, 1)\n",
      "RANGE: [ 0.16691533 , 0.99996763 ]\n",
      "herpes-simplex-encephalitis-18(10).png\n"
     ]
    },
    {
     "name": "stderr",
     "output_type": "stream",
     "text": [
      "Lossy conversion from float64 to uint8. Range [0, 1]. Convert image to uint8 prior to saving to suppress this warning.\n",
      "Lossy conversion from float64 to uint8. Range [0, 1]. Convert image to uint8 prior to saving to suppress this warning.\n"
     ]
    },
    {
     "name": "stdout",
     "output_type": "stream",
     "text": [
      "<class 'numpy.ndarray'>\n",
      "SHAPE:  (256, 256, 1)\n",
      "RANGE: [ 0.16546714 , 1.0 ]\n",
      "herpes-simplex-encephalitis-18(11).png\n",
      "<class 'numpy.ndarray'>\n",
      "SHAPE:  (256, 256, 1)\n",
      "RANGE: [ 0.16546714 , 1.0 ]\n",
      "herpes-simplex-encephalitis-18(12).png\n"
     ]
    },
    {
     "name": "stderr",
     "output_type": "stream",
     "text": [
      "Lossy conversion from float64 to uint8. Range [0, 1]. Convert image to uint8 prior to saving to suppress this warning.\n",
      "Lossy conversion from float64 to uint8. Range [0, 1]. Convert image to uint8 prior to saving to suppress this warning.\n"
     ]
    },
    {
     "name": "stdout",
     "output_type": "stream",
     "text": [
      "<class 'numpy.ndarray'>\n",
      "SHAPE:  (256, 256, 1)\n",
      "RANGE: [ 0.16546714 , 1.0 ]\n",
      "herpes-simplex-encephalitis-18(13).png\n",
      "<class 'numpy.ndarray'>\n",
      "SHAPE:  (256, 256, 1)\n",
      "RANGE: [ 0.16546714 , 0.99999994 ]\n",
      "herpes-simplex-encephalitis-18(14).png\n"
     ]
    },
    {
     "name": "stderr",
     "output_type": "stream",
     "text": [
      "Lossy conversion from float64 to uint8. Range [0, 1]. Convert image to uint8 prior to saving to suppress this warning.\n",
      "Lossy conversion from float64 to uint8. Range [0, 1]. Convert image to uint8 prior to saving to suppress this warning.\n"
     ]
    },
    {
     "name": "stdout",
     "output_type": "stream",
     "text": [
      "<class 'numpy.ndarray'>\n",
      "SHAPE:  (256, 256, 1)\n",
      "RANGE: [ 0.16546714 , 0.99991524 ]\n",
      "herpes-simplex-encephalitis-18(15).png\n"
     ]
    },
    {
     "name": "stderr",
     "output_type": "stream",
     "text": [
      "Lossy conversion from float64 to uint8. Range [0, 1]. Convert image to uint8 prior to saving to suppress this warning.\n"
     ]
    },
    {
     "name": "stdout",
     "output_type": "stream",
     "text": [
      "<class 'numpy.ndarray'>\n",
      "SHAPE:  (256, 256, 1)\n",
      "RANGE: [ 0.16546714 , 0.99989253 ]\n",
      "herpes-simplex-encephalitis-18(16).png\n",
      "<class 'numpy.ndarray'>\n",
      "SHAPE:  (256, 256, 1)\n",
      "RANGE: [ 0.16546714 , 0.9941543 ]\n",
      "herpes-simplex-encephalitis-18(17).png\n"
     ]
    },
    {
     "name": "stderr",
     "output_type": "stream",
     "text": [
      "Lossy conversion from float64 to uint8. Range [0, 1]. Convert image to uint8 prior to saving to suppress this warning.\n",
      "Lossy conversion from float64 to uint8. Range [0, 1]. Convert image to uint8 prior to saving to suppress this warning.\n"
     ]
    },
    {
     "name": "stdout",
     "output_type": "stream",
     "text": [
      "<class 'numpy.ndarray'>\n",
      "SHAPE:  (256, 256, 1)\n",
      "RANGE: [ 0.16755968 , 0.998149 ]\n",
      "herpes-simplex-encephalitis-18(2).png\n",
      "<class 'numpy.ndarray'>\n",
      "SHAPE:  (256, 256, 1)\n",
      "RANGE: [ 0.16546714 , 1.0 ]\n",
      "herpes-simplex-encephalitis-18(3).png\n"
     ]
    },
    {
     "name": "stderr",
     "output_type": "stream",
     "text": [
      "Lossy conversion from float64 to uint8. Range [0, 1]. Convert image to uint8 prior to saving to suppress this warning.\n",
      "Lossy conversion from float64 to uint8. Range [0, 1]. Convert image to uint8 prior to saving to suppress this warning.\n"
     ]
    },
    {
     "name": "stdout",
     "output_type": "stream",
     "text": [
      "<class 'numpy.ndarray'>\n",
      "SHAPE:  (256, 256, 1)\n",
      "RANGE: [ 0.16546714 , 0.9997845 ]\n",
      "herpes-simplex-encephalitis-18(4).png\n",
      "<class 'numpy.ndarray'>\n",
      "SHAPE:  (256, 256, 1)\n",
      "RANGE: [ 0.16546714 , 0.999996 ]\n",
      "herpes-simplex-encephalitis-18(5).png\n"
     ]
    },
    {
     "name": "stderr",
     "output_type": "stream",
     "text": [
      "Lossy conversion from float64 to uint8. Range [0, 1]. Convert image to uint8 prior to saving to suppress this warning.\n",
      "Lossy conversion from float64 to uint8. Range [0, 1]. Convert image to uint8 prior to saving to suppress this warning.\n"
     ]
    },
    {
     "name": "stdout",
     "output_type": "stream",
     "text": [
      "<class 'numpy.ndarray'>\n",
      "SHAPE:  (256, 256, 1)\n",
      "RANGE: [ 0.16546714 , 1.0 ]\n",
      "herpes-simplex-encephalitis-18(6).png\n",
      "<class 'numpy.ndarray'>\n",
      "SHAPE:  (256, 256, 1)\n",
      "RANGE: [ 0.16546714 , 1.0 ]\n",
      "herpes-simplex-encephalitis-18(7).png\n"
     ]
    },
    {
     "name": "stderr",
     "output_type": "stream",
     "text": [
      "Lossy conversion from float64 to uint8. Range [0, 1]. Convert image to uint8 prior to saving to suppress this warning.\n",
      "Lossy conversion from float64 to uint8. Range [0, 1]. Convert image to uint8 prior to saving to suppress this warning.\n"
     ]
    },
    {
     "name": "stdout",
     "output_type": "stream",
     "text": [
      "<class 'numpy.ndarray'>\n",
      "SHAPE:  (256, 256, 1)\n",
      "RANGE: [ 0.16546714 , 1.0 ]\n",
      "herpes-simplex-encephalitis-18(8).png\n",
      "<class 'numpy.ndarray'>\n",
      "SHAPE:  (256, 256, 1)\n",
      "RANGE: [ 0.16546714 , 1.0 ]\n",
      "herpes-simplex-encephalitis-18(9).png\n"
     ]
    },
    {
     "name": "stderr",
     "output_type": "stream",
     "text": [
      "Lossy conversion from float64 to uint8. Range [0, 1]. Convert image to uint8 prior to saving to suppress this warning.\n"
     ]
    },
    {
     "name": "stdout",
     "output_type": "stream",
     "text": [
      "<class 'numpy.ndarray'>\n",
      "SHAPE:  (256, 256, 1)\n",
      "RANGE: [ 0.16546714 , 1.0 ]\n",
      "herpes-simplex-encephalitis-2(10).png\n"
     ]
    },
    {
     "name": "stderr",
     "output_type": "stream",
     "text": [
      "Lossy conversion from float64 to uint8. Range [0, 1]. Convert image to uint8 prior to saving to suppress this warning.\n",
      "Lossy conversion from float64 to uint8. Range [0, 1]. Convert image to uint8 prior to saving to suppress this warning.\n"
     ]
    },
    {
     "name": "stdout",
     "output_type": "stream",
     "text": [
      "<class 'numpy.ndarray'>\n",
      "SHAPE:  (256, 256, 1)\n",
      "RANGE: [ 0.10002437 , 0.85525644 ]\n",
      "herpes-simplex-encephalitis-2(11).png\n",
      "<class 'numpy.ndarray'>\n",
      "SHAPE:  (256, 256, 1)\n",
      "RANGE: [ 0.10002437 , 0.83799434 ]\n",
      "herpes-simplex-encephalitis-2(12).png\n"
     ]
    },
    {
     "name": "stderr",
     "output_type": "stream",
     "text": [
      "Lossy conversion from float64 to uint8. Range [0, 1]. Convert image to uint8 prior to saving to suppress this warning.\n",
      "Lossy conversion from float64 to uint8. Range [0, 1]. Convert image to uint8 prior to saving to suppress this warning.\n"
     ]
    },
    {
     "name": "stdout",
     "output_type": "stream",
     "text": [
      "<class 'numpy.ndarray'>\n",
      "SHAPE:  (256, 256, 1)\n",
      "RANGE: [ 0.10002437 , 0.8630264 ]\n",
      "herpes-simplex-encephalitis-2(13).png\n",
      "<class 'numpy.ndarray'>\n",
      "SHAPE:  (256, 256, 1)\n",
      "RANGE: [ 0.10002437 , 0.9205613 ]\n",
      "herpes-simplex-encephalitis-2(2).png\n"
     ]
    },
    {
     "name": "stderr",
     "output_type": "stream",
     "text": [
      "Lossy conversion from float64 to uint8. Range [0, 1]. Convert image to uint8 prior to saving to suppress this warning.\n",
      "Lossy conversion from float64 to uint8. Range [0, 1]. Convert image to uint8 prior to saving to suppress this warning.\n"
     ]
    },
    {
     "name": "stdout",
     "output_type": "stream",
     "text": [
      "<class 'numpy.ndarray'>\n",
      "SHAPE:  (256, 256, 1)\n",
      "RANGE: [ 0.10002437 , 0.9090256 ]\n",
      "herpes-simplex-encephalitis-2(3).png\n",
      "<class 'numpy.ndarray'>\n",
      "SHAPE:  (256, 256, 1)\n",
      "RANGE: [ 0.10002437 , 0.82383305 ]\n",
      "herpes-simplex-encephalitis-2(4).png\n"
     ]
    },
    {
     "name": "stderr",
     "output_type": "stream",
     "text": [
      "Lossy conversion from float64 to uint8. Range [0, 1]. Convert image to uint8 prior to saving to suppress this warning.\n",
      "Lossy conversion from float64 to uint8. Range [0, 1]. Convert image to uint8 prior to saving to suppress this warning.\n"
     ]
    },
    {
     "name": "stdout",
     "output_type": "stream",
     "text": [
      "<class 'numpy.ndarray'>\n",
      "SHAPE:  (256, 256, 1)\n",
      "RANGE: [ 0.10002437 , 0.813117 ]\n",
      "herpes-simplex-encephalitis-2(5).png\n",
      "<class 'numpy.ndarray'>\n",
      "SHAPE:  (256, 256, 1)\n",
      "RANGE: [ 0.10002437 , 0.8204456 ]\n",
      "herpes-simplex-encephalitis-2(6).png\n"
     ]
    },
    {
     "name": "stderr",
     "output_type": "stream",
     "text": [
      "Lossy conversion from float64 to uint8. Range [0, 1]. Convert image to uint8 prior to saving to suppress this warning.\n",
      "Lossy conversion from float64 to uint8. Range [0, 1]. Convert image to uint8 prior to saving to suppress this warning.\n"
     ]
    },
    {
     "name": "stdout",
     "output_type": "stream",
     "text": [
      "<class 'numpy.ndarray'>\n",
      "SHAPE:  (256, 256, 1)\n",
      "RANGE: [ 0.10002437 , 0.8619648 ]\n",
      "herpes-simplex-encephalitis-2(7).png\n",
      "<class 'numpy.ndarray'>\n",
      "SHAPE:  (256, 256, 1)\n",
      "RANGE: [ 0.10002437 , 0.85332406 ]\n",
      "herpes-simplex-encephalitis-2(8).png\n"
     ]
    },
    {
     "name": "stderr",
     "output_type": "stream",
     "text": [
      "Lossy conversion from float64 to uint8. Range [0, 1]. Convert image to uint8 prior to saving to suppress this warning.\n",
      "Lossy conversion from float64 to uint8. Range [0, 1]. Convert image to uint8 prior to saving to suppress this warning.\n"
     ]
    },
    {
     "name": "stdout",
     "output_type": "stream",
     "text": [
      "<class 'numpy.ndarray'>\n",
      "SHAPE:  (256, 256, 1)\n",
      "RANGE: [ 0.10002437 , 0.85652584 ]\n",
      "herpes-simplex-encephalitis-2(9).png\n",
      "<class 'numpy.ndarray'>\n",
      "SHAPE:  (256, 256, 1)\n",
      "RANGE: [ 0.10002437 , 0.8529471 ]\n",
      "herpes-simplex-encephalitis-2(1).png\n"
     ]
    },
    {
     "name": "stderr",
     "output_type": "stream",
     "text": [
      "Lossy conversion from float64 to uint8. Range [0, 1]. Convert image to uint8 prior to saving to suppress this warning.\n",
      "Lossy conversion from float64 to uint8. Range [0, 1]. Convert image to uint8 prior to saving to suppress this warning.\n"
     ]
    },
    {
     "name": "stdout",
     "output_type": "stream",
     "text": [
      "<class 'numpy.ndarray'>\n",
      "SHAPE:  (256, 256, 1)\n",
      "RANGE: [ 0.16546714 , 0.76776236 ]\n",
      "herpes-simplex-encephalitis-2(10).png\n",
      "<class 'numpy.ndarray'>\n",
      "SHAPE:  (256, 256, 1)\n",
      "RANGE: [ 0.16546714 , 0.9350665 ]\n",
      "herpes-simplex-encephalitis-2(11).png\n"
     ]
    },
    {
     "name": "stderr",
     "output_type": "stream",
     "text": [
      "Lossy conversion from float64 to uint8. Range [0, 1]. Convert image to uint8 prior to saving to suppress this warning.\n",
      "Lossy conversion from float64 to uint8. Range [0, 1]. Convert image to uint8 prior to saving to suppress this warning.\n"
     ]
    },
    {
     "name": "stdout",
     "output_type": "stream",
     "text": [
      "<class 'numpy.ndarray'>\n",
      "SHAPE:  (256, 256, 1)\n",
      "RANGE: [ 0.16546714 , 0.94696224 ]\n",
      "herpes-simplex-encephalitis-2(12).png\n",
      "<class 'numpy.ndarray'>\n",
      "SHAPE:  (256, 256, 1)\n",
      "RANGE: [ 0.16546714 , 0.9259333 ]\n",
      "herpes-simplex-encephalitis-2(2).png\n"
     ]
    },
    {
     "name": "stderr",
     "output_type": "stream",
     "text": [
      "Lossy conversion from float64 to uint8. Range [0, 1]. Convert image to uint8 prior to saving to suppress this warning.\n",
      "Lossy conversion from float64 to uint8. Range [0, 1]. Convert image to uint8 prior to saving to suppress this warning.\n"
     ]
    },
    {
     "name": "stdout",
     "output_type": "stream",
     "text": [
      "<class 'numpy.ndarray'>\n",
      "SHAPE:  (256, 256, 1)\n",
      "RANGE: [ 0.16546714 , 0.88467604 ]\n",
      "herpes-simplex-encephalitis-2(3).png\n",
      "<class 'numpy.ndarray'>\n",
      "SHAPE:  (256, 256, 1)\n",
      "RANGE: [ 0.16546714 , 0.97275656 ]\n",
      "herpes-simplex-encephalitis-2(4).png\n"
     ]
    },
    {
     "name": "stderr",
     "output_type": "stream",
     "text": [
      "Lossy conversion from float64 to uint8. Range [0, 1]. Convert image to uint8 prior to saving to suppress this warning.\n",
      "Lossy conversion from float64 to uint8. Range [0, 1]. Convert image to uint8 prior to saving to suppress this warning.\n"
     ]
    },
    {
     "name": "stdout",
     "output_type": "stream",
     "text": [
      "<class 'numpy.ndarray'>\n",
      "SHAPE:  (256, 256, 1)\n",
      "RANGE: [ 0.16546714 , 0.9685541 ]\n",
      "herpes-simplex-encephalitis-2(5).png\n",
      "<class 'numpy.ndarray'>\n",
      "SHAPE:  (256, 256, 1)\n",
      "RANGE: [ 0.16546714 , 0.97343045 ]\n",
      "herpes-simplex-encephalitis-2(6).png\n"
     ]
    },
    {
     "name": "stderr",
     "output_type": "stream",
     "text": [
      "Lossy conversion from float64 to uint8. Range [0, 1]. Convert image to uint8 prior to saving to suppress this warning.\n",
      "Lossy conversion from float64 to uint8. Range [0, 1]. Convert image to uint8 prior to saving to suppress this warning.\n"
     ]
    },
    {
     "name": "stdout",
     "output_type": "stream",
     "text": [
      "<class 'numpy.ndarray'>\n",
      "SHAPE:  (256, 256, 1)\n",
      "RANGE: [ 0.16546714 , 0.9706211 ]\n",
      "herpes-simplex-encephalitis-2(7).png\n",
      "<class 'numpy.ndarray'>\n",
      "SHAPE:  (256, 256, 1)\n",
      "RANGE: [ 0.16546714 , 0.9754277 ]\n",
      "herpes-simplex-encephalitis-2(8).png\n"
     ]
    },
    {
     "name": "stderr",
     "output_type": "stream",
     "text": [
      "Lossy conversion from float64 to uint8. Range [0, 1]. Convert image to uint8 prior to saving to suppress this warning.\n",
      "Lossy conversion from float64 to uint8. Range [0, 1]. Convert image to uint8 prior to saving to suppress this warning.\n"
     ]
    },
    {
     "name": "stdout",
     "output_type": "stream",
     "text": [
      "<class 'numpy.ndarray'>\n",
      "SHAPE:  (256, 256, 1)\n",
      "RANGE: [ 0.16546714 , 0.93497026 ]\n",
      "herpes-simplex-encephalitis-2(9).png\n",
      "<class 'numpy.ndarray'>\n",
      "SHAPE:  (256, 256, 1)\n",
      "RANGE: [ 0.16546714 , 0.9061816 ]\n",
      "herpes-simplex-encephalitis-2.png\n"
     ]
    },
    {
     "name": "stderr",
     "output_type": "stream",
     "text": [
      "Lossy conversion from float64 to uint8. Range [0, 1]. Convert image to uint8 prior to saving to suppress this warning.\n"
     ]
    },
    {
     "name": "stdout",
     "output_type": "stream",
     "text": [
      "<class 'numpy.ndarray'>\n",
      "SHAPE:  (256, 256, 1)\n",
      "RANGE: [ 0.16546714 , 0.84747857 ]\n"
     ]
    }
   ],
   "source": [
    "# Lectura de todas las imágenes MRI de cerebros con HSVE\n",
    "\n",
    "for folder1 in listdir(class_HSVE_path):\n",
    "    if path.isdir(class_HSVE_path + folder1):\n",
    "        for folder2 in listdir(class_HSVE_path + folder1):\n",
    "            if path.isdir(class_HSVE_path + folder1 + '/' + folder2):\n",
    "                for folder3 in listdir(class_HSVE_path + folder1 + '/' + folder2):\n",
    "                    if path.isdir(class_HSVE_path + folder1 + '/' + folder2 + '/' + folder3):\n",
    "                        for filename in listdir(class_HSVE_path + folder1 + '/' + folder2 + '/' + folder3):\n",
    "                            print(filename)\n",
    "                            if path.isfile(class_HSVE_path + folder1 + '/' + folder2 + '/' + folder3 + '/' + filename) and filename != '.DS_Store' and filename != '._.DS_Store':\n",
    "\n",
    "                                img = image.imread(class_HSVE_path + folder1 + '/' + folder2 + '/' + folder3 + '/' + filename)\n",
    "\n",
    "                                imagen_rescaled = transform.resize(img, (256, 256, 1), anti_aliasing=True) # Se unifican las dimensiones de cada imagen leída para que puedan ser leídas por el modelo de keras\n",
    "\n",
    "                                img_array = (imagen_rescaled * 255).astype(np.uint8) # Se convierte la imagen a entero de 8 bits\n",
    "\n",
    "                                # Se normaliza cada imagen para que se encuentre en el rango de valores de 0 a 1\n",
    "                                normalized_img = (img_array - np.min(img_array)) / (np.max(img_array) - np.min(img_array))\n",
    "\n",
    "                                if not os.path.exists(class_HSVE_RESIZED_path + folder1 + '/' + folder2 + '/' + folder3 + '/'):\n",
    "                                        os.makedirs(class_HSVE_RESIZED_path + folder1 + '/' + folder2 + '/' + folder3 + '/')\n",
    "\n",
    "                                # Guardar imagen redimensionada en directorio de salida\n",
    "                                io.imsave(class_HSVE_RESIZED_path + folder1 + '/' + folder2 + '/' + folder3 + '/' + filename, normalized_img)\n",
    "\n",
    "                                print(type(normalized_img))\n",
    "                                print(\"SHAPE: \", normalized_img.shape)\n",
    "                                print(\"RANGE: [\", np.min(imagen_rescaled), \",\", np.max(imagen_rescaled), \"]\")"
   ]
  },
  {
   "cell_type": "code",
   "execution_count": 5,
   "metadata": {},
   "outputs": [
    {
     "name": "stdout",
     "output_type": "stream",
     "text": [
      "normal-brain-mri-and-venogram(10).jpg\n"
     ]
    },
    {
     "name": "stderr",
     "output_type": "stream",
     "text": [
      "Lossy conversion from float64 to uint8. Range [0, 1]. Convert image to uint8 prior to saving to suppress this warning.\n",
      "Lossy conversion from float64 to uint8. Range [0, 1]. Convert image to uint8 prior to saving to suppress this warning.\n"
     ]
    },
    {
     "name": "stdout",
     "output_type": "stream",
     "text": [
      "<class 'numpy.ndarray'>\n",
      "SHAPE:  (256, 256, 1)\n",
      "RANGE: [ 0.0 , 0.7817544023929186 ]\n",
      "normal-brain-mri-and-venogram(2).jpg\n",
      "<class 'numpy.ndarray'>\n",
      "SHAPE:  (256, 256, 1)\n",
      "RANGE: [ 0.0 , 0.9913578586049213 ]\n",
      "normal-brain-mri-and-venogram(3).jpg\n"
     ]
    },
    {
     "name": "stderr",
     "output_type": "stream",
     "text": [
      "Lossy conversion from float64 to uint8. Range [0, 1]. Convert image to uint8 prior to saving to suppress this warning.\n",
      "Lossy conversion from float64 to uint8. Range [0, 1]. Convert image to uint8 prior to saving to suppress this warning.\n"
     ]
    },
    {
     "name": "stdout",
     "output_type": "stream",
     "text": [
      "<class 'numpy.ndarray'>\n",
      "SHAPE:  (256, 256, 1)\n",
      "RANGE: [ 0.0 , 0.9899164169985601 ]\n",
      "normal-brain-mri-and-venogram(4).jpg\n",
      "<class 'numpy.ndarray'>\n",
      "SHAPE:  (256, 256, 1)\n",
      "RANGE: [ 0.0 , 0.9768930316866207 ]\n",
      "normal-brain-mri-and-venogram(5).jpg\n"
     ]
    },
    {
     "name": "stderr",
     "output_type": "stream",
     "text": [
      "Lossy conversion from float64 to uint8. Range [0, 1]. Convert image to uint8 prior to saving to suppress this warning.\n",
      "Lossy conversion from float64 to uint8. Range [0, 1]. Convert image to uint8 prior to saving to suppress this warning.\n"
     ]
    },
    {
     "name": "stdout",
     "output_type": "stream",
     "text": [
      "<class 'numpy.ndarray'>\n",
      "SHAPE:  (256, 256, 1)\n",
      "RANGE: [ 0.0 , 0.9679369916173601 ]\n",
      "normal-brain-mri-and-venogram(6).jpg\n",
      "<class 'numpy.ndarray'>\n",
      "SHAPE:  (256, 256, 1)\n",
      "RANGE: [ 0.0 , 0.9738869132479732 ]\n",
      "normal-brain-mri-and-venogram(7).jpg\n"
     ]
    },
    {
     "name": "stderr",
     "output_type": "stream",
     "text": [
      "Lossy conversion from float64 to uint8. Range [0, 1]. Convert image to uint8 prior to saving to suppress this warning.\n",
      "Lossy conversion from float64 to uint8. Range [0, 1]. Convert image to uint8 prior to saving to suppress this warning.\n"
     ]
    },
    {
     "name": "stdout",
     "output_type": "stream",
     "text": [
      "<class 'numpy.ndarray'>\n",
      "SHAPE:  (256, 256, 1)\n",
      "RANGE: [ 0.0 , 0.978262173013239 ]\n",
      "normal-brain-mri-and-venogram(8).jpg\n"
     ]
    },
    {
     "name": "stderr",
     "output_type": "stream",
     "text": [
      "Lossy conversion from float64 to uint8. Range [0, 1]. Convert image to uint8 prior to saving to suppress this warning.\n"
     ]
    },
    {
     "name": "stdout",
     "output_type": "stream",
     "text": [
      "<class 'numpy.ndarray'>\n",
      "SHAPE:  (256, 256, 1)\n",
      "RANGE: [ 0.0 , 0.9210148952387743 ]\n",
      "normal-brain-mri-and-venogram(9).jpg\n",
      "<class 'numpy.ndarray'>\n",
      "SHAPE:  (256, 256, 1)\n",
      "RANGE: [ 0.0 , 0.9719988325568879 ]\n",
      "normal-brain-mri-and-venogram(1).jpg\n"
     ]
    },
    {
     "name": "stderr",
     "output_type": "stream",
     "text": [
      "Lossy conversion from float64 to uint8. Range [0, 1]. Convert image to uint8 prior to saving to suppress this warning.\n"
     ]
    },
    {
     "name": "stdout",
     "output_type": "stream",
     "text": [
      "<class 'numpy.ndarray'>\n",
      "SHAPE:  (256, 256, 1)\n",
      "RANGE: [ 0.03141019615517029 , 0.9995341357704792 ]\n",
      "normal-brain-mri-and-venogram(10).jpg\n"
     ]
    },
    {
     "name": "stderr",
     "output_type": "stream",
     "text": [
      "Lossy conversion from float64 to uint8. Range [0, 1]. Convert image to uint8 prior to saving to suppress this warning.\n",
      "Lossy conversion from float64 to uint8. Range [0, 1]. Convert image to uint8 prior to saving to suppress this warning.\n"
     ]
    },
    {
     "name": "stdout",
     "output_type": "stream",
     "text": [
      "<class 'numpy.ndarray'>\n",
      "SHAPE:  (256, 256, 1)\n",
      "RANGE: [ 0.034252962740227134 , 0.999992631338944 ]\n",
      "normal-brain-mri-and-venogram(2).jpg\n",
      "<class 'numpy.ndarray'>\n",
      "SHAPE:  (256, 256, 1)\n",
      "RANGE: [ 0.03133537191999343 , 0.997220957220286 ]\n",
      "normal-brain-mri-and-venogram(3).jpg\n"
     ]
    },
    {
     "name": "stderr",
     "output_type": "stream",
     "text": [
      "Lossy conversion from float64 to uint8. Range [0, 1]. Convert image to uint8 prior to saving to suppress this warning.\n",
      "Lossy conversion from float64 to uint8. Range [0, 1]. Convert image to uint8 prior to saving to suppress this warning.\n"
     ]
    },
    {
     "name": "stdout",
     "output_type": "stream",
     "text": [
      "<class 'numpy.ndarray'>\n",
      "SHAPE:  (256, 256, 1)\n",
      "RANGE: [ 0.03059355750612828 , 0.997237992855434 ]\n",
      "normal-brain-mri-and-venogram(4).jpg\n",
      "<class 'numpy.ndarray'>\n",
      "SHAPE:  (256, 256, 1)\n",
      "RANGE: [ 0.031073761364219687 , 0.9999640305013978 ]\n",
      "normal-brain-mri-and-venogram(5).jpg\n"
     ]
    },
    {
     "name": "stderr",
     "output_type": "stream",
     "text": [
      "Lossy conversion from float64 to uint8. Range [0, 1]. Convert image to uint8 prior to saving to suppress this warning.\n"
     ]
    },
    {
     "name": "stdout",
     "output_type": "stream",
     "text": [
      "<class 'numpy.ndarray'>\n",
      "SHAPE:  (256, 256, 1)\n",
      "RANGE: [ 0.032228090923288905 , 1.0 ]\n",
      "normal-brain-mri-and-venogram(6).jpg\n"
     ]
    },
    {
     "name": "stderr",
     "output_type": "stream",
     "text": [
      "Lossy conversion from float64 to uint8. Range [0, 1]. Convert image to uint8 prior to saving to suppress this warning.\n",
      "Lossy conversion from float64 to uint8. Range [0, 1]. Convert image to uint8 prior to saving to suppress this warning.\n"
     ]
    },
    {
     "name": "stdout",
     "output_type": "stream",
     "text": [
      "<class 'numpy.ndarray'>\n",
      "SHAPE:  (256, 256, 1)\n",
      "RANGE: [ 0.031813107836971985 , 1.0 ]\n",
      "normal-brain-mri-and-venogram(7).jpg\n",
      "<class 'numpy.ndarray'>\n",
      "SHAPE:  (256, 256, 1)\n",
      "RANGE: [ 0.03291455551825049 , 0.9985757284884613 ]\n",
      "normal-brain-mri-and-venogram(8).jpg\n"
     ]
    },
    {
     "name": "stderr",
     "output_type": "stream",
     "text": [
      "Lossy conversion from float64 to uint8. Range [0, 1]. Convert image to uint8 prior to saving to suppress this warning.\n",
      "Lossy conversion from float64 to uint8. Range [0, 1]. Convert image to uint8 prior to saving to suppress this warning.\n"
     ]
    },
    {
     "name": "stdout",
     "output_type": "stream",
     "text": [
      "<class 'numpy.ndarray'>\n",
      "SHAPE:  (256, 256, 1)\n",
      "RANGE: [ 0.033952531280734374 , 0.9988782573594286 ]\n",
      "normal-brain-mri-and-venogram(9).jpg\n",
      "<class 'numpy.ndarray'>\n",
      "SHAPE:  (256, 256, 1)\n",
      "RANGE: [ 0.0340205928788862 , 0.9990730629418044 ]\n",
      "normal-mri-brain-including-mr-venogram(1).png\n"
     ]
    },
    {
     "name": "stderr",
     "output_type": "stream",
     "text": [
      "Lossy conversion from float64 to uint8. Range [0, 1]. Convert image to uint8 prior to saving to suppress this warning.\n",
      "Lossy conversion from float64 to uint8. Range [0, 1]. Convert image to uint8 prior to saving to suppress this warning.\n"
     ]
    },
    {
     "name": "stdout",
     "output_type": "stream",
     "text": [
      "<class 'numpy.ndarray'>\n",
      "SHAPE:  (256, 256, 1)\n",
      "RANGE: [ 0.16868526 , 1.0 ]\n",
      "normal-mri-brain-including-mr-venogram(10).png\n",
      "<class 'numpy.ndarray'>\n",
      "SHAPE:  (256, 256, 1)\n",
      "RANGE: [ 0.17603913 , 1.0 ]\n",
      "normal-mri-brain-including-mr-venogram(11).png\n"
     ]
    },
    {
     "name": "stderr",
     "output_type": "stream",
     "text": [
      "Lossy conversion from float64 to uint8. Range [0, 1]. Convert image to uint8 prior to saving to suppress this warning.\n"
     ]
    },
    {
     "name": "stdout",
     "output_type": "stream",
     "text": [
      "<class 'numpy.ndarray'>\n",
      "SHAPE:  (256, 256, 1)\n",
      "RANGE: [ 0.17684732 , 1.0 ]\n",
      "normal-mri-brain-including-mr-venogram(12).png\n"
     ]
    },
    {
     "name": "stderr",
     "output_type": "stream",
     "text": [
      "Lossy conversion from float64 to uint8. Range [0, 1]. Convert image to uint8 prior to saving to suppress this warning.\n"
     ]
    },
    {
     "name": "stdout",
     "output_type": "stream",
     "text": [
      "<class 'numpy.ndarray'>\n",
      "SHAPE:  (256, 256, 1)\n",
      "RANGE: [ 0.17684755 , 1.0 ]\n",
      "normal-mri-brain-including-mr-venogram(13).png\n"
     ]
    },
    {
     "name": "stderr",
     "output_type": "stream",
     "text": [
      "Lossy conversion from float64 to uint8. Range [0, 1]. Convert image to uint8 prior to saving to suppress this warning.\n",
      "Lossy conversion from float64 to uint8. Range [0, 1]. Convert image to uint8 prior to saving to suppress this warning.\n"
     ]
    },
    {
     "name": "stdout",
     "output_type": "stream",
     "text": [
      "<class 'numpy.ndarray'>\n",
      "SHAPE:  (256, 256, 1)\n",
      "RANGE: [ 0.17422755 , 1.0 ]\n",
      "normal-mri-brain-including-mr-venogram(14).png\n"
     ]
    },
    {
     "name": "stderr",
     "output_type": "stream",
     "text": [
      "Lossy conversion from float64 to uint8. Range [0, 1]. Convert image to uint8 prior to saving to suppress this warning.\n"
     ]
    },
    {
     "name": "stdout",
     "output_type": "stream",
     "text": [
      "<class 'numpy.ndarray'>\n",
      "SHAPE:  (256, 256, 1)\n",
      "RANGE: [ 0.17422755 , 1.0 ]\n",
      "normal-mri-brain-including-mr-venogram(3).png\n"
     ]
    },
    {
     "name": "stderr",
     "output_type": "stream",
     "text": [
      "Lossy conversion from float64 to uint8. Range [0, 1]. Convert image to uint8 prior to saving to suppress this warning.\n"
     ]
    },
    {
     "name": "stdout",
     "output_type": "stream",
     "text": [
      "<class 'numpy.ndarray'>\n",
      "SHAPE:  (256, 256, 1)\n",
      "RANGE: [ 0.17422755 , 1.0 ]\n",
      "normal-mri-brain-including-mr-venogram(4).png\n"
     ]
    },
    {
     "name": "stderr",
     "output_type": "stream",
     "text": [
      "Lossy conversion from float64 to uint8. Range [0, 1]. Convert image to uint8 prior to saving to suppress this warning.\n"
     ]
    },
    {
     "name": "stdout",
     "output_type": "stream",
     "text": [
      "<class 'numpy.ndarray'>\n",
      "SHAPE:  (256, 256, 1)\n",
      "RANGE: [ 0.17422755 , 1.0 ]\n",
      "normal-mri-brain-including-mr-venogram(5).png\n"
     ]
    },
    {
     "name": "stderr",
     "output_type": "stream",
     "text": [
      "Lossy conversion from float64 to uint8. Range [0, 1]. Convert image to uint8 prior to saving to suppress this warning.\n"
     ]
    },
    {
     "name": "stdout",
     "output_type": "stream",
     "text": [
      "<class 'numpy.ndarray'>\n",
      "SHAPE:  (256, 256, 1)\n",
      "RANGE: [ 0.17603894 , 1.0 ]\n",
      "normal-mri-brain-including-mr-venogram(6).png\n"
     ]
    },
    {
     "name": "stderr",
     "output_type": "stream",
     "text": [
      "Lossy conversion from float64 to uint8. Range [0, 1]. Convert image to uint8 prior to saving to suppress this warning.\n"
     ]
    },
    {
     "name": "stdout",
     "output_type": "stream",
     "text": [
      "<class 'numpy.ndarray'>\n",
      "SHAPE:  (256, 256, 1)\n",
      "RANGE: [ 0.17684774 , 1.0 ]\n",
      "normal-mri-brain-including-mr-venogram(7).png\n"
     ]
    },
    {
     "name": "stderr",
     "output_type": "stream",
     "text": [
      "Lossy conversion from float64 to uint8. Range [0, 1]. Convert image to uint8 prior to saving to suppress this warning.\n"
     ]
    },
    {
     "name": "stdout",
     "output_type": "stream",
     "text": [
      "<class 'numpy.ndarray'>\n",
      "SHAPE:  (256, 256, 1)\n",
      "RANGE: [ 0.17603871 , 1.0 ]\n",
      "normal-mri-brain-including-mr-venogram(8).png\n",
      "<class 'numpy.ndarray'>\n",
      "SHAPE:  (256, 256, 1)\n",
      "RANGE: [ 0.17684774 , 1.0 ]\n",
      "normal-mri-brain-including-mr-venogram(9).png\n"
     ]
    },
    {
     "name": "stderr",
     "output_type": "stream",
     "text": [
      "Lossy conversion from float64 to uint8. Range [0, 1]. Convert image to uint8 prior to saving to suppress this warning.\n",
      "Lossy conversion from float64 to uint8. Range [0, 1]. Convert image to uint8 prior to saving to suppress this warning.\n"
     ]
    },
    {
     "name": "stdout",
     "output_type": "stream",
     "text": [
      "<class 'numpy.ndarray'>\n",
      "SHAPE:  (256, 256, 1)\n",
      "RANGE: [ 0.17684774 , 1.0 ]\n",
      "normal-mri-brain-including-mr-venogram(11).png\n",
      "<class 'numpy.ndarray'>\n",
      "SHAPE:  (256, 256, 1)\n",
      "RANGE: [ 0.07986725 , 0.9853551 ]\n",
      "normal-mri-brain-including-mr-venogram(12).png\n"
     ]
    },
    {
     "name": "stderr",
     "output_type": "stream",
     "text": [
      "Lossy conversion from float64 to uint8. Range [0, 1]. Convert image to uint8 prior to saving to suppress this warning.\n",
      "Lossy conversion from float64 to uint8. Range [0, 1]. Convert image to uint8 prior to saving to suppress this warning.\n"
     ]
    },
    {
     "name": "stdout",
     "output_type": "stream",
     "text": [
      "<class 'numpy.ndarray'>\n",
      "SHAPE:  (256, 256, 1)\n",
      "RANGE: [ 0.07986725 , 0.9869851 ]\n",
      "normal-mri-brain-including-mr-venogram(14).png\n",
      "<class 'numpy.ndarray'>\n",
      "SHAPE:  (256, 256, 1)\n",
      "RANGE: [ 0.07986725 , 0.99344903 ]\n",
      "normal-mri-brain-including-mr-venogram(15).png\n"
     ]
    },
    {
     "name": "stderr",
     "output_type": "stream",
     "text": [
      "Lossy conversion from float64 to uint8. Range [0, 1]. Convert image to uint8 prior to saving to suppress this warning.\n",
      "Lossy conversion from float64 to uint8. Range [0, 1]. Convert image to uint8 prior to saving to suppress this warning.\n"
     ]
    },
    {
     "name": "stdout",
     "output_type": "stream",
     "text": [
      "<class 'numpy.ndarray'>\n",
      "SHAPE:  (256, 256, 1)\n",
      "RANGE: [ 0.07986725 , 0.99669755 ]\n",
      "normal-mri-brain-including-mr-venogram(17).png\n",
      "<class 'numpy.ndarray'>\n",
      "SHAPE:  (256, 256, 1)\n",
      "RANGE: [ 0.07986725 , 0.9992455 ]\n",
      "normal-mri-brain-including-mr-venogram(18).png\n"
     ]
    },
    {
     "name": "stderr",
     "output_type": "stream",
     "text": [
      "Lossy conversion from float64 to uint8. Range [0, 1]. Convert image to uint8 prior to saving to suppress this warning.\n",
      "Lossy conversion from float64 to uint8. Range [0, 1]. Convert image to uint8 prior to saving to suppress this warning.\n"
     ]
    },
    {
     "name": "stdout",
     "output_type": "stream",
     "text": [
      "<class 'numpy.ndarray'>\n",
      "SHAPE:  (256, 256, 1)\n",
      "RANGE: [ 0.07986725 , 0.998706 ]\n",
      "normal-mri-brain-including-mr-venogram(20).png\n",
      "<class 'numpy.ndarray'>\n",
      "SHAPE:  (256, 256, 1)\n",
      "RANGE: [ 0.07986725 , 0.99821955 ]\n",
      "normal-mri-brain-including-mr-venogram(21).png\n"
     ]
    },
    {
     "name": "stderr",
     "output_type": "stream",
     "text": [
      "Lossy conversion from float64 to uint8. Range [0, 1]. Convert image to uint8 prior to saving to suppress this warning.\n",
      "Lossy conversion from float64 to uint8. Range [0, 1]. Convert image to uint8 prior to saving to suppress this warning.\n"
     ]
    },
    {
     "name": "stdout",
     "output_type": "stream",
     "text": [
      "<class 'numpy.ndarray'>\n",
      "SHAPE:  (256, 256, 1)\n",
      "RANGE: [ 0.07986725 , 0.9959431 ]\n",
      "normal-mri-brain-including-mr-venogram(23).png\n",
      "<class 'numpy.ndarray'>\n",
      "SHAPE:  (256, 256, 1)\n",
      "RANGE: [ 0.07986725 , 0.994475 ]\n",
      "normal-mri-brain-including-mr-venogram(24).png\n"
     ]
    },
    {
     "name": "stderr",
     "output_type": "stream",
     "text": [
      "Lossy conversion from float64 to uint8. Range [0, 1]. Convert image to uint8 prior to saving to suppress this warning.\n",
      "Lossy conversion from float64 to uint8. Range [0, 1]. Convert image to uint8 prior to saving to suppress this warning.\n"
     ]
    },
    {
     "name": "stdout",
     "output_type": "stream",
     "text": [
      "<class 'numpy.ndarray'>\n",
      "SHAPE:  (256, 256, 1)\n",
      "RANGE: [ 0.07986725 , 0.9988538 ]\n",
      "normal-mri-brain-including-mr-venogram(26).png\n",
      "<class 'numpy.ndarray'>\n",
      "SHAPE:  (256, 256, 1)\n",
      "RANGE: [ 0.07986725 , 0.9999919 ]\n",
      "normal-mri-brain-including-mr-venogram(29).png\n"
     ]
    },
    {
     "name": "stderr",
     "output_type": "stream",
     "text": [
      "Lossy conversion from float64 to uint8. Range [0, 1]. Convert image to uint8 prior to saving to suppress this warning.\n",
      "Lossy conversion from float64 to uint8. Range [0, 1]. Convert image to uint8 prior to saving to suppress this warning.\n"
     ]
    },
    {
     "name": "stdout",
     "output_type": "stream",
     "text": [
      "<class 'numpy.ndarray'>\n",
      "SHAPE:  (256, 256, 1)\n",
      "RANGE: [ 0.07986725 , 0.99732906 ]\n",
      "normal-mri-brain-including-mr-venogram(3).png\n",
      "<class 'numpy.ndarray'>\n",
      "SHAPE:  (256, 256, 1)\n",
      "RANGE: [ 0.07986725 , 0.99746186 ]\n",
      "normal-mri-brain-including-mr-venogram(31).png\n"
     ]
    },
    {
     "name": "stderr",
     "output_type": "stream",
     "text": [
      "Lossy conversion from float64 to uint8. Range [0, 1]. Convert image to uint8 prior to saving to suppress this warning.\n",
      "Lossy conversion from float64 to uint8. Range [0, 1]. Convert image to uint8 prior to saving to suppress this warning.\n"
     ]
    },
    {
     "name": "stdout",
     "output_type": "stream",
     "text": [
      "<class 'numpy.ndarray'>\n",
      "SHAPE:  (256, 256, 1)\n",
      "RANGE: [ 0.07986725 , 0.99446917 ]\n",
      "normal-mri-brain-including-mr-venogram(32).png\n",
      "<class 'numpy.ndarray'>\n",
      "SHAPE:  (256, 256, 1)\n",
      "RANGE: [ 0.07986725 , 0.99999124 ]\n",
      "normal-mri-brain-including-mr-venogram(5).png\n"
     ]
    },
    {
     "name": "stderr",
     "output_type": "stream",
     "text": [
      "Lossy conversion from float64 to uint8. Range [0, 1]. Convert image to uint8 prior to saving to suppress this warning.\n",
      "Lossy conversion from float64 to uint8. Range [0, 1]. Convert image to uint8 prior to saving to suppress this warning.\n"
     ]
    },
    {
     "name": "stdout",
     "output_type": "stream",
     "text": [
      "<class 'numpy.ndarray'>\n",
      "SHAPE:  (256, 256, 1)\n",
      "RANGE: [ 0.07986725 , 0.9926276 ]\n",
      "normal-mri-brain-including-mr-venogram(6).png\n",
      "<class 'numpy.ndarray'>\n",
      "SHAPE:  (256, 256, 1)\n",
      "RANGE: [ 0.07986725 , 0.9904141 ]\n",
      "normal-mri-brain-including-mr-venogram(8).png\n"
     ]
    },
    {
     "name": "stderr",
     "output_type": "stream",
     "text": [
      "Lossy conversion from float64 to uint8. Range [0, 1]. Convert image to uint8 prior to saving to suppress this warning.\n",
      "Lossy conversion from float64 to uint8. Range [0, 1]. Convert image to uint8 prior to saving to suppress this warning.\n"
     ]
    },
    {
     "name": "stdout",
     "output_type": "stream",
     "text": [
      "<class 'numpy.ndarray'>\n",
      "SHAPE:  (256, 256, 1)\n",
      "RANGE: [ 0.07986725 , 0.99156404 ]\n",
      "normal-mri-brain-including-mr-venogram(9).png\n",
      "<class 'numpy.ndarray'>\n",
      "SHAPE:  (256, 256, 1)\n",
      "RANGE: [ 0.07986725 , 0.9885202 ]\n",
      "normal-mri-brain-including-mr-venogram(1).png\n"
     ]
    },
    {
     "name": "stderr",
     "output_type": "stream",
     "text": [
      "Lossy conversion from float64 to uint8. Range [0, 1]. Convert image to uint8 prior to saving to suppress this warning.\n",
      "Lossy conversion from float64 to uint8. Range [0, 1]. Convert image to uint8 prior to saving to suppress this warning.\n"
     ]
    },
    {
     "name": "stdout",
     "output_type": "stream",
     "text": [
      "<class 'numpy.ndarray'>\n",
      "SHAPE:  (256, 256, 1)\n",
      "RANGE: [ 0.035294868 , 1.0 ]\n",
      "normal-mri-brain-including-mr-venogram(10).png\n",
      "<class 'numpy.ndarray'>\n",
      "SHAPE:  (256, 256, 1)\n",
      "RANGE: [ 0.039215688 , 1.0 ]\n",
      "normal-mri-brain-including-mr-venogram(11).png\n"
     ]
    },
    {
     "name": "stderr",
     "output_type": "stream",
     "text": [
      "Lossy conversion from float64 to uint8. Range [0, 1]. Convert image to uint8 prior to saving to suppress this warning.\n",
      "Lossy conversion from float64 to uint8. Range [0, 1]. Convert image to uint8 prior to saving to suppress this warning.\n"
     ]
    },
    {
     "name": "stdout",
     "output_type": "stream",
     "text": [
      "<class 'numpy.ndarray'>\n",
      "SHAPE:  (256, 256, 1)\n",
      "RANGE: [ 0.037651986 , 1.0 ]\n",
      "normal-mri-brain-including-mr-venogram(12).png\n",
      "<class 'numpy.ndarray'>\n",
      "SHAPE:  (256, 256, 1)\n",
      "RANGE: [ 0.037429906 , 1.0 ]\n",
      "normal-mri-brain-including-mr-venogram(13).png\n"
     ]
    },
    {
     "name": "stderr",
     "output_type": "stream",
     "text": [
      "Lossy conversion from float64 to uint8. Range [0, 1]. Convert image to uint8 prior to saving to suppress this warning.\n",
      "Lossy conversion from float64 to uint8. Range [0, 1]. Convert image to uint8 prior to saving to suppress this warning.\n"
     ]
    },
    {
     "name": "stdout",
     "output_type": "stream",
     "text": [
      "<class 'numpy.ndarray'>\n",
      "SHAPE:  (256, 256, 1)\n",
      "RANGE: [ 0.039216 , 1.0 ]\n",
      "normal-mri-brain-including-mr-venogram(14).png\n",
      "<class 'numpy.ndarray'>\n",
      "SHAPE:  (256, 256, 1)\n",
      "RANGE: [ 0.03921577 , 1.0 ]\n",
      "normal-mri-brain-including-mr-venogram(15).png\n"
     ]
    },
    {
     "name": "stderr",
     "output_type": "stream",
     "text": [
      "Lossy conversion from float64 to uint8. Range [0, 1]. Convert image to uint8 prior to saving to suppress this warning.\n",
      "Lossy conversion from float64 to uint8. Range [0, 1]. Convert image to uint8 prior to saving to suppress this warning.\n"
     ]
    },
    {
     "name": "stdout",
     "output_type": "stream",
     "text": [
      "<class 'numpy.ndarray'>\n",
      "SHAPE:  (256, 256, 1)\n",
      "RANGE: [ 0.043137256 , 1.0 ]\n",
      "normal-mri-brain-including-mr-venogram(16).png\n",
      "<class 'numpy.ndarray'>\n",
      "SHAPE:  (256, 256, 1)\n",
      "RANGE: [ 0.043358985 , 1.0 ]\n",
      "normal-mri-brain-including-mr-venogram(2).png\n"
     ]
    },
    {
     "name": "stderr",
     "output_type": "stream",
     "text": [
      "Lossy conversion from float64 to uint8. Range [0, 1]. Convert image to uint8 prior to saving to suppress this warning.\n",
      "Lossy conversion from float64 to uint8. Range [0, 1]. Convert image to uint8 prior to saving to suppress this warning.\n"
     ]
    },
    {
     "name": "stdout",
     "output_type": "stream",
     "text": [
      "<class 'numpy.ndarray'>\n",
      "SHAPE:  (256, 256, 1)\n",
      "RANGE: [ 0.03206066 , 1.0 ]\n",
      "normal-mri-brain-including-mr-venogram(3).png\n",
      "<class 'numpy.ndarray'>\n",
      "SHAPE:  (256, 256, 1)\n",
      "RANGE: [ 0.03551533 , 1.0 ]\n",
      "normal-mri-brain-including-mr-venogram(4).png\n"
     ]
    },
    {
     "name": "stderr",
     "output_type": "stream",
     "text": [
      "Lossy conversion from float64 to uint8. Range [0, 1]. Convert image to uint8 prior to saving to suppress this warning.\n",
      "Lossy conversion from float64 to uint8. Range [0, 1]. Convert image to uint8 prior to saving to suppress this warning.\n"
     ]
    },
    {
     "name": "stdout",
     "output_type": "stream",
     "text": [
      "<class 'numpy.ndarray'>\n",
      "SHAPE:  (256, 256, 1)\n",
      "RANGE: [ 0.036154643 , 1.0 ]\n",
      "normal-mri-brain-including-mr-venogram(5).png\n",
      "<class 'numpy.ndarray'>\n",
      "SHAPE:  (256, 256, 1)\n",
      "RANGE: [ 0.03529412 , 1.0 ]\n",
      "normal-mri-brain-including-mr-venogram(6).png\n"
     ]
    },
    {
     "name": "stderr",
     "output_type": "stream",
     "text": [
      "Lossy conversion from float64 to uint8. Range [0, 1]. Convert image to uint8 prior to saving to suppress this warning.\n",
      "Lossy conversion from float64 to uint8. Range [0, 1]. Convert image to uint8 prior to saving to suppress this warning.\n"
     ]
    },
    {
     "name": "stdout",
     "output_type": "stream",
     "text": [
      "<class 'numpy.ndarray'>\n",
      "SHAPE:  (256, 256, 1)\n",
      "RANGE: [ 0.035975587 , 1.0 ]\n",
      "normal-mri-brain-including-mr-venogram(7).png\n",
      "<class 'numpy.ndarray'>\n",
      "SHAPE:  (256, 256, 1)\n",
      "RANGE: [ 0.039321087 , 1.0 ]\n",
      "normal-mri-brain-including-mr-venogram(8).png\n"
     ]
    },
    {
     "name": "stderr",
     "output_type": "stream",
     "text": [
      "Lossy conversion from float64 to uint8. Range [0, 1]. Convert image to uint8 prior to saving to suppress this warning.\n",
      "Lossy conversion from float64 to uint8. Range [0, 1]. Convert image to uint8 prior to saving to suppress this warning.\n"
     ]
    },
    {
     "name": "stdout",
     "output_type": "stream",
     "text": [
      "<class 'numpy.ndarray'>\n",
      "SHAPE:  (256, 256, 1)\n",
      "RANGE: [ 0.039215688 , 1.0 ]\n",
      "normal-mri-brain-including-mr-venogram(9).png\n",
      "<class 'numpy.ndarray'>\n",
      "SHAPE:  (256, 256, 1)\n",
      "RANGE: [ 0.039215688 , 1.0 ]\n",
      "normal-mri-brain-including-mr-venogram.png\n"
     ]
    },
    {
     "name": "stderr",
     "output_type": "stream",
     "text": [
      "Lossy conversion from float64 to uint8. Range [0, 1]. Convert image to uint8 prior to saving to suppress this warning.\n",
      "Lossy conversion from float64 to uint8. Range [0, 1]. Convert image to uint8 prior to saving to suppress this warning.\n"
     ]
    },
    {
     "name": "stdout",
     "output_type": "stream",
     "text": [
      "<class 'numpy.ndarray'>\n",
      "SHAPE:  (256, 256, 1)\n",
      "RANGE: [ 0.036189824 , 1.0 ]\n",
      "normal-mri-brain-including-mr-venogram(1).png\n"
     ]
    },
    {
     "name": "stderr",
     "output_type": "stream",
     "text": [
      "Lossy conversion from float64 to uint8. Range [0, 1]. Convert image to uint8 prior to saving to suppress this warning.\n"
     ]
    },
    {
     "name": "stdout",
     "output_type": "stream",
     "text": [
      "<class 'numpy.ndarray'>\n",
      "SHAPE:  (256, 256, 1)\n",
      "RANGE: [ 0.07986725 , 1.0 ]\n",
      "normal-mri-brain-including-mr-venogram(10).png\n",
      "<class 'numpy.ndarray'>\n",
      "SHAPE:  (256, 256, 1)\n",
      "RANGE: [ 0.07986725 , 0.9965668 ]\n",
      "normal-mri-brain-including-mr-venogram(11).png\n"
     ]
    },
    {
     "name": "stderr",
     "output_type": "stream",
     "text": [
      "Lossy conversion from float64 to uint8. Range [0, 1]. Convert image to uint8 prior to saving to suppress this warning.\n",
      "Lossy conversion from float64 to uint8. Range [0, 1]. Convert image to uint8 prior to saving to suppress this warning.\n"
     ]
    },
    {
     "name": "stdout",
     "output_type": "stream",
     "text": [
      "<class 'numpy.ndarray'>\n",
      "SHAPE:  (256, 256, 1)\n",
      "RANGE: [ 0.07986725 , 0.99999917 ]\n",
      "normal-mri-brain-including-mr-venogram(12).png\n",
      "<class 'numpy.ndarray'>\n",
      "SHAPE:  (256, 256, 1)\n",
      "RANGE: [ 0.07986725 , 0.97006375 ]\n",
      "normal-mri-brain-including-mr-venogram(13).png\n"
     ]
    },
    {
     "name": "stderr",
     "output_type": "stream",
     "text": [
      "Lossy conversion from float64 to uint8. Range [0, 1]. Convert image to uint8 prior to saving to suppress this warning.\n",
      "Lossy conversion from float64 to uint8. Range [0, 1]. Convert image to uint8 prior to saving to suppress this warning.\n"
     ]
    },
    {
     "name": "stdout",
     "output_type": "stream",
     "text": [
      "<class 'numpy.ndarray'>\n",
      "SHAPE:  (256, 256, 1)\n",
      "RANGE: [ 0.07986725 , 0.9701436 ]\n",
      "normal-mri-brain-including-mr-venogram(14).png\n",
      "<class 'numpy.ndarray'>\n",
      "SHAPE:  (256, 256, 1)\n",
      "RANGE: [ 0.07986725 , 0.96309745 ]\n",
      "normal-mri-brain-including-mr-venogram(2).png\n"
     ]
    },
    {
     "name": "stderr",
     "output_type": "stream",
     "text": [
      "Lossy conversion from float64 to uint8. Range [0, 1]. Convert image to uint8 prior to saving to suppress this warning.\n",
      "Lossy conversion from float64 to uint8. Range [0, 1]. Convert image to uint8 prior to saving to suppress this warning.\n"
     ]
    },
    {
     "name": "stdout",
     "output_type": "stream",
     "text": [
      "<class 'numpy.ndarray'>\n",
      "SHAPE:  (256, 256, 1)\n",
      "RANGE: [ 0.07986725 , 0.9998133 ]\n",
      "normal-mri-brain-including-mr-venogram(3).png\n",
      "<class 'numpy.ndarray'>\n",
      "SHAPE:  (256, 256, 1)\n",
      "RANGE: [ 0.07986725 , 0.9998989 ]\n",
      "normal-mri-brain-including-mr-venogram(4).png\n"
     ]
    },
    {
     "name": "stderr",
     "output_type": "stream",
     "text": [
      "Lossy conversion from float64 to uint8. Range [0, 1]. Convert image to uint8 prior to saving to suppress this warning.\n",
      "Lossy conversion from float64 to uint8. Range [0, 1]. Convert image to uint8 prior to saving to suppress this warning.\n"
     ]
    },
    {
     "name": "stdout",
     "output_type": "stream",
     "text": [
      "<class 'numpy.ndarray'>\n",
      "SHAPE:  (256, 256, 1)\n",
      "RANGE: [ 0.07986725 , 0.997524 ]\n",
      "normal-mri-brain-including-mr-venogram(5).png\n",
      "<class 'numpy.ndarray'>\n",
      "SHAPE:  (256, 256, 1)\n",
      "RANGE: [ 0.07986725 , 0.9983208 ]\n",
      "normal-mri-brain-including-mr-venogram(6).png\n"
     ]
    },
    {
     "name": "stderr",
     "output_type": "stream",
     "text": [
      "Lossy conversion from float64 to uint8. Range [0, 1]. Convert image to uint8 prior to saving to suppress this warning.\n",
      "Lossy conversion from float64 to uint8. Range [0, 1]. Convert image to uint8 prior to saving to suppress this warning.\n"
     ]
    },
    {
     "name": "stdout",
     "output_type": "stream",
     "text": [
      "<class 'numpy.ndarray'>\n",
      "SHAPE:  (256, 256, 1)\n",
      "RANGE: [ 0.07986725 , 0.9854595 ]\n",
      "normal-mri-brain-including-mr-venogram(7).png\n",
      "<class 'numpy.ndarray'>\n",
      "SHAPE:  (256, 256, 1)\n",
      "RANGE: [ 0.07986725 , 0.9791894 ]\n",
      "normal-mri-brain-including-mr-venogram(8).png\n"
     ]
    },
    {
     "name": "stderr",
     "output_type": "stream",
     "text": [
      "Lossy conversion from float64 to uint8. Range [0, 1]. Convert image to uint8 prior to saving to suppress this warning.\n",
      "Lossy conversion from float64 to uint8. Range [0, 1]. Convert image to uint8 prior to saving to suppress this warning.\n"
     ]
    },
    {
     "name": "stdout",
     "output_type": "stream",
     "text": [
      "<class 'numpy.ndarray'>\n",
      "SHAPE:  (256, 256, 1)\n",
      "RANGE: [ 0.07986725 , 0.9930291 ]\n",
      "normal-mri-brain-including-mr-venogram(9).png\n",
      "<class 'numpy.ndarray'>\n",
      "SHAPE:  (256, 256, 1)\n",
      "RANGE: [ 0.07986725 , 0.9997675 ]\n",
      "normal-mri-brain-including-mr-venogram.png\n"
     ]
    },
    {
     "name": "stderr",
     "output_type": "stream",
     "text": [
      "Lossy conversion from float64 to uint8. Range [0, 1]. Convert image to uint8 prior to saving to suppress this warning.\n",
      "Lossy conversion from float64 to uint8. Range [0, 1]. Convert image to uint8 prior to saving to suppress this warning.\n"
     ]
    },
    {
     "name": "stdout",
     "output_type": "stream",
     "text": [
      "<class 'numpy.ndarray'>\n",
      "SHAPE:  (256, 256, 1)\n",
      "RANGE: [ 0.07986725 , 0.9994483 ]\n",
      "normal-mri-brain-including-mr-venogram(1).png\n",
      "<class 'numpy.ndarray'>\n",
      "SHAPE:  (256, 256, 1)\n",
      "RANGE: [ 0.08410506 , 0.9905991 ]\n",
      "normal-mri-brain-including-mr-venogram(10).png\n"
     ]
    },
    {
     "name": "stderr",
     "output_type": "stream",
     "text": [
      "Lossy conversion from float64 to uint8. Range [0, 1]. Convert image to uint8 prior to saving to suppress this warning.\n",
      "Lossy conversion from float64 to uint8. Range [0, 1]. Convert image to uint8 prior to saving to suppress this warning.\n"
     ]
    },
    {
     "name": "stdout",
     "output_type": "stream",
     "text": [
      "<class 'numpy.ndarray'>\n",
      "SHAPE:  (256, 256, 1)\n",
      "RANGE: [ 0.0948865 , 0.9999988 ]\n",
      "normal-mri-brain-including-mr-venogram(11).png\n",
      "<class 'numpy.ndarray'>\n",
      "SHAPE:  (256, 256, 1)\n",
      "RANGE: [ 0.08410554 , 0.99999887 ]\n",
      "normal-mri-brain-including-mr-venogram(12).png\n"
     ]
    },
    {
     "name": "stderr",
     "output_type": "stream",
     "text": [
      "Lossy conversion from float64 to uint8. Range [0, 1]. Convert image to uint8 prior to saving to suppress this warning.\n",
      "Lossy conversion from float64 to uint8. Range [0, 1]. Convert image to uint8 prior to saving to suppress this warning.\n"
     ]
    },
    {
     "name": "stdout",
     "output_type": "stream",
     "text": [
      "<class 'numpy.ndarray'>\n",
      "SHAPE:  (256, 256, 1)\n",
      "RANGE: [ 0.09488654 , 1.0 ]\n",
      "normal-mri-brain-including-mr-venogram(13).png\n",
      "<class 'numpy.ndarray'>\n",
      "SHAPE:  (256, 256, 1)\n",
      "RANGE: [ 0.0948865 , 0.9999981 ]\n",
      "normal-mri-brain-including-mr-venogram(14).png\n"
     ]
    },
    {
     "name": "stderr",
     "output_type": "stream",
     "text": [
      "Lossy conversion from float64 to uint8. Range [0, 1]. Convert image to uint8 prior to saving to suppress this warning.\n",
      "Lossy conversion from float64 to uint8. Range [0, 1]. Convert image to uint8 prior to saving to suppress this warning.\n"
     ]
    },
    {
     "name": "stdout",
     "output_type": "stream",
     "text": [
      "<class 'numpy.ndarray'>\n",
      "SHAPE:  (256, 256, 1)\n",
      "RANGE: [ 0.08510765 , 0.99999547 ]\n",
      "normal-mri-brain-including-mr-venogram(15).png\n",
      "<class 'numpy.ndarray'>\n",
      "SHAPE:  (256, 256, 1)\n",
      "RANGE: [ 0.09488652 , 0.99999356 ]\n",
      "normal-mri-brain-including-mr-venogram(16).png\n"
     ]
    },
    {
     "name": "stderr",
     "output_type": "stream",
     "text": [
      "Lossy conversion from float64 to uint8. Range [0, 1]. Convert image to uint8 prior to saving to suppress this warning.\n",
      "Lossy conversion from float64 to uint8. Range [0, 1]. Convert image to uint8 prior to saving to suppress this warning.\n"
     ]
    },
    {
     "name": "stdout",
     "output_type": "stream",
     "text": [
      "<class 'numpy.ndarray'>\n",
      "SHAPE:  (256, 256, 1)\n",
      "RANGE: [ 0.08510827 , 0.99996066 ]\n",
      "normal-mri-brain-including-mr-venogram(17).png\n",
      "<class 'numpy.ndarray'>\n",
      "SHAPE:  (256, 256, 1)\n",
      "RANGE: [ 0.08510765 , 0.99994963 ]\n",
      "normal-mri-brain-including-mr-venogram(18).png\n"
     ]
    },
    {
     "name": "stderr",
     "output_type": "stream",
     "text": [
      "Lossy conversion from float64 to uint8. Range [0, 1]. Convert image to uint8 prior to saving to suppress this warning.\n",
      "Lossy conversion from float64 to uint8. Range [0, 1]. Convert image to uint8 prior to saving to suppress this warning.\n"
     ]
    },
    {
     "name": "stdout",
     "output_type": "stream",
     "text": [
      "<class 'numpy.ndarray'>\n",
      "SHAPE:  (256, 256, 1)\n",
      "RANGE: [ 0.08510827 , 0.99987894 ]\n",
      "normal-mri-brain-including-mr-venogram(19).png\n",
      "<class 'numpy.ndarray'>\n",
      "SHAPE:  (256, 256, 1)\n",
      "RANGE: [ 0.09488652 , 0.9995205 ]\n",
      "normal-mri-brain-including-mr-venogram(2).png\n"
     ]
    },
    {
     "name": "stderr",
     "output_type": "stream",
     "text": [
      "Lossy conversion from float64 to uint8. Range [0, 1]. Convert image to uint8 prior to saving to suppress this warning.\n",
      "Lossy conversion from float64 to uint8. Range [0, 1]. Convert image to uint8 prior to saving to suppress this warning.\n"
     ]
    },
    {
     "name": "stdout",
     "output_type": "stream",
     "text": [
      "<class 'numpy.ndarray'>\n",
      "SHAPE:  (256, 256, 1)\n",
      "RANGE: [ 0.08410506 , 0.9988529 ]\n",
      "normal-mri-brain-including-mr-venogram(20).png\n",
      "<class 'numpy.ndarray'>\n",
      "SHAPE:  (256, 256, 1)\n",
      "RANGE: [ 0.094895884 , 0.999793 ]\n",
      "normal-mri-brain-including-mr-venogram(3).png\n"
     ]
    },
    {
     "name": "stderr",
     "output_type": "stream",
     "text": [
      "Lossy conversion from float64 to uint8. Range [0, 1]. Convert image to uint8 prior to saving to suppress this warning.\n",
      "Lossy conversion from float64 to uint8. Range [0, 1]. Convert image to uint8 prior to saving to suppress this warning.\n"
     ]
    },
    {
     "name": "stdout",
     "output_type": "stream",
     "text": [
      "<class 'numpy.ndarray'>\n",
      "SHAPE:  (256, 256, 1)\n",
      "RANGE: [ 0.08410506 , 0.9999813 ]\n",
      "normal-mri-brain-including-mr-venogram(4).png\n",
      "<class 'numpy.ndarray'>\n",
      "SHAPE:  (256, 256, 1)\n",
      "RANGE: [ 0.08410506 , 0.9993338 ]\n",
      "normal-mri-brain-including-mr-venogram(5).png\n"
     ]
    },
    {
     "name": "stderr",
     "output_type": "stream",
     "text": [
      "Lossy conversion from float64 to uint8. Range [0, 1]. Convert image to uint8 prior to saving to suppress this warning.\n",
      "Lossy conversion from float64 to uint8. Range [0, 1]. Convert image to uint8 prior to saving to suppress this warning.\n"
     ]
    },
    {
     "name": "stdout",
     "output_type": "stream",
     "text": [
      "<class 'numpy.ndarray'>\n",
      "SHAPE:  (256, 256, 1)\n",
      "RANGE: [ 0.08410506 , 0.999783 ]\n",
      "normal-mri-brain-including-mr-venogram(6).png\n",
      "<class 'numpy.ndarray'>\n",
      "SHAPE:  (256, 256, 1)\n",
      "RANGE: [ 0.08410506 , 0.99997544 ]\n",
      "normal-mri-brain-including-mr-venogram(7).png\n"
     ]
    },
    {
     "name": "stderr",
     "output_type": "stream",
     "text": [
      "Lossy conversion from float64 to uint8. Range [0, 1]. Convert image to uint8 prior to saving to suppress this warning.\n",
      "Lossy conversion from float64 to uint8. Range [0, 1]. Convert image to uint8 prior to saving to suppress this warning.\n"
     ]
    },
    {
     "name": "stdout",
     "output_type": "stream",
     "text": [
      "<class 'numpy.ndarray'>\n",
      "SHAPE:  (256, 256, 1)\n",
      "RANGE: [ 0.08410506 , 0.9999684 ]\n",
      "normal-mri-brain-including-mr-venogram(8).png\n",
      "<class 'numpy.ndarray'>\n",
      "SHAPE:  (256, 256, 1)\n",
      "RANGE: [ 0.08510765 , 0.9999997 ]\n",
      "normal-mri-brain-including-mr-venogram(9).png\n"
     ]
    },
    {
     "name": "stderr",
     "output_type": "stream",
     "text": [
      "Lossy conversion from float64 to uint8. Range [0, 1]. Convert image to uint8 prior to saving to suppress this warning.\n",
      "Lossy conversion from float64 to uint8. Range [0, 1]. Convert image to uint8 prior to saving to suppress this warning.\n"
     ]
    },
    {
     "name": "stdout",
     "output_type": "stream",
     "text": [
      "<class 'numpy.ndarray'>\n",
      "SHAPE:  (256, 256, 1)\n",
      "RANGE: [ 0.09488652 , 0.99999976 ]\n",
      "normal-mri-brain-including-mr-venogram.png\n",
      "<class 'numpy.ndarray'>\n",
      "SHAPE:  (256, 256, 1)\n",
      "RANGE: [ 0.08510765 , 0.98090005 ]\n"
     ]
    },
    {
     "name": "stderr",
     "output_type": "stream",
     "text": [
      "Lossy conversion from float64 to uint8. Range [0, 1]. Convert image to uint8 prior to saving to suppress this warning.\n"
     ]
    },
    {
     "name": "stdout",
     "output_type": "stream",
     "text": [
      "normal-brain-mri-6(1).png\n",
      "<class 'numpy.ndarray'>\n",
      "SHAPE:  (256, 256, 1)\n",
      "RANGE: [ 0.16546714 , 0.9603823 ]\n",
      "normal-brain-mri-6(10).png\n"
     ]
    },
    {
     "name": "stderr",
     "output_type": "stream",
     "text": [
      "Lossy conversion from float64 to uint8. Range [0, 1]. Convert image to uint8 prior to saving to suppress this warning.\n",
      "Lossy conversion from float64 to uint8. Range [0, 1]. Convert image to uint8 prior to saving to suppress this warning.\n"
     ]
    },
    {
     "name": "stdout",
     "output_type": "stream",
     "text": [
      "<class 'numpy.ndarray'>\n",
      "SHAPE:  (256, 256, 1)\n",
      "RANGE: [ 0.16546714 , 0.9603767 ]\n",
      "normal-brain-mri-6(11).png\n",
      "<class 'numpy.ndarray'>\n",
      "SHAPE:  (256, 256, 1)\n",
      "RANGE: [ 0.16546714 , 0.9402639 ]\n",
      "normal-brain-mri-6(2).png\n"
     ]
    },
    {
     "name": "stderr",
     "output_type": "stream",
     "text": [
      "Lossy conversion from float64 to uint8. Range [0, 1]. Convert image to uint8 prior to saving to suppress this warning.\n",
      "Lossy conversion from float64 to uint8. Range [0, 1]. Convert image to uint8 prior to saving to suppress this warning.\n"
     ]
    },
    {
     "name": "stdout",
     "output_type": "stream",
     "text": [
      "<class 'numpy.ndarray'>\n",
      "SHAPE:  (256, 256, 1)\n",
      "RANGE: [ 0.16546714 , 0.9374223 ]\n",
      "normal-brain-mri-6(3).png\n",
      "<class 'numpy.ndarray'>\n",
      "SHAPE:  (256, 256, 1)\n",
      "RANGE: [ 0.16546714 , 0.9342168 ]\n",
      "normal-brain-mri-6(4).png\n"
     ]
    },
    {
     "name": "stderr",
     "output_type": "stream",
     "text": [
      "Lossy conversion from float64 to uint8. Range [0, 1]. Convert image to uint8 prior to saving to suppress this warning.\n",
      "Lossy conversion from float64 to uint8. Range [0, 1]. Convert image to uint8 prior to saving to suppress this warning.\n"
     ]
    },
    {
     "name": "stdout",
     "output_type": "stream",
     "text": [
      "<class 'numpy.ndarray'>\n",
      "SHAPE:  (256, 256, 1)\n",
      "RANGE: [ 0.16546714 , 0.89276636 ]\n",
      "normal-brain-mri-6(5).png\n",
      "<class 'numpy.ndarray'>\n",
      "SHAPE:  (256, 256, 1)\n",
      "RANGE: [ 0.16546714 , 0.9160922 ]\n",
      "normal-brain-mri-6(6).png\n"
     ]
    },
    {
     "name": "stderr",
     "output_type": "stream",
     "text": [
      "Lossy conversion from float64 to uint8. Range [0, 1]. Convert image to uint8 prior to saving to suppress this warning.\n",
      "Lossy conversion from float64 to uint8. Range [0, 1]. Convert image to uint8 prior to saving to suppress this warning.\n"
     ]
    },
    {
     "name": "stdout",
     "output_type": "stream",
     "text": [
      "<class 'numpy.ndarray'>\n",
      "SHAPE:  (256, 256, 1)\n",
      "RANGE: [ 0.16546714 , 0.88983345 ]\n",
      "normal-brain-mri-6(7).png\n",
      "<class 'numpy.ndarray'>\n",
      "SHAPE:  (256, 256, 1)\n",
      "RANGE: [ 0.16546714 , 0.90750986 ]\n",
      "normal-brain-mri-6(8).png\n"
     ]
    },
    {
     "name": "stderr",
     "output_type": "stream",
     "text": [
      "Lossy conversion from float64 to uint8. Range [0, 1]. Convert image to uint8 prior to saving to suppress this warning.\n",
      "Lossy conversion from float64 to uint8. Range [0, 1]. Convert image to uint8 prior to saving to suppress this warning.\n"
     ]
    },
    {
     "name": "stdout",
     "output_type": "stream",
     "text": [
      "<class 'numpy.ndarray'>\n",
      "SHAPE:  (256, 256, 1)\n",
      "RANGE: [ 0.16546714 , 0.8908009 ]\n",
      "normal-brain-mri-6(9).png\n",
      "<class 'numpy.ndarray'>\n",
      "SHAPE:  (256, 256, 1)\n",
      "RANGE: [ 0.16546714 , 0.9463622 ]\n",
      "normal-brain-mri-6.png\n"
     ]
    },
    {
     "name": "stderr",
     "output_type": "stream",
     "text": [
      "Lossy conversion from float64 to uint8. Range [0, 1]. Convert image to uint8 prior to saving to suppress this warning.\n",
      "Lossy conversion from float64 to uint8. Range [0, 1]. Convert image to uint8 prior to saving to suppress this warning.\n"
     ]
    },
    {
     "name": "stdout",
     "output_type": "stream",
     "text": [
      "<class 'numpy.ndarray'>\n",
      "SHAPE:  (256, 256, 1)\n",
      "RANGE: [ 0.16546714 , 0.9330421 ]\n",
      "normal-brain-mri-6(1).png\n"
     ]
    },
    {
     "name": "stderr",
     "output_type": "stream",
     "text": [
      "Lossy conversion from float64 to uint8. Range [0, 1]. Convert image to uint8 prior to saving to suppress this warning.\n"
     ]
    },
    {
     "name": "stdout",
     "output_type": "stream",
     "text": [
      "<class 'numpy.ndarray'>\n",
      "SHAPE:  (256, 256, 1)\n",
      "RANGE: [ 0.16546714 , 0.96915275 ]\n",
      "normal-brain-mri-6(10).png\n",
      "<class 'numpy.ndarray'>\n",
      "SHAPE:  (256, 256, 1)\n",
      "RANGE: [ 0.16546714 , 0.97697663 ]\n",
      "normal-brain-mri-6(11).png\n"
     ]
    },
    {
     "name": "stderr",
     "output_type": "stream",
     "text": [
      "Lossy conversion from float64 to uint8. Range [0, 1]. Convert image to uint8 prior to saving to suppress this warning.\n",
      "Lossy conversion from float64 to uint8. Range [0, 1]. Convert image to uint8 prior to saving to suppress this warning.\n"
     ]
    },
    {
     "name": "stdout",
     "output_type": "stream",
     "text": [
      "<class 'numpy.ndarray'>\n",
      "SHAPE:  (256, 256, 1)\n",
      "RANGE: [ 0.16546714 , 0.9800599 ]\n",
      "normal-brain-mri-6(2).png\n",
      "<class 'numpy.ndarray'>\n",
      "SHAPE:  (256, 256, 1)\n",
      "RANGE: [ 0.16546714 , 0.93433833 ]\n",
      "normal-brain-mri-6(3).png\n"
     ]
    },
    {
     "name": "stderr",
     "output_type": "stream",
     "text": [
      "Lossy conversion from float64 to uint8. Range [0, 1]. Convert image to uint8 prior to saving to suppress this warning.\n",
      "Lossy conversion from float64 to uint8. Range [0, 1]. Convert image to uint8 prior to saving to suppress this warning.\n"
     ]
    },
    {
     "name": "stdout",
     "output_type": "stream",
     "text": [
      "<class 'numpy.ndarray'>\n",
      "SHAPE:  (256, 256, 1)\n",
      "RANGE: [ 0.16546714 , 0.95658463 ]\n",
      "normal-brain-mri-6(4).png\n",
      "<class 'numpy.ndarray'>\n",
      "SHAPE:  (256, 256, 1)\n",
      "RANGE: [ 0.16546714 , 0.93095434 ]\n",
      "normal-brain-mri-6(5).png\n"
     ]
    },
    {
     "name": "stderr",
     "output_type": "stream",
     "text": [
      "Lossy conversion from float64 to uint8. Range [0, 1]. Convert image to uint8 prior to saving to suppress this warning.\n",
      "Lossy conversion from float64 to uint8. Range [0, 1]. Convert image to uint8 prior to saving to suppress this warning.\n"
     ]
    },
    {
     "name": "stdout",
     "output_type": "stream",
     "text": [
      "<class 'numpy.ndarray'>\n",
      "SHAPE:  (256, 256, 1)\n",
      "RANGE: [ 0.16546714 , 0.95191985 ]\n",
      "normal-brain-mri-6(6).png\n",
      "<class 'numpy.ndarray'>\n",
      "SHAPE:  (256, 256, 1)\n",
      "RANGE: [ 0.16546714 , 0.94856095 ]\n",
      "normal-brain-mri-6(7).png\n"
     ]
    },
    {
     "name": "stderr",
     "output_type": "stream",
     "text": [
      "Lossy conversion from float64 to uint8. Range [0, 1]. Convert image to uint8 prior to saving to suppress this warning.\n",
      "Lossy conversion from float64 to uint8. Range [0, 1]. Convert image to uint8 prior to saving to suppress this warning.\n"
     ]
    },
    {
     "name": "stdout",
     "output_type": "stream",
     "text": [
      "<class 'numpy.ndarray'>\n",
      "SHAPE:  (256, 256, 1)\n",
      "RANGE: [ 0.16546714 , 0.96595216 ]\n",
      "normal-brain-mri-6(8).png\n"
     ]
    },
    {
     "name": "stderr",
     "output_type": "stream",
     "text": [
      "Lossy conversion from float64 to uint8. Range [0, 1]. Convert image to uint8 prior to saving to suppress this warning.\n"
     ]
    },
    {
     "name": "stdout",
     "output_type": "stream",
     "text": [
      "<class 'numpy.ndarray'>\n",
      "SHAPE:  (256, 256, 1)\n",
      "RANGE: [ 0.16546714 , 0.9784625 ]\n",
      "normal-brain-mri-6(9).png\n",
      "<class 'numpy.ndarray'>\n",
      "SHAPE:  (256, 256, 1)\n",
      "RANGE: [ 0.16546714 , 0.97325134 ]\n",
      "normal-brain-mri-6.png\n"
     ]
    },
    {
     "name": "stderr",
     "output_type": "stream",
     "text": [
      "Lossy conversion from float64 to uint8. Range [0, 1]. Convert image to uint8 prior to saving to suppress this warning.\n",
      "Lossy conversion from float64 to uint8. Range [0, 1]. Convert image to uint8 prior to saving to suppress this warning.\n"
     ]
    },
    {
     "name": "stdout",
     "output_type": "stream",
     "text": [
      "<class 'numpy.ndarray'>\n",
      "SHAPE:  (256, 256, 1)\n",
      "RANGE: [ 0.16546714 , 0.958018 ]\n",
      "normal-brain-mri-6(1).png\n",
      "<class 'numpy.ndarray'>\n",
      "SHAPE:  (256, 256, 1)\n",
      "RANGE: [ 0.16546714 , 0.9622641 ]\n",
      "normal-brain-mri-6(10).png\n"
     ]
    },
    {
     "name": "stderr",
     "output_type": "stream",
     "text": [
      "Lossy conversion from float64 to uint8. Range [0, 1]. Convert image to uint8 prior to saving to suppress this warning.\n",
      "Lossy conversion from float64 to uint8. Range [0, 1]. Convert image to uint8 prior to saving to suppress this warning.\n"
     ]
    },
    {
     "name": "stdout",
     "output_type": "stream",
     "text": [
      "<class 'numpy.ndarray'>\n",
      "SHAPE:  (256, 256, 1)\n",
      "RANGE: [ 0.16546714 , 0.9199214 ]\n",
      "normal-brain-mri-6(11).png\n",
      "<class 'numpy.ndarray'>\n",
      "SHAPE:  (256, 256, 1)\n",
      "RANGE: [ 0.16546714 , 0.89907634 ]\n",
      "normal-brain-mri-6(12).png\n"
     ]
    },
    {
     "name": "stderr",
     "output_type": "stream",
     "text": [
      "Lossy conversion from float64 to uint8. Range [0, 1]. Convert image to uint8 prior to saving to suppress this warning.\n",
      "Lossy conversion from float64 to uint8. Range [0, 1]. Convert image to uint8 prior to saving to suppress this warning.\n"
     ]
    },
    {
     "name": "stdout",
     "output_type": "stream",
     "text": [
      "<class 'numpy.ndarray'>\n",
      "SHAPE:  (256, 256, 1)\n",
      "RANGE: [ 0.16546714 , 0.8838491 ]\n",
      "normal-brain-mri-6(13).png\n",
      "<class 'numpy.ndarray'>\n",
      "SHAPE:  (256, 256, 1)\n",
      "RANGE: [ 0.16546714 , 0.8730439 ]\n",
      "normal-brain-mri-6(2).png\n"
     ]
    },
    {
     "name": "stderr",
     "output_type": "stream",
     "text": [
      "Lossy conversion from float64 to uint8. Range [0, 1]. Convert image to uint8 prior to saving to suppress this warning.\n",
      "Lossy conversion from float64 to uint8. Range [0, 1]. Convert image to uint8 prior to saving to suppress this warning.\n"
     ]
    },
    {
     "name": "stdout",
     "output_type": "stream",
     "text": [
      "<class 'numpy.ndarray'>\n",
      "SHAPE:  (256, 256, 1)\n",
      "RANGE: [ 0.16546714 , 0.9132798 ]\n",
      "normal-brain-mri-6(3).png\n",
      "<class 'numpy.ndarray'>\n",
      "SHAPE:  (256, 256, 1)\n",
      "RANGE: [ 0.16546714 , 0.91621494 ]\n",
      "normal-brain-mri-6(4).png\n"
     ]
    },
    {
     "name": "stderr",
     "output_type": "stream",
     "text": [
      "Lossy conversion from float64 to uint8. Range [0, 1]. Convert image to uint8 prior to saving to suppress this warning.\n",
      "Lossy conversion from float64 to uint8. Range [0, 1]. Convert image to uint8 prior to saving to suppress this warning.\n"
     ]
    },
    {
     "name": "stdout",
     "output_type": "stream",
     "text": [
      "<class 'numpy.ndarray'>\n",
      "SHAPE:  (256, 256, 1)\n",
      "RANGE: [ 0.16546714 , 0.9524863 ]\n",
      "normal-brain-mri-6(5).png\n",
      "<class 'numpy.ndarray'>\n",
      "SHAPE:  (256, 256, 1)\n",
      "RANGE: [ 0.16546714 , 0.9452627 ]\n",
      "normal-brain-mri-6(6).png\n"
     ]
    },
    {
     "name": "stderr",
     "output_type": "stream",
     "text": [
      "Lossy conversion from float64 to uint8. Range [0, 1]. Convert image to uint8 prior to saving to suppress this warning.\n",
      "Lossy conversion from float64 to uint8. Range [0, 1]. Convert image to uint8 prior to saving to suppress this warning.\n"
     ]
    },
    {
     "name": "stdout",
     "output_type": "stream",
     "text": [
      "<class 'numpy.ndarray'>\n",
      "SHAPE:  (256, 256, 1)\n",
      "RANGE: [ 0.16546714 , 0.92353565 ]\n",
      "normal-brain-mri-6(7).png\n",
      "<class 'numpy.ndarray'>\n",
      "SHAPE:  (256, 256, 1)\n",
      "RANGE: [ 0.16546714 , 0.906132 ]\n",
      "normal-brain-mri-6(8).png\n"
     ]
    },
    {
     "name": "stderr",
     "output_type": "stream",
     "text": [
      "Lossy conversion from float64 to uint8. Range [0, 1]. Convert image to uint8 prior to saving to suppress this warning.\n",
      "Lossy conversion from float64 to uint8. Range [0, 1]. Convert image to uint8 prior to saving to suppress this warning.\n"
     ]
    },
    {
     "name": "stdout",
     "output_type": "stream",
     "text": [
      "<class 'numpy.ndarray'>\n",
      "SHAPE:  (256, 256, 1)\n",
      "RANGE: [ 0.16546714 , 0.9060775 ]\n",
      "normal-brain-mri-6(9).png\n",
      "<class 'numpy.ndarray'>\n",
      "SHAPE:  (256, 256, 1)\n",
      "RANGE: [ 0.16546714 , 0.90785885 ]\n",
      "normal-brain-mri-6.png\n"
     ]
    },
    {
     "name": "stderr",
     "output_type": "stream",
     "text": [
      "Lossy conversion from float64 to uint8. Range [0, 1]. Convert image to uint8 prior to saving to suppress this warning.\n",
      "Lossy conversion from float64 to uint8. Range [0, 1]. Convert image to uint8 prior to saving to suppress this warning.\n"
     ]
    },
    {
     "name": "stdout",
     "output_type": "stream",
     "text": [
      "<class 'numpy.ndarray'>\n",
      "SHAPE:  (256, 256, 1)\n",
      "RANGE: [ 0.16546714 , 0.934371 ]\n",
      "normal-brain-mri-6(1).png\n"
     ]
    },
    {
     "name": "stderr",
     "output_type": "stream",
     "text": [
      "Lossy conversion from float64 to uint8. Range [0, 1]. Convert image to uint8 prior to saving to suppress this warning.\n"
     ]
    },
    {
     "name": "stdout",
     "output_type": "stream",
     "text": [
      "<class 'numpy.ndarray'>\n",
      "SHAPE:  (256, 256, 1)\n",
      "RANGE: [ 0.16546714 , 0.9300233 ]\n",
      "normal-brain-mri-6(10).png\n",
      "<class 'numpy.ndarray'>\n",
      "SHAPE:  (256, 256, 1)\n",
      "RANGE: [ 0.16546714 , 0.9268194 ]\n",
      "normal-brain-mri-6(11).png\n"
     ]
    },
    {
     "name": "stderr",
     "output_type": "stream",
     "text": [
      "Lossy conversion from float64 to uint8. Range [0, 1]. Convert image to uint8 prior to saving to suppress this warning.\n",
      "Lossy conversion from float64 to uint8. Range [0, 1]. Convert image to uint8 prior to saving to suppress this warning.\n"
     ]
    },
    {
     "name": "stdout",
     "output_type": "stream",
     "text": [
      "<class 'numpy.ndarray'>\n",
      "SHAPE:  (256, 256, 1)\n",
      "RANGE: [ 0.16546714 , 0.97250783 ]\n",
      "normal-brain-mri-6(2).png\n",
      "<class 'numpy.ndarray'>\n",
      "SHAPE:  (256, 256, 1)\n",
      "RANGE: [ 0.16546714 , 0.9380885 ]\n",
      "normal-brain-mri-6(3).png\n"
     ]
    },
    {
     "name": "stderr",
     "output_type": "stream",
     "text": [
      "Lossy conversion from float64 to uint8. Range [0, 1]. Convert image to uint8 prior to saving to suppress this warning.\n",
      "Lossy conversion from float64 to uint8. Range [0, 1]. Convert image to uint8 prior to saving to suppress this warning.\n"
     ]
    },
    {
     "name": "stdout",
     "output_type": "stream",
     "text": [
      "<class 'numpy.ndarray'>\n",
      "SHAPE:  (256, 256, 1)\n",
      "RANGE: [ 0.16546714 , 0.9153448 ]\n",
      "normal-brain-mri-6(4).png\n",
      "<class 'numpy.ndarray'>\n",
      "SHAPE:  (256, 256, 1)\n",
      "RANGE: [ 0.16546714 , 0.9372533 ]\n",
      "normal-brain-mri-6(5).png\n"
     ]
    },
    {
     "name": "stderr",
     "output_type": "stream",
     "text": [
      "Lossy conversion from float64 to uint8. Range [0, 1]. Convert image to uint8 prior to saving to suppress this warning.\n",
      "Lossy conversion from float64 to uint8. Range [0, 1]. Convert image to uint8 prior to saving to suppress this warning.\n"
     ]
    },
    {
     "name": "stdout",
     "output_type": "stream",
     "text": [
      "<class 'numpy.ndarray'>\n",
      "SHAPE:  (256, 256, 1)\n",
      "RANGE: [ 0.16546714 , 0.9309286 ]\n",
      "normal-brain-mri-6(6).png\n",
      "<class 'numpy.ndarray'>\n",
      "SHAPE:  (256, 256, 1)\n",
      "RANGE: [ 0.16546714 , 0.9403103 ]\n",
      "normal-brain-mri-6(7).png\n"
     ]
    },
    {
     "name": "stderr",
     "output_type": "stream",
     "text": [
      "Lossy conversion from float64 to uint8. Range [0, 1]. Convert image to uint8 prior to saving to suppress this warning.\n",
      "Lossy conversion from float64 to uint8. Range [0, 1]. Convert image to uint8 prior to saving to suppress this warning.\n"
     ]
    },
    {
     "name": "stdout",
     "output_type": "stream",
     "text": [
      "<class 'numpy.ndarray'>\n",
      "SHAPE:  (256, 256, 1)\n",
      "RANGE: [ 0.16546714 , 0.9563821 ]\n",
      "normal-brain-mri-6(8).png\n",
      "<class 'numpy.ndarray'>\n",
      "SHAPE:  (256, 256, 1)\n",
      "RANGE: [ 0.16546714 , 0.98066103 ]\n",
      "normal-brain-mri-6(9).png\n"
     ]
    },
    {
     "name": "stderr",
     "output_type": "stream",
     "text": [
      "Lossy conversion from float64 to uint8. Range [0, 1]. Convert image to uint8 prior to saving to suppress this warning.\n",
      "Lossy conversion from float64 to uint8. Range [0, 1]. Convert image to uint8 prior to saving to suppress this warning.\n"
     ]
    },
    {
     "name": "stdout",
     "output_type": "stream",
     "text": [
      "<class 'numpy.ndarray'>\n",
      "SHAPE:  (256, 256, 1)\n",
      "RANGE: [ 0.16546714 , 0.94697326 ]\n",
      "normal-brain-mri-6.png\n",
      "<class 'numpy.ndarray'>\n",
      "SHAPE:  (256, 256, 1)\n",
      "RANGE: [ 0.16546714 , 0.94150895 ]\n"
     ]
    },
    {
     "name": "stderr",
     "output_type": "stream",
     "text": [
      "Lossy conversion from float64 to uint8. Range [0, 1]. Convert image to uint8 prior to saving to suppress this warning.\n"
     ]
    },
    {
     "name": "stdout",
     "output_type": "stream",
     "text": [
      "normal-brain-mri-6(1).png\n",
      "<class 'numpy.ndarray'>\n",
      "SHAPE:  (256, 256, 1)\n",
      "RANGE: [ 0.16546714 , 0.9790199 ]\n",
      "normal-brain-mri-6(10).png\n"
     ]
    },
    {
     "name": "stderr",
     "output_type": "stream",
     "text": [
      "Lossy conversion from float64 to uint8. Range [0, 1]. Convert image to uint8 prior to saving to suppress this warning.\n",
      "Lossy conversion from float64 to uint8. Range [0, 1]. Convert image to uint8 prior to saving to suppress this warning.\n"
     ]
    },
    {
     "name": "stdout",
     "output_type": "stream",
     "text": [
      "<class 'numpy.ndarray'>\n",
      "SHAPE:  (256, 256, 1)\n",
      "RANGE: [ 0.16546714 , 0.971262 ]\n",
      "normal-brain-mri-6(11).png\n",
      "<class 'numpy.ndarray'>\n",
      "SHAPE:  (256, 256, 1)\n",
      "RANGE: [ 0.16546714 , 0.9756707 ]\n",
      "normal-brain-mri-6(12).png\n"
     ]
    },
    {
     "name": "stderr",
     "output_type": "stream",
     "text": [
      "Lossy conversion from float64 to uint8. Range [0, 1]. Convert image to uint8 prior to saving to suppress this warning.\n",
      "Lossy conversion from float64 to uint8. Range [0, 1]. Convert image to uint8 prior to saving to suppress this warning.\n"
     ]
    },
    {
     "name": "stdout",
     "output_type": "stream",
     "text": [
      "<class 'numpy.ndarray'>\n",
      "SHAPE:  (256, 256, 1)\n",
      "RANGE: [ 0.16546714 , 0.96379757 ]\n",
      "normal-brain-mri-6(13).png\n",
      "<class 'numpy.ndarray'>\n",
      "SHAPE:  (256, 256, 1)\n",
      "RANGE: [ 0.16546714 , 0.9861707 ]\n",
      "normal-brain-mri-6(14).png\n"
     ]
    },
    {
     "name": "stderr",
     "output_type": "stream",
     "text": [
      "Lossy conversion from float64 to uint8. Range [0, 1]. Convert image to uint8 prior to saving to suppress this warning.\n",
      "Lossy conversion from float64 to uint8. Range [0, 1]. Convert image to uint8 prior to saving to suppress this warning.\n"
     ]
    },
    {
     "name": "stdout",
     "output_type": "stream",
     "text": [
      "<class 'numpy.ndarray'>\n",
      "SHAPE:  (256, 256, 1)\n",
      "RANGE: [ 0.16546714 , 0.9898309 ]\n",
      "normal-brain-mri-6(15).png\n"
     ]
    },
    {
     "name": "stderr",
     "output_type": "stream",
     "text": [
      "Lossy conversion from float64 to uint8. Range [0, 1]. Convert image to uint8 prior to saving to suppress this warning.\n"
     ]
    },
    {
     "name": "stdout",
     "output_type": "stream",
     "text": [
      "<class 'numpy.ndarray'>\n",
      "SHAPE:  (256, 256, 1)\n",
      "RANGE: [ 0.16546714 , 0.9725927 ]\n",
      "normal-brain-mri-6(16).png\n"
     ]
    },
    {
     "name": "stderr",
     "output_type": "stream",
     "text": [
      "Lossy conversion from float64 to uint8. Range [0, 1]. Convert image to uint8 prior to saving to suppress this warning.\n"
     ]
    },
    {
     "name": "stdout",
     "output_type": "stream",
     "text": [
      "<class 'numpy.ndarray'>\n",
      "SHAPE:  (256, 256, 1)\n",
      "RANGE: [ 0.16546714 , 0.9836513 ]\n",
      "normal-brain-mri-6(2).png\n"
     ]
    },
    {
     "name": "stderr",
     "output_type": "stream",
     "text": [
      "Lossy conversion from float64 to uint8. Range [0, 1]. Convert image to uint8 prior to saving to suppress this warning.\n"
     ]
    },
    {
     "name": "stdout",
     "output_type": "stream",
     "text": [
      "<class 'numpy.ndarray'>\n",
      "SHAPE:  (256, 256, 1)\n",
      "RANGE: [ 0.16546714 , 0.9761662 ]\n",
      "normal-brain-mri-6(3).png\n"
     ]
    },
    {
     "name": "stderr",
     "output_type": "stream",
     "text": [
      "Lossy conversion from float64 to uint8. Range [0, 1]. Convert image to uint8 prior to saving to suppress this warning.\n"
     ]
    },
    {
     "name": "stdout",
     "output_type": "stream",
     "text": [
      "<class 'numpy.ndarray'>\n",
      "SHAPE:  (256, 256, 1)\n",
      "RANGE: [ 0.16546714 , 0.97659445 ]\n",
      "normal-brain-mri-6(4).png\n",
      "<class 'numpy.ndarray'>\n",
      "SHAPE:  (256, 256, 1)\n",
      "RANGE: [ 0.16546714 , 0.9504171 ]\n",
      "normal-brain-mri-6(5).png\n"
     ]
    },
    {
     "name": "stderr",
     "output_type": "stream",
     "text": [
      "Lossy conversion from float64 to uint8. Range [0, 1]. Convert image to uint8 prior to saving to suppress this warning.\n",
      "Lossy conversion from float64 to uint8. Range [0, 1]. Convert image to uint8 prior to saving to suppress this warning.\n"
     ]
    },
    {
     "name": "stdout",
     "output_type": "stream",
     "text": [
      "<class 'numpy.ndarray'>\n",
      "SHAPE:  (256, 256, 1)\n",
      "RANGE: [ 0.16546714 , 0.97926223 ]\n",
      "normal-brain-mri-6(6).png\n",
      "<class 'numpy.ndarray'>\n",
      "SHAPE:  (256, 256, 1)\n",
      "RANGE: [ 0.16546714 , 0.9557774 ]\n",
      "normal-brain-mri-6(7).png\n"
     ]
    },
    {
     "name": "stderr",
     "output_type": "stream",
     "text": [
      "Lossy conversion from float64 to uint8. Range [0, 1]. Convert image to uint8 prior to saving to suppress this warning.\n",
      "Lossy conversion from float64 to uint8. Range [0, 1]. Convert image to uint8 prior to saving to suppress this warning.\n"
     ]
    },
    {
     "name": "stdout",
     "output_type": "stream",
     "text": [
      "<class 'numpy.ndarray'>\n",
      "SHAPE:  (256, 256, 1)\n",
      "RANGE: [ 0.16546714 , 0.96305496 ]\n",
      "normal-brain-mri-6(8).png\n",
      "<class 'numpy.ndarray'>\n",
      "SHAPE:  (256, 256, 1)\n",
      "RANGE: [ 0.16546714 , 0.9713483 ]\n",
      "normal-brain-mri-6(9).png\n"
     ]
    },
    {
     "name": "stderr",
     "output_type": "stream",
     "text": [
      "Lossy conversion from float64 to uint8. Range [0, 1]. Convert image to uint8 prior to saving to suppress this warning.\n",
      "Lossy conversion from float64 to uint8. Range [0, 1]. Convert image to uint8 prior to saving to suppress this warning.\n"
     ]
    },
    {
     "name": "stdout",
     "output_type": "stream",
     "text": [
      "<class 'numpy.ndarray'>\n",
      "SHAPE:  (256, 256, 1)\n",
      "RANGE: [ 0.16546714 , 0.9698752 ]\n",
      "normal-brain-mri-6.png\n",
      "<class 'numpy.ndarray'>\n",
      "SHAPE:  (256, 256, 1)\n",
      "RANGE: [ 0.16546714 , 0.9753965 ]\n"
     ]
    },
    {
     "name": "stderr",
     "output_type": "stream",
     "text": [
      "Lossy conversion from float64 to uint8. Range [0, 1]. Convert image to uint8 prior to saving to suppress this warning.\n"
     ]
    },
    {
     "name": "stdout",
     "output_type": "stream",
     "text": [
      "normal-brain-mri-5(1).png\n"
     ]
    },
    {
     "name": "stderr",
     "output_type": "stream",
     "text": [
      "Lossy conversion from float64 to uint8. Range [0, 1]. Convert image to uint8 prior to saving to suppress this warning.\n"
     ]
    },
    {
     "name": "stdout",
     "output_type": "stream",
     "text": [
      "<class 'numpy.ndarray'>\n",
      "SHAPE:  (256, 256, 1)\n",
      "RANGE: [ 0.176848 , 1.0 ]\n",
      "normal-brain-mri-5(10).png\n",
      "<class 'numpy.ndarray'>\n",
      "SHAPE:  (256, 256, 1)\n",
      "RANGE: [ 0.18112302 , 1.0 ]\n",
      "normal-brain-mri-5(11).png\n"
     ]
    },
    {
     "name": "stderr",
     "output_type": "stream",
     "text": [
      "Lossy conversion from float64 to uint8. Range [0, 1]. Convert image to uint8 prior to saving to suppress this warning.\n",
      "Lossy conversion from float64 to uint8. Range [0, 1]. Convert image to uint8 prior to saving to suppress this warning.\n"
     ]
    },
    {
     "name": "stdout",
     "output_type": "stream",
     "text": [
      "<class 'numpy.ndarray'>\n",
      "SHAPE:  (256, 256, 1)\n",
      "RANGE: [ 0.18112257 , 1.0 ]\n",
      "normal-brain-mri-5(12).png\n",
      "<class 'numpy.ndarray'>\n",
      "SHAPE:  (256, 256, 1)\n",
      "RANGE: [ 0.17850281 , 1.0 ]\n",
      "normal-brain-mri-5(13).png\n"
     ]
    },
    {
     "name": "stderr",
     "output_type": "stream",
     "text": [
      "Lossy conversion from float64 to uint8. Range [0, 1]. Convert image to uint8 prior to saving to suppress this warning.\n",
      "Lossy conversion from float64 to uint8. Range [0, 1]. Convert image to uint8 prior to saving to suppress this warning.\n"
     ]
    },
    {
     "name": "stdout",
     "output_type": "stream",
     "text": [
      "<class 'numpy.ndarray'>\n",
      "SHAPE:  (256, 256, 1)\n",
      "RANGE: [ 0.17785034 , 1.0 ]\n",
      "normal-brain-mri-5(14).png\n",
      "<class 'numpy.ndarray'>\n",
      "SHAPE:  (256, 256, 1)\n",
      "RANGE: [ 0.17684774 , 1.0 ]\n",
      "normal-brain-mri-5(15).png\n"
     ]
    },
    {
     "name": "stderr",
     "output_type": "stream",
     "text": [
      "Lossy conversion from float64 to uint8. Range [0, 1]. Convert image to uint8 prior to saving to suppress this warning.\n",
      "Lossy conversion from float64 to uint8. Range [0, 1]. Convert image to uint8 prior to saving to suppress this warning.\n"
     ]
    },
    {
     "name": "stdout",
     "output_type": "stream",
     "text": [
      "<class 'numpy.ndarray'>\n",
      "SHAPE:  (256, 256, 1)\n",
      "RANGE: [ 0.17785034 , 1.0 ]\n",
      "normal-brain-mri-5(16).png\n",
      "<class 'numpy.ndarray'>\n",
      "SHAPE:  (256, 256, 1)\n",
      "RANGE: [ 0.17785034 , 1.0 ]\n",
      "normal-brain-mri-5(17).png\n"
     ]
    },
    {
     "name": "stderr",
     "output_type": "stream",
     "text": [
      "Lossy conversion from float64 to uint8. Range [0, 1]. Convert image to uint8 prior to saving to suppress this warning.\n",
      "Lossy conversion from float64 to uint8. Range [0, 1]. Convert image to uint8 prior to saving to suppress this warning.\n"
     ]
    },
    {
     "name": "stdout",
     "output_type": "stream",
     "text": [
      "<class 'numpy.ndarray'>\n",
      "SHAPE:  (256, 256, 1)\n",
      "RANGE: [ 0.176848 , 1.0 ]\n",
      "normal-brain-mri-5(18).png\n",
      "<class 'numpy.ndarray'>\n",
      "SHAPE:  (256, 256, 1)\n",
      "RANGE: [ 0.17684774 , 1.0 ]\n",
      "normal-brain-mri-5(2).png\n"
     ]
    },
    {
     "name": "stderr",
     "output_type": "stream",
     "text": [
      "Lossy conversion from float64 to uint8. Range [0, 1]. Convert image to uint8 prior to saving to suppress this warning.\n",
      "Lossy conversion from float64 to uint8. Range [0, 1]. Convert image to uint8 prior to saving to suppress this warning.\n"
     ]
    },
    {
     "name": "stdout",
     "output_type": "stream",
     "text": [
      "<class 'numpy.ndarray'>\n",
      "SHAPE:  (256, 256, 1)\n",
      "RANGE: [ 0.17785034 , 1.0 ]\n",
      "normal-brain-mri-5(3).png\n",
      "<class 'numpy.ndarray'>\n",
      "SHAPE:  (256, 256, 1)\n",
      "RANGE: [ 0.17785053 , 1.0 ]\n",
      "normal-brain-mri-5(4).png\n"
     ]
    },
    {
     "name": "stderr",
     "output_type": "stream",
     "text": [
      "Lossy conversion from float64 to uint8. Range [0, 1]. Convert image to uint8 prior to saving to suppress this warning.\n",
      "Lossy conversion from float64 to uint8. Range [0, 1]. Convert image to uint8 prior to saving to suppress this warning.\n"
     ]
    },
    {
     "name": "stdout",
     "output_type": "stream",
     "text": [
      "<class 'numpy.ndarray'>\n",
      "SHAPE:  (256, 256, 1)\n",
      "RANGE: [ 0.18112302 , 1.0 ]\n",
      "normal-brain-mri-5(5).png\n",
      "<class 'numpy.ndarray'>\n",
      "SHAPE:  (256, 256, 1)\n",
      "RANGE: [ 0.18112302 , 1.0 ]\n",
      "normal-brain-mri-5(6).png\n"
     ]
    },
    {
     "name": "stderr",
     "output_type": "stream",
     "text": [
      "Lossy conversion from float64 to uint8. Range [0, 1]. Convert image to uint8 prior to saving to suppress this warning.\n",
      "Lossy conversion from float64 to uint8. Range [0, 1]. Convert image to uint8 prior to saving to suppress this warning.\n"
     ]
    },
    {
     "name": "stdout",
     "output_type": "stream",
     "text": [
      "<class 'numpy.ndarray'>\n",
      "SHAPE:  (256, 256, 1)\n",
      "RANGE: [ 0.18112302 , 1.0 ]\n",
      "normal-brain-mri-5(7).png\n"
     ]
    },
    {
     "name": "stderr",
     "output_type": "stream",
     "text": [
      "Lossy conversion from float64 to uint8. Range [0, 1]. Convert image to uint8 prior to saving to suppress this warning.\n"
     ]
    },
    {
     "name": "stdout",
     "output_type": "stream",
     "text": [
      "<class 'numpy.ndarray'>\n",
      "SHAPE:  (256, 256, 1)\n",
      "RANGE: [ 0.18112302 , 1.0 ]\n",
      "normal-brain-mri-5(8).png\n",
      "<class 'numpy.ndarray'>\n",
      "SHAPE:  (256, 256, 1)\n",
      "RANGE: [ 0.17966193 , 1.0 ]\n",
      "normal-brain-mri-5(9).png\n"
     ]
    },
    {
     "name": "stderr",
     "output_type": "stream",
     "text": [
      "Lossy conversion from float64 to uint8. Range [0, 1]. Convert image to uint8 prior to saving to suppress this warning.\n",
      "Lossy conversion from float64 to uint8. Range [0, 1]. Convert image to uint8 prior to saving to suppress this warning.\n"
     ]
    },
    {
     "name": "stdout",
     "output_type": "stream",
     "text": [
      "<class 'numpy.ndarray'>\n",
      "SHAPE:  (256, 256, 1)\n",
      "RANGE: [ 0.18112302 , 1.0 ]\n",
      "normal-brain-mri-5.png\n",
      "<class 'numpy.ndarray'>\n",
      "SHAPE:  (256, 256, 1)\n",
      "RANGE: [ 0.17785034 , 1.0 ]\n",
      "normal-brain-mri-5(1).png\n"
     ]
    },
    {
     "name": "stderr",
     "output_type": "stream",
     "text": [
      "Lossy conversion from float64 to uint8. Range [0, 1]. Convert image to uint8 prior to saving to suppress this warning.\n",
      "Lossy conversion from float64 to uint8. Range [0, 1]. Convert image to uint8 prior to saving to suppress this warning.\n"
     ]
    },
    {
     "name": "stdout",
     "output_type": "stream",
     "text": [
      "<class 'numpy.ndarray'>\n",
      "SHAPE:  (256, 256, 1)\n",
      "RANGE: [ 0.17747506 , 1.0 ]\n",
      "normal-brain-mri-5(10).png\n",
      "<class 'numpy.ndarray'>\n",
      "SHAPE:  (256, 256, 1)\n",
      "RANGE: [ 0.18074816 , 1.0 ]\n",
      "normal-brain-mri-5(11).png\n"
     ]
    },
    {
     "name": "stderr",
     "output_type": "stream",
     "text": [
      "Lossy conversion from float64 to uint8. Range [0, 1]. Convert image to uint8 prior to saving to suppress this warning.\n",
      "Lossy conversion from float64 to uint8. Range [0, 1]. Convert image to uint8 prior to saving to suppress this warning.\n"
     ]
    },
    {
     "name": "stdout",
     "output_type": "stream",
     "text": [
      "<class 'numpy.ndarray'>\n",
      "SHAPE:  (256, 256, 1)\n",
      "RANGE: [ 0.18092339 , 1.0 ]\n",
      "normal-brain-mri-5(12).png\n",
      "<class 'numpy.ndarray'>\n",
      "SHAPE:  (256, 256, 1)\n",
      "RANGE: [ 0.1807571 , 1.0 ]\n",
      "normal-brain-mri-5(13).png\n"
     ]
    },
    {
     "name": "stderr",
     "output_type": "stream",
     "text": [
      "Lossy conversion from float64 to uint8. Range [0, 1]. Convert image to uint8 prior to saving to suppress this warning.\n",
      "Lossy conversion from float64 to uint8. Range [0, 1]. Convert image to uint8 prior to saving to suppress this warning.\n"
     ]
    },
    {
     "name": "stdout",
     "output_type": "stream",
     "text": [
      "<class 'numpy.ndarray'>\n",
      "SHAPE:  (256, 256, 1)\n",
      "RANGE: [ 0.18074773 , 0.99999917 ]\n",
      "normal-brain-mri-5(14).png\n",
      "<class 'numpy.ndarray'>\n",
      "SHAPE:  (256, 256, 1)\n",
      "RANGE: [ 0.18000728 , 1.0 ]\n",
      "normal-brain-mri-5(15).png\n"
     ]
    },
    {
     "name": "stderr",
     "output_type": "stream",
     "text": [
      "Lossy conversion from float64 to uint8. Range [0, 1]. Convert image to uint8 prior to saving to suppress this warning.\n",
      "Lossy conversion from float64 to uint8. Range [0, 1]. Convert image to uint8 prior to saving to suppress this warning.\n"
     ]
    },
    {
     "name": "stdout",
     "output_type": "stream",
     "text": [
      "<class 'numpy.ndarray'>\n",
      "SHAPE:  (256, 256, 1)\n",
      "RANGE: [ 0.1782055 , 0.9999998 ]\n",
      "normal-brain-mri-5(16).png\n",
      "<class 'numpy.ndarray'>\n",
      "SHAPE:  (256, 256, 1)\n",
      "RANGE: [ 0.17747524 , 0.999995 ]\n",
      "normal-brain-mri-5(17).png\n"
     ]
    },
    {
     "name": "stderr",
     "output_type": "stream",
     "text": [
      "Lossy conversion from float64 to uint8. Range [0, 1]. Convert image to uint8 prior to saving to suppress this warning.\n",
      "Lossy conversion from float64 to uint8. Range [0, 1]. Convert image to uint8 prior to saving to suppress this warning.\n"
     ]
    },
    {
     "name": "stdout",
     "output_type": "stream",
     "text": [
      "<class 'numpy.ndarray'>\n",
      "SHAPE:  (256, 256, 1)\n",
      "RANGE: [ 0.17958887 , 1.0 ]\n",
      "normal-brain-mri-5(18).png\n",
      "<class 'numpy.ndarray'>\n",
      "SHAPE:  (256, 256, 1)\n",
      "RANGE: [ 0.18074773 , 1.0 ]\n",
      "normal-brain-mri-5(19).png\n"
     ]
    },
    {
     "name": "stderr",
     "output_type": "stream",
     "text": [
      "Lossy conversion from float64 to uint8. Range [0, 1]. Convert image to uint8 prior to saving to suppress this warning.\n",
      "Lossy conversion from float64 to uint8. Range [0, 1]. Convert image to uint8 prior to saving to suppress this warning.\n"
     ]
    },
    {
     "name": "stdout",
     "output_type": "stream",
     "text": [
      "<class 'numpy.ndarray'>\n",
      "SHAPE:  (256, 256, 1)\n",
      "RANGE: [ 0.1807473 , 1.0 ]\n",
      "normal-brain-mri-5(2).png\n"
     ]
    },
    {
     "name": "stderr",
     "output_type": "stream",
     "text": [
      "Lossy conversion from float64 to uint8. Range [0, 1]. Convert image to uint8 prior to saving to suppress this warning.\n"
     ]
    },
    {
     "name": "stdout",
     "output_type": "stream",
     "text": [
      "<class 'numpy.ndarray'>\n",
      "SHAPE:  (256, 256, 1)\n",
      "RANGE: [ 0.17747506 , 1.0 ]\n",
      "normal-brain-mri-5(20).png\n",
      "<class 'numpy.ndarray'>\n",
      "SHAPE:  (256, 256, 1)\n",
      "RANGE: [ 0.17928645 , 1.0 ]\n",
      "normal-brain-mri-5(21).png\n"
     ]
    },
    {
     "name": "stderr",
     "output_type": "stream",
     "text": [
      "Lossy conversion from float64 to uint8. Range [0, 1]. Convert image to uint8 prior to saving to suppress this warning.\n",
      "Lossy conversion from float64 to uint8. Range [0, 1]. Convert image to uint8 prior to saving to suppress this warning.\n"
     ]
    },
    {
     "name": "stdout",
     "output_type": "stream",
     "text": [
      "<class 'numpy.ndarray'>\n",
      "SHAPE:  (256, 256, 1)\n",
      "RANGE: [ 0.18074773 , 1.0 ]\n",
      "normal-brain-mri-5(3).png\n",
      "<class 'numpy.ndarray'>\n",
      "SHAPE:  (256, 256, 1)\n",
      "RANGE: [ 0.17747506 , 1.0 ]\n",
      "normal-brain-mri-5(4).png\n"
     ]
    },
    {
     "name": "stderr",
     "output_type": "stream",
     "text": [
      "Lossy conversion from float64 to uint8. Range [0, 1]. Convert image to uint8 prior to saving to suppress this warning.\n",
      "Lossy conversion from float64 to uint8. Range [0, 1]. Convert image to uint8 prior to saving to suppress this warning.\n"
     ]
    },
    {
     "name": "stdout",
     "output_type": "stream",
     "text": [
      "<class 'numpy.ndarray'>\n",
      "SHAPE:  (256, 256, 1)\n",
      "RANGE: [ 0.18074733 , 1.0 ]\n",
      "normal-brain-mri-5(5).png\n"
     ]
    },
    {
     "name": "stderr",
     "output_type": "stream",
     "text": [
      "Lossy conversion from float64 to uint8. Range [0, 1]. Convert image to uint8 prior to saving to suppress this warning.\n"
     ]
    },
    {
     "name": "stdout",
     "output_type": "stream",
     "text": [
      "<class 'numpy.ndarray'>\n",
      "SHAPE:  (256, 256, 1)\n",
      "RANGE: [ 0.18074773 , 1.0 ]\n",
      "normal-brain-mri-5(6).png\n"
     ]
    },
    {
     "name": "stderr",
     "output_type": "stream",
     "text": [
      "Lossy conversion from float64 to uint8. Range [0, 1]. Convert image to uint8 prior to saving to suppress this warning.\n"
     ]
    },
    {
     "name": "stdout",
     "output_type": "stream",
     "text": [
      "<class 'numpy.ndarray'>\n",
      "SHAPE:  (256, 256, 1)\n",
      "RANGE: [ 0.18074773 , 1.0 ]\n",
      "normal-brain-mri-5(7).png\n",
      "<class 'numpy.ndarray'>\n",
      "SHAPE:  (256, 256, 1)\n",
      "RANGE: [ 0.18074797 , 1.0 ]\n",
      "normal-brain-mri-5(8).png\n"
     ]
    },
    {
     "name": "stderr",
     "output_type": "stream",
     "text": [
      "Lossy conversion from float64 to uint8. Range [0, 1]. Convert image to uint8 prior to saving to suppress this warning.\n",
      "Lossy conversion from float64 to uint8. Range [0, 1]. Convert image to uint8 prior to saving to suppress this warning.\n"
     ]
    },
    {
     "name": "stdout",
     "output_type": "stream",
     "text": [
      "<class 'numpy.ndarray'>\n",
      "SHAPE:  (256, 256, 1)\n",
      "RANGE: [ 0.18384519 , 1.0 ]\n",
      "normal-brain-mri-5(9).png\n",
      "<class 'numpy.ndarray'>\n",
      "SHAPE:  (256, 256, 1)\n",
      "RANGE: [ 0.18092343 , 1.0 ]\n",
      "normal-brain-mri-5.png\n"
     ]
    },
    {
     "name": "stderr",
     "output_type": "stream",
     "text": [
      "Lossy conversion from float64 to uint8. Range [0, 1]. Convert image to uint8 prior to saving to suppress this warning.\n",
      "Lossy conversion from float64 to uint8. Range [0, 1]. Convert image to uint8 prior to saving to suppress this warning.\n"
     ]
    },
    {
     "name": "stdout",
     "output_type": "stream",
     "text": [
      "<class 'numpy.ndarray'>\n",
      "SHAPE:  (256, 256, 1)\n",
      "RANGE: [ 0.18074772 , 1.0 ]\n",
      "normal-brain-mri-5(1).png\n"
     ]
    },
    {
     "name": "stderr",
     "output_type": "stream",
     "text": [
      "Lossy conversion from float64 to uint8. Range [0, 1]. Convert image to uint8 prior to saving to suppress this warning.\n"
     ]
    },
    {
     "name": "stdout",
     "output_type": "stream",
     "text": [
      "<class 'numpy.ndarray'>\n",
      "SHAPE:  (256, 256, 1)\n",
      "RANGE: [ 0.14992325 , 1.0 ]\n",
      "normal-brain-mri-5(10).png\n",
      "<class 'numpy.ndarray'>\n",
      "SHAPE:  (256, 256, 1)\n",
      "RANGE: [ 0.17171215 , 1.0 ]\n",
      "normal-brain-mri-5(11).png\n"
     ]
    },
    {
     "name": "stderr",
     "output_type": "stream",
     "text": [
      "Lossy conversion from float64 to uint8. Range [0, 1]. Convert image to uint8 prior to saving to suppress this warning.\n",
      "Lossy conversion from float64 to uint8. Range [0, 1]. Convert image to uint8 prior to saving to suppress this warning.\n"
     ]
    },
    {
     "name": "stdout",
     "output_type": "stream",
     "text": [
      "<class 'numpy.ndarray'>\n",
      "SHAPE:  (256, 256, 1)\n",
      "RANGE: [ 0.1651679 , 1.0 ]\n",
      "normal-brain-mri-5(12).png\n",
      "<class 'numpy.ndarray'>\n",
      "SHAPE:  (256, 256, 1)\n",
      "RANGE: [ 0.16155411 , 1.0 ]\n",
      "normal-brain-mri-5(13).png\n"
     ]
    },
    {
     "name": "stderr",
     "output_type": "stream",
     "text": [
      "Lossy conversion from float64 to uint8. Range [0, 1]. Convert image to uint8 prior to saving to suppress this warning.\n",
      "Lossy conversion from float64 to uint8. Range [0, 1]. Convert image to uint8 prior to saving to suppress this warning.\n"
     ]
    },
    {
     "name": "stdout",
     "output_type": "stream",
     "text": [
      "<class 'numpy.ndarray'>\n",
      "SHAPE:  (256, 256, 1)\n",
      "RANGE: [ 0.16254662 , 1.0 ]\n",
      "normal-brain-mri-5(14).png\n"
     ]
    },
    {
     "name": "stderr",
     "output_type": "stream",
     "text": [
      "Lossy conversion from float64 to uint8. Range [0, 1]. Convert image to uint8 prior to saving to suppress this warning.\n"
     ]
    },
    {
     "name": "stdout",
     "output_type": "stream",
     "text": [
      "<class 'numpy.ndarray'>\n",
      "SHAPE:  (256, 256, 1)\n",
      "RANGE: [ 0.15534924 , 1.0 ]\n",
      "normal-brain-mri-5(15).png\n",
      "<class 'numpy.ndarray'>\n",
      "SHAPE:  (256, 256, 1)\n",
      "RANGE: [ 0.15534924 , 1.0 ]\n",
      "normal-brain-mri-5(16).png\n"
     ]
    },
    {
     "name": "stderr",
     "output_type": "stream",
     "text": [
      "Lossy conversion from float64 to uint8. Range [0, 1]. Convert image to uint8 prior to saving to suppress this warning.\n",
      "Lossy conversion from float64 to uint8. Range [0, 1]. Convert image to uint8 prior to saving to suppress this warning.\n"
     ]
    },
    {
     "name": "stdout",
     "output_type": "stream",
     "text": [
      "<class 'numpy.ndarray'>\n",
      "SHAPE:  (256, 256, 1)\n",
      "RANGE: [ 0.15534924 , 1.0 ]\n",
      "normal-brain-mri-5(17).png\n",
      "<class 'numpy.ndarray'>\n",
      "SHAPE:  (256, 256, 1)\n",
      "RANGE: [ 0.15534924 , 1.0 ]\n",
      "normal-brain-mri-5(18).png\n"
     ]
    },
    {
     "name": "stderr",
     "output_type": "stream",
     "text": [
      "Lossy conversion from float64 to uint8. Range [0, 1]. Convert image to uint8 prior to saving to suppress this warning.\n",
      "Lossy conversion from float64 to uint8. Range [0, 1]. Convert image to uint8 prior to saving to suppress this warning.\n"
     ]
    },
    {
     "name": "stdout",
     "output_type": "stream",
     "text": [
      "<class 'numpy.ndarray'>\n",
      "SHAPE:  (256, 256, 1)\n",
      "RANGE: [ 0.15526152 , 1.0 ]\n",
      "normal-brain-mri-5(19).png\n",
      "<class 'numpy.ndarray'>\n",
      "SHAPE:  (256, 256, 1)\n",
      "RANGE: [ 0.155349 , 1.0 ]\n",
      "normal-brain-mri-5(2).png\n"
     ]
    },
    {
     "name": "stderr",
     "output_type": "stream",
     "text": [
      "Lossy conversion from float64 to uint8. Range [0, 1]. Convert image to uint8 prior to saving to suppress this warning.\n",
      "Lossy conversion from float64 to uint8. Range [0, 1]. Convert image to uint8 prior to saving to suppress this warning.\n"
     ]
    },
    {
     "name": "stdout",
     "output_type": "stream",
     "text": [
      "<class 'numpy.ndarray'>\n",
      "SHAPE:  (256, 256, 1)\n",
      "RANGE: [ 0.14618345 , 1.0 ]\n",
      "normal-brain-mri-5(20).png\n",
      "<class 'numpy.ndarray'>\n",
      "SHAPE:  (256, 256, 1)\n",
      "RANGE: [ 0.15534924 , 1.0 ]\n",
      "normal-brain-mri-5(3).png\n"
     ]
    },
    {
     "name": "stderr",
     "output_type": "stream",
     "text": [
      "Lossy conversion from float64 to uint8. Range [0, 1]. Convert image to uint8 prior to saving to suppress this warning.\n",
      "Lossy conversion from float64 to uint8. Range [0, 1]. Convert image to uint8 prior to saving to suppress this warning.\n"
     ]
    },
    {
     "name": "stdout",
     "output_type": "stream",
     "text": [
      "<class 'numpy.ndarray'>\n",
      "SHAPE:  (256, 256, 1)\n",
      "RANGE: [ 0.14518134 , 1.0 ]\n",
      "normal-brain-mri-5(4).png\n",
      "<class 'numpy.ndarray'>\n",
      "SHAPE:  (256, 256, 1)\n",
      "RANGE: [ 0.15016767 , 1.0 ]\n",
      "normal-brain-mri-5(5).png\n"
     ]
    },
    {
     "name": "stderr",
     "output_type": "stream",
     "text": [
      "Lossy conversion from float64 to uint8. Range [0, 1]. Convert image to uint8 prior to saving to suppress this warning.\n",
      "Lossy conversion from float64 to uint8. Range [0, 1]. Convert image to uint8 prior to saving to suppress this warning.\n"
     ]
    },
    {
     "name": "stdout",
     "output_type": "stream",
     "text": [
      "<class 'numpy.ndarray'>\n",
      "SHAPE:  (256, 256, 1)\n",
      "RANGE: [ 0.15525211 , 1.0 ]\n",
      "normal-brain-mri-5(6).png\n",
      "<class 'numpy.ndarray'>\n",
      "SHAPE:  (256, 256, 1)\n",
      "RANGE: [ 0.1461943 , 1.0 ]\n",
      "normal-brain-mri-5(7).png\n"
     ]
    },
    {
     "name": "stderr",
     "output_type": "stream",
     "text": [
      "Lossy conversion from float64 to uint8. Range [0, 1]. Convert image to uint8 prior to saving to suppress this warning.\n",
      "Lossy conversion from float64 to uint8. Range [0, 1]. Convert image to uint8 prior to saving to suppress this warning.\n"
     ]
    },
    {
     "name": "stdout",
     "output_type": "stream",
     "text": [
      "<class 'numpy.ndarray'>\n",
      "SHAPE:  (256, 256, 1)\n",
      "RANGE: [ 0.15434664 , 1.0 ]\n",
      "normal-brain-mri-5(8).png\n",
      "<class 'numpy.ndarray'>\n",
      "SHAPE:  (256, 256, 1)\n",
      "RANGE: [ 0.16154324 , 1.0 ]\n",
      "normal-brain-mri-5(9).png\n"
     ]
    },
    {
     "name": "stderr",
     "output_type": "stream",
     "text": [
      "Lossy conversion from float64 to uint8. Range [0, 1]. Convert image to uint8 prior to saving to suppress this warning.\n",
      "Lossy conversion from float64 to uint8. Range [0, 1]. Convert image to uint8 prior to saving to suppress this warning.\n"
     ]
    },
    {
     "name": "stdout",
     "output_type": "stream",
     "text": [
      "<class 'numpy.ndarray'>\n",
      "SHAPE:  (256, 256, 1)\n",
      "RANGE: [ 0.17196648 , 1.0 ]\n",
      "normal-brain-mri-5.png\n",
      "<class 'numpy.ndarray'>\n",
      "SHAPE:  (256, 256, 1)\n",
      "RANGE: [ 0.15434664 , 1.0 ]\n"
     ]
    },
    {
     "name": "stderr",
     "output_type": "stream",
     "text": [
      "Lossy conversion from float64 to uint8. Range [0, 1]. Convert image to uint8 prior to saving to suppress this warning.\n"
     ]
    },
    {
     "name": "stdout",
     "output_type": "stream",
     "text": [
      "normal-noncontrast-mr-venography(1).jpg\n",
      "<class 'numpy.ndarray'>\n",
      "SHAPE:  (256, 256, 1)\n",
      "RANGE: [ 0.0 , 0.9444656069050039 ]\n",
      "normal-noncontrast-mr-venography(10).jpg\n"
     ]
    },
    {
     "name": "stderr",
     "output_type": "stream",
     "text": [
      "Lossy conversion from float64 to uint8. Range [0, 1]. Convert image to uint8 prior to saving to suppress this warning.\n",
      "Lossy conversion from float64 to uint8. Range [0, 1]. Convert image to uint8 prior to saving to suppress this warning.\n",
      "Lossy conversion from float64 to uint8. Range [0, 1]. Convert image to uint8 prior to saving to suppress this warning.\n"
     ]
    },
    {
     "name": "stdout",
     "output_type": "stream",
     "text": [
      "<class 'numpy.ndarray'>\n",
      "SHAPE:  (256, 256, 1)\n",
      "RANGE: [ 0.0 , 0.9283584253489877 ]\n",
      "normal-noncontrast-mr-venography(11).jpg\n",
      "<class 'numpy.ndarray'>\n",
      "SHAPE:  (256, 256, 1)\n",
      "RANGE: [ 0.0 , 0.772599076617959 ]\n",
      "normal-noncontrast-mr-venography(12).jpg\n"
     ]
    },
    {
     "name": "stderr",
     "output_type": "stream",
     "text": [
      "Lossy conversion from float64 to uint8. Range [0, 1]. Convert image to uint8 prior to saving to suppress this warning.\n",
      "Lossy conversion from float64 to uint8. Range [0, 1]. Convert image to uint8 prior to saving to suppress this warning.\n"
     ]
    },
    {
     "name": "stdout",
     "output_type": "stream",
     "text": [
      "<class 'numpy.ndarray'>\n",
      "SHAPE:  (256, 256, 1)\n",
      "RANGE: [ 0.0 , 0.9189344739382643 ]\n",
      "normal-noncontrast-mr-venography(13).jpg\n",
      "<class 'numpy.ndarray'>\n",
      "SHAPE:  (256, 256, 1)\n",
      "RANGE: [ 0.0 , 0.9030692309533603 ]\n",
      "normal-noncontrast-mr-venography(14).jpg\n",
      "<class 'numpy.ndarray'>\n",
      "SHAPE:  (256, 256, 1)\n",
      "RANGE: [ 0.0 , 0.9492815135228934 ]\n",
      "normal-noncontrast-mr-venography(15).jpg\n"
     ]
    },
    {
     "name": "stderr",
     "output_type": "stream",
     "text": [
      "Lossy conversion from float64 to uint8. Range [0, 1]. Convert image to uint8 prior to saving to suppress this warning.\n",
      "Lossy conversion from float64 to uint8. Range [0, 1]. Convert image to uint8 prior to saving to suppress this warning.\n",
      "Lossy conversion from float64 to uint8. Range [0, 1]. Convert image to uint8 prior to saving to suppress this warning.\n"
     ]
    },
    {
     "name": "stdout",
     "output_type": "stream",
     "text": [
      "<class 'numpy.ndarray'>\n",
      "SHAPE:  (256, 256, 1)\n",
      "RANGE: [ 0.0 , 0.7904574059007972 ]\n",
      "normal-noncontrast-mr-venography(2).jpg\n",
      "<class 'numpy.ndarray'>\n",
      "SHAPE:  (256, 256, 1)\n",
      "RANGE: [ 0.0 , 0.8987185763949535 ]\n",
      "normal-noncontrast-mr-venography(3).jpg\n"
     ]
    },
    {
     "name": "stderr",
     "output_type": "stream",
     "text": [
      "Lossy conversion from float64 to uint8. Range [0, 1]. Convert image to uint8 prior to saving to suppress this warning.\n",
      "Lossy conversion from float64 to uint8. Range [0, 1]. Convert image to uint8 prior to saving to suppress this warning.\n"
     ]
    },
    {
     "name": "stdout",
     "output_type": "stream",
     "text": [
      "<class 'numpy.ndarray'>\n",
      "SHAPE:  (256, 256, 1)\n",
      "RANGE: [ 0.0 , 0.8912779975901798 ]\n",
      "normal-noncontrast-mr-venography(4).jpg\n",
      "<class 'numpy.ndarray'>\n",
      "SHAPE:  (256, 256, 1)\n",
      "RANGE: [ 0.0 , 0.8644272452241832 ]\n",
      "normal-noncontrast-mr-venography(5).jpg\n"
     ]
    },
    {
     "name": "stderr",
     "output_type": "stream",
     "text": [
      "Lossy conversion from float64 to uint8. Range [0, 1]. Convert image to uint8 prior to saving to suppress this warning.\n",
      "Lossy conversion from float64 to uint8. Range [0, 1]. Convert image to uint8 prior to saving to suppress this warning.\n"
     ]
    },
    {
     "name": "stdout",
     "output_type": "stream",
     "text": [
      "<class 'numpy.ndarray'>\n",
      "SHAPE:  (256, 256, 1)\n",
      "RANGE: [ 0.0 , 0.8750816536004029 ]\n",
      "normal-noncontrast-mr-venography(6).jpg\n",
      "<class 'numpy.ndarray'>\n",
      "SHAPE:  (256, 256, 1)\n",
      "RANGE: [ 0.0 , 0.8919723021892295 ]\n",
      "normal-noncontrast-mr-venography(7).jpg\n",
      "<class 'numpy.ndarray'>\n",
      "SHAPE:  (256, 256, 1)\n",
      "RANGE: [ 0.0 , 0.9158314803715157 ]\n",
      "normal-noncontrast-mr-venography(8).jpg\n"
     ]
    },
    {
     "name": "stderr",
     "output_type": "stream",
     "text": [
      "Lossy conversion from float64 to uint8. Range [0, 1]. Convert image to uint8 prior to saving to suppress this warning.\n",
      "Lossy conversion from float64 to uint8. Range [0, 1]. Convert image to uint8 prior to saving to suppress this warning.\n",
      "Lossy conversion from float64 to uint8. Range [0, 1]. Convert image to uint8 prior to saving to suppress this warning.\n"
     ]
    },
    {
     "name": "stdout",
     "output_type": "stream",
     "text": [
      "<class 'numpy.ndarray'>\n",
      "SHAPE:  (256, 256, 1)\n",
      "RANGE: [ 0.0 , 0.9481046881125275 ]\n",
      "normal-noncontrast-mr-venography(9).jpg\n",
      "<class 'numpy.ndarray'>\n",
      "SHAPE:  (256, 256, 1)\n",
      "RANGE: [ 0.0 , 0.9572395130352737 ]\n",
      "normal-noncontrast-mr-venography.jpg\n",
      "<class 'numpy.ndarray'>\n",
      "SHAPE:  (256, 256, 1)\n",
      "RANGE: [ 0.0 , 0.9344092071391584 ]\n"
     ]
    },
    {
     "name": "stderr",
     "output_type": "stream",
     "text": [
      "Lossy conversion from float64 to uint8. Range [0, 1]. Convert image to uint8 prior to saving to suppress this warning.\n"
     ]
    },
    {
     "name": "stdout",
     "output_type": "stream",
     "text": [
      "normal-noncontrast-mr-venography(1).jpg\n",
      "<class 'numpy.ndarray'>\n",
      "SHAPE:  (256, 256, 1)\n",
      "RANGE: [ 0.0 , 0.9012556272111758 ]\n",
      "normal-noncontrast-mr-venography(10).jpg\n"
     ]
    },
    {
     "name": "stderr",
     "output_type": "stream",
     "text": [
      "Lossy conversion from float64 to uint8. Range [0, 1]. Convert image to uint8 prior to saving to suppress this warning.\n",
      "Lossy conversion from float64 to uint8. Range [0, 1]. Convert image to uint8 prior to saving to suppress this warning.\n",
      "Lossy conversion from float64 to uint8. Range [0, 1]. Convert image to uint8 prior to saving to suppress this warning.\n"
     ]
    },
    {
     "name": "stdout",
     "output_type": "stream",
     "text": [
      "<class 'numpy.ndarray'>\n",
      "SHAPE:  (256, 256, 1)\n",
      "RANGE: [ 0.0 , 0.9423655729534702 ]\n",
      "normal-noncontrast-mr-venography(11).jpg\n",
      "<class 'numpy.ndarray'>\n",
      "SHAPE:  (256, 256, 1)\n",
      "RANGE: [ 0.0 , 0.9837317731434617 ]\n",
      "normal-noncontrast-mr-venography(12).jpg\n",
      "<class 'numpy.ndarray'>\n",
      "SHAPE:  (256, 256, 1)\n",
      "RANGE: [ 0.0 , 0.9611524278758359 ]\n",
      "normal-noncontrast-mr-venography(13).jpg\n"
     ]
    },
    {
     "name": "stderr",
     "output_type": "stream",
     "text": [
      "Lossy conversion from float64 to uint8. Range [0, 1]. Convert image to uint8 prior to saving to suppress this warning.\n",
      "Lossy conversion from float64 to uint8. Range [0, 1]. Convert image to uint8 prior to saving to suppress this warning.\n",
      "Lossy conversion from float64 to uint8. Range [0, 1]. Convert image to uint8 prior to saving to suppress this warning.\n"
     ]
    },
    {
     "name": "stdout",
     "output_type": "stream",
     "text": [
      "<class 'numpy.ndarray'>\n",
      "SHAPE:  (256, 256, 1)\n",
      "RANGE: [ 0.0 , 0.9791699530118014 ]\n",
      "normal-noncontrast-mr-venography(14).jpg\n",
      "<class 'numpy.ndarray'>\n",
      "SHAPE:  (256, 256, 1)\n",
      "RANGE: [ 0.0 , 0.9183150480490039 ]\n",
      "normal-noncontrast-mr-venography(15).jpg\n",
      "<class 'numpy.ndarray'>\n",
      "SHAPE:  (256, 256, 1)\n",
      "RANGE: [ 0.0 , 0.9185759290201911 ]\n",
      "normal-noncontrast-mr-venography(2).jpg\n"
     ]
    },
    {
     "name": "stderr",
     "output_type": "stream",
     "text": [
      "Lossy conversion from float64 to uint8. Range [0, 1]. Convert image to uint8 prior to saving to suppress this warning.\n",
      "Lossy conversion from float64 to uint8. Range [0, 1]. Convert image to uint8 prior to saving to suppress this warning.\n"
     ]
    },
    {
     "name": "stdout",
     "output_type": "stream",
     "text": [
      "<class 'numpy.ndarray'>\n",
      "SHAPE:  (256, 256, 1)\n",
      "RANGE: [ 0.0 , 0.9547612941932138 ]\n",
      "normal-noncontrast-mr-venography(3).jpg\n",
      "<class 'numpy.ndarray'>\n",
      "SHAPE:  (256, 256, 1)\n",
      "RANGE: [ 0.0 , 0.8829290193782291 ]\n",
      "normal-noncontrast-mr-venography(4).jpg\n"
     ]
    },
    {
     "name": "stderr",
     "output_type": "stream",
     "text": [
      "Lossy conversion from float64 to uint8. Range [0, 1]. Convert image to uint8 prior to saving to suppress this warning.\n",
      "Lossy conversion from float64 to uint8. Range [0, 1]. Convert image to uint8 prior to saving to suppress this warning.\n"
     ]
    },
    {
     "name": "stdout",
     "output_type": "stream",
     "text": [
      "<class 'numpy.ndarray'>\n",
      "SHAPE:  (256, 256, 1)\n",
      "RANGE: [ 0.0 , 0.9890832836599668 ]\n",
      "normal-noncontrast-mr-venography(5).jpg\n",
      "<class 'numpy.ndarray'>\n",
      "SHAPE:  (256, 256, 1)\n",
      "RANGE: [ 0.0 , 0.9641095698969981 ]\n",
      "normal-noncontrast-mr-venography(6).jpg\n"
     ]
    },
    {
     "name": "stderr",
     "output_type": "stream",
     "text": [
      "Lossy conversion from float64 to uint8. Range [0, 1]. Convert image to uint8 prior to saving to suppress this warning.\n",
      "Lossy conversion from float64 to uint8. Range [0, 1]. Convert image to uint8 prior to saving to suppress this warning.\n",
      "Lossy conversion from float64 to uint8. Range [0, 1]. Convert image to uint8 prior to saving to suppress this warning.\n"
     ]
    },
    {
     "name": "stdout",
     "output_type": "stream",
     "text": [
      "<class 'numpy.ndarray'>\n",
      "SHAPE:  (256, 256, 1)\n",
      "RANGE: [ 0.0 , 0.9618233976424131 ]\n",
      "normal-noncontrast-mr-venography(7).jpg\n",
      "<class 'numpy.ndarray'>\n",
      "SHAPE:  (256, 256, 1)\n",
      "RANGE: [ 0.0 , 0.931930583952036 ]\n",
      "normal-noncontrast-mr-venography(8).jpg\n"
     ]
    },
    {
     "name": "stderr",
     "output_type": "stream",
     "text": [
      "Lossy conversion from float64 to uint8. Range [0, 1]. Convert image to uint8 prior to saving to suppress this warning.\n",
      "Lossy conversion from float64 to uint8. Range [0, 1]. Convert image to uint8 prior to saving to suppress this warning.\n"
     ]
    },
    {
     "name": "stdout",
     "output_type": "stream",
     "text": [
      "<class 'numpy.ndarray'>\n",
      "SHAPE:  (256, 256, 1)\n",
      "RANGE: [ 0.0 , 0.9569757467099069 ]\n",
      "normal-noncontrast-mr-venography(9).jpg\n",
      "<class 'numpy.ndarray'>\n",
      "SHAPE:  (256, 256, 1)\n",
      "RANGE: [ 0.0 , 0.9252190714481061 ]\n",
      "normal-noncontrast-mr-venography.jpg\n",
      "<class 'numpy.ndarray'>\n",
      "SHAPE:  (256, 256, 1)\n",
      "RANGE: [ 0.0 , 0.9477514894595478 ]\n",
      "normal-mri-brain-with-mrv-teenager-1(1).jpg\n"
     ]
    },
    {
     "name": "stderr",
     "output_type": "stream",
     "text": [
      "Lossy conversion from float64 to uint8. Range [0, 1]. Convert image to uint8 prior to saving to suppress this warning.\n",
      "Lossy conversion from float64 to uint8. Range [0, 1]. Convert image to uint8 prior to saving to suppress this warning.\n"
     ]
    },
    {
     "name": "stdout",
     "output_type": "stream",
     "text": [
      "<class 'numpy.ndarray'>\n",
      "SHAPE:  (256, 256, 1)\n",
      "RANGE: [ 0.0012781957340927928 , 0.690359083090646 ]\n",
      "normal-mri-brain-with-mrv-teenager-1(10).jpg\n",
      "<class 'numpy.ndarray'>\n",
      "SHAPE:  (256, 256, 1)\n",
      "RANGE: [ 0.001368506647162398 , 0.6298846107704076 ]\n",
      "normal-mri-brain-with-mrv-teenager-1(11).jpg\n"
     ]
    },
    {
     "name": "stderr",
     "output_type": "stream",
     "text": [
      "Lossy conversion from float64 to uint8. Range [0, 1]. Convert image to uint8 prior to saving to suppress this warning.\n",
      "Lossy conversion from float64 to uint8. Range [0, 1]. Convert image to uint8 prior to saving to suppress this warning.\n"
     ]
    },
    {
     "name": "stdout",
     "output_type": "stream",
     "text": [
      "<class 'numpy.ndarray'>\n",
      "SHAPE:  (256, 256, 1)\n",
      "RANGE: [ 0.001975534605964751 , 0.6667416572028678 ]\n",
      "normal-mri-brain-with-mrv-teenager-1(12).jpg\n",
      "<class 'numpy.ndarray'>\n",
      "SHAPE:  (256, 256, 1)\n",
      "RANGE: [ 0.0017865093407543064 , 0.6224675404699087 ]\n",
      "normal-mri-brain-with-mrv-teenager-1(13).jpg\n"
     ]
    },
    {
     "name": "stderr",
     "output_type": "stream",
     "text": [
      "Lossy conversion from float64 to uint8. Range [0, 1]. Convert image to uint8 prior to saving to suppress this warning.\n",
      "Lossy conversion from float64 to uint8. Range [0, 1]. Convert image to uint8 prior to saving to suppress this warning.\n"
     ]
    },
    {
     "name": "stdout",
     "output_type": "stream",
     "text": [
      "<class 'numpy.ndarray'>\n",
      "SHAPE:  (256, 256, 1)\n",
      "RANGE: [ 0.0015781489122066506 , 0.60839392559338 ]\n",
      "normal-mri-brain-with-mrv-teenager-1(14).jpg\n",
      "<class 'numpy.ndarray'>\n",
      "SHAPE:  (256, 256, 1)\n",
      "RANGE: [ 0.001630291226778704 , 0.6095011302430613 ]\n",
      "normal-mri-brain-with-mrv-teenager-1(2).jpg\n"
     ]
    },
    {
     "name": "stderr",
     "output_type": "stream",
     "text": [
      "Lossy conversion from float64 to uint8. Range [0, 1]. Convert image to uint8 prior to saving to suppress this warning.\n",
      "Lossy conversion from float64 to uint8. Range [0, 1]. Convert image to uint8 prior to saving to suppress this warning.\n"
     ]
    },
    {
     "name": "stdout",
     "output_type": "stream",
     "text": [
      "<class 'numpy.ndarray'>\n",
      "SHAPE:  (256, 256, 1)\n",
      "RANGE: [ 0.0015797033953997854 , 0.7421734031342448 ]\n",
      "normal-mri-brain-with-mrv-teenager-1(3).jpg\n",
      "<class 'numpy.ndarray'>\n",
      "SHAPE:  (256, 256, 1)\n",
      "RANGE: [ 0.0019874631947331915 , 0.6779926331830457 ]\n",
      "normal-mri-brain-with-mrv-teenager-1(4).jpg\n"
     ]
    },
    {
     "name": "stderr",
     "output_type": "stream",
     "text": [
      "Lossy conversion from float64 to uint8. Range [0, 1]. Convert image to uint8 prior to saving to suppress this warning.\n",
      "Lossy conversion from float64 to uint8. Range [0, 1]. Convert image to uint8 prior to saving to suppress this warning.\n"
     ]
    },
    {
     "name": "stdout",
     "output_type": "stream",
     "text": [
      "<class 'numpy.ndarray'>\n",
      "SHAPE:  (256, 256, 1)\n",
      "RANGE: [ 0.002468282441172835 , 0.6830820545062437 ]\n",
      "normal-mri-brain-with-mrv-teenager-1(5).jpg\n",
      "<class 'numpy.ndarray'>\n",
      "SHAPE:  (256, 256, 1)\n",
      "RANGE: [ 0.0019417543560290998 , 0.6581050850437962 ]\n",
      "normal-mri-brain-with-mrv-teenager-1(6).jpg\n"
     ]
    },
    {
     "name": "stderr",
     "output_type": "stream",
     "text": [
      "Lossy conversion from float64 to uint8. Range [0, 1]. Convert image to uint8 prior to saving to suppress this warning.\n",
      "Lossy conversion from float64 to uint8. Range [0, 1]. Convert image to uint8 prior to saving to suppress this warning.\n"
     ]
    },
    {
     "name": "stdout",
     "output_type": "stream",
     "text": [
      "<class 'numpy.ndarray'>\n",
      "SHAPE:  (256, 256, 1)\n",
      "RANGE: [ 0.0016250943249165113 , 0.7128348300284987 ]\n",
      "normal-mri-brain-with-mrv-teenager-1(7).jpg\n",
      "<class 'numpy.ndarray'>\n",
      "SHAPE:  (256, 256, 1)\n",
      "RANGE: [ 0.0012937700513167404 , 0.6392607445505244 ]\n",
      "normal-mri-brain-with-mrv-teenager-1(8).jpg\n"
     ]
    },
    {
     "name": "stderr",
     "output_type": "stream",
     "text": [
      "Lossy conversion from float64 to uint8. Range [0, 1]. Convert image to uint8 prior to saving to suppress this warning.\n",
      "Lossy conversion from float64 to uint8. Range [0, 1]. Convert image to uint8 prior to saving to suppress this warning.\n"
     ]
    },
    {
     "name": "stdout",
     "output_type": "stream",
     "text": [
      "<class 'numpy.ndarray'>\n",
      "SHAPE:  (256, 256, 1)\n",
      "RANGE: [ 0.001796880115457668 , 0.6682718167575257 ]\n",
      "normal-mri-brain-with-mrv-teenager-1(9).jpg\n",
      "<class 'numpy.ndarray'>\n",
      "SHAPE:  (256, 256, 1)\n",
      "RANGE: [ 0.0015453997745072555 , 0.597581100479775 ]\n",
      "normal-mri-brain-with-mrv-teenager-1.jpg\n"
     ]
    },
    {
     "name": "stderr",
     "output_type": "stream",
     "text": [
      "Lossy conversion from float64 to uint8. Range [0, 1]. Convert image to uint8 prior to saving to suppress this warning.\n",
      "Lossy conversion from float64 to uint8. Range [0, 1]. Convert image to uint8 prior to saving to suppress this warning.\n"
     ]
    },
    {
     "name": "stdout",
     "output_type": "stream",
     "text": [
      "<class 'numpy.ndarray'>\n",
      "SHAPE:  (256, 256, 1)\n",
      "RANGE: [ 0.0015514297991436863 , 0.7037115856636637 ]\n",
      "normal-mri-brain-with-mrv-teenager-1(1).jpg\n",
      "<class 'numpy.ndarray'>\n",
      "SHAPE:  (256, 256, 1)\n",
      "RANGE: [ 0.032892441263827225 , 1.0 ]\n",
      "normal-mri-brain-with-mrv-teenager-1(10).jpg\n"
     ]
    },
    {
     "name": "stderr",
     "output_type": "stream",
     "text": [
      "Lossy conversion from float64 to uint8. Range [0, 1]. Convert image to uint8 prior to saving to suppress this warning.\n",
      "Lossy conversion from float64 to uint8. Range [0, 1]. Convert image to uint8 prior to saving to suppress this warning.\n"
     ]
    },
    {
     "name": "stdout",
     "output_type": "stream",
     "text": [
      "<class 'numpy.ndarray'>\n",
      "SHAPE:  (256, 256, 1)\n",
      "RANGE: [ 0.03476641948051937 , 0.9982799608838976 ]\n",
      "normal-mri-brain-with-mrv-teenager-1(11).jpg\n",
      "<class 'numpy.ndarray'>\n",
      "SHAPE:  (256, 256, 1)\n",
      "RANGE: [ 0.03506883133281177 , 0.9981908154231598 ]\n",
      "normal-mri-brain-with-mrv-teenager-1(12).jpg\n"
     ]
    },
    {
     "name": "stderr",
     "output_type": "stream",
     "text": [
      "Lossy conversion from float64 to uint8. Range [0, 1]. Convert image to uint8 prior to saving to suppress this warning.\n",
      "Lossy conversion from float64 to uint8. Range [0, 1]. Convert image to uint8 prior to saving to suppress this warning.\n"
     ]
    },
    {
     "name": "stdout",
     "output_type": "stream",
     "text": [
      "<class 'numpy.ndarray'>\n",
      "SHAPE:  (256, 256, 1)\n",
      "RANGE: [ 0.03462777516167197 , 0.9989622863899028 ]\n",
      "normal-mri-brain-with-mrv-teenager-1(13).jpg\n",
      "<class 'numpy.ndarray'>\n",
      "SHAPE:  (256, 256, 1)\n",
      "RANGE: [ 0.03468301536077284 , 0.9996050156119678 ]\n",
      "normal-mri-brain-with-mrv-teenager-1(14).jpg\n"
     ]
    },
    {
     "name": "stderr",
     "output_type": "stream",
     "text": [
      "Lossy conversion from float64 to uint8. Range [0, 1]. Convert image to uint8 prior to saving to suppress this warning.\n",
      "Lossy conversion from float64 to uint8. Range [0, 1]. Convert image to uint8 prior to saving to suppress this warning.\n"
     ]
    },
    {
     "name": "stdout",
     "output_type": "stream",
     "text": [
      "<class 'numpy.ndarray'>\n",
      "SHAPE:  (256, 256, 1)\n",
      "RANGE: [ 0.03472879908645854 , 0.9998736328664833 ]\n",
      "normal-mri-brain-with-mrv-teenager-1(15).jpg\n",
      "<class 'numpy.ndarray'>\n",
      "SHAPE:  (256, 256, 1)\n",
      "RANGE: [ 0.034711475613033525 , 0.9997896739577242 ]\n",
      "normal-mri-brain-with-mrv-teenager-1(2).jpg\n"
     ]
    },
    {
     "name": "stderr",
     "output_type": "stream",
     "text": [
      "Lossy conversion from float64 to uint8. Range [0, 1]. Convert image to uint8 prior to saving to suppress this warning.\n",
      "Lossy conversion from float64 to uint8. Range [0, 1]. Convert image to uint8 prior to saving to suppress this warning.\n"
     ]
    },
    {
     "name": "stdout",
     "output_type": "stream",
     "text": [
      "<class 'numpy.ndarray'>\n",
      "SHAPE:  (256, 256, 1)\n",
      "RANGE: [ 0.0336231838873552 , 1.0 ]\n",
      "normal-mri-brain-with-mrv-teenager-1(3).jpg\n",
      "<class 'numpy.ndarray'>\n",
      "SHAPE:  (256, 256, 1)\n",
      "RANGE: [ 0.03406920202693772 , 0.9999793639563603 ]\n",
      "normal-mri-brain-with-mrv-teenager-1(4).jpg\n"
     ]
    },
    {
     "name": "stderr",
     "output_type": "stream",
     "text": [
      "Lossy conversion from float64 to uint8. Range [0, 1]. Convert image to uint8 prior to saving to suppress this warning.\n",
      "Lossy conversion from float64 to uint8. Range [0, 1]. Convert image to uint8 prior to saving to suppress this warning.\n"
     ]
    },
    {
     "name": "stdout",
     "output_type": "stream",
     "text": [
      "<class 'numpy.ndarray'>\n",
      "SHAPE:  (256, 256, 1)\n",
      "RANGE: [ 0.03469447665380024 , 1.0 ]\n",
      "normal-mri-brain-with-mrv-teenager-1(5).jpg\n",
      "<class 'numpy.ndarray'>\n",
      "SHAPE:  (256, 256, 1)\n",
      "RANGE: [ 0.03384131068757956 , 1.0 ]\n",
      "normal-mri-brain-with-mrv-teenager-1(6).jpg\n"
     ]
    },
    {
     "name": "stderr",
     "output_type": "stream",
     "text": [
      "Lossy conversion from float64 to uint8. Range [0, 1]. Convert image to uint8 prior to saving to suppress this warning.\n",
      "Lossy conversion from float64 to uint8. Range [0, 1]. Convert image to uint8 prior to saving to suppress this warning.\n"
     ]
    },
    {
     "name": "stdout",
     "output_type": "stream",
     "text": [
      "<class 'numpy.ndarray'>\n",
      "SHAPE:  (256, 256, 1)\n",
      "RANGE: [ 0.03416993205047372 , 1.0 ]\n",
      "normal-mri-brain-with-mrv-teenager-1(7).jpg\n",
      "<class 'numpy.ndarray'>\n",
      "SHAPE:  (256, 256, 1)\n",
      "RANGE: [ 0.03413768794224116 , 1.0 ]\n",
      "normal-mri-brain-with-mrv-teenager-1(8).jpg\n"
     ]
    },
    {
     "name": "stderr",
     "output_type": "stream",
     "text": [
      "Lossy conversion from float64 to uint8. Range [0, 1]. Convert image to uint8 prior to saving to suppress this warning.\n",
      "Lossy conversion from float64 to uint8. Range [0, 1]. Convert image to uint8 prior to saving to suppress this warning.\n"
     ]
    },
    {
     "name": "stdout",
     "output_type": "stream",
     "text": [
      "<class 'numpy.ndarray'>\n",
      "SHAPE:  (256, 256, 1)\n",
      "RANGE: [ 0.0345740698649947 , 1.0 ]\n",
      "normal-mri-brain-with-mrv-teenager-1(9).jpg\n",
      "<class 'numpy.ndarray'>\n",
      "SHAPE:  (256, 256, 1)\n",
      "RANGE: [ 0.034882922873480916 , 0.9994806117082444 ]\n",
      "normal-mri-brain-with-mrv-teenager-1.jpg\n"
     ]
    },
    {
     "name": "stderr",
     "output_type": "stream",
     "text": [
      "Lossy conversion from float64 to uint8. Range [0, 1]. Convert image to uint8 prior to saving to suppress this warning.\n"
     ]
    },
    {
     "name": "stdout",
     "output_type": "stream",
     "text": [
      "<class 'numpy.ndarray'>\n",
      "SHAPE:  (256, 256, 1)\n",
      "RANGE: [ 0.0346917461737518 , 1.0 ]\n",
      "normal-head-mr-angiogram(1).png\n"
     ]
    },
    {
     "name": "stderr",
     "output_type": "stream",
     "text": [
      "Lossy conversion from float64 to uint8. Range [0, 1]. Convert image to uint8 prior to saving to suppress this warning.\n"
     ]
    },
    {
     "name": "stdout",
     "output_type": "stream",
     "text": [
      "<class 'numpy.ndarray'>\n",
      "SHAPE:  (256, 256, 1)\n",
      "RANGE: [ 0.008758933 , 0.67141527 ]\n",
      "normal-head-mr-angiogram(2).png\n"
     ]
    },
    {
     "name": "stderr",
     "output_type": "stream",
     "text": [
      "Lossy conversion from float64 to uint8. Range [0, 1]. Convert image to uint8 prior to saving to suppress this warning.\n"
     ]
    },
    {
     "name": "stdout",
     "output_type": "stream",
     "text": [
      "<class 'numpy.ndarray'>\n",
      "SHAPE:  (256, 256, 1)\n",
      "RANGE: [ 0.008763642 , 0.6204114 ]\n",
      "normal-head-mr-angiogram(3).png\n"
     ]
    },
    {
     "name": "stderr",
     "output_type": "stream",
     "text": [
      "Lossy conversion from float64 to uint8. Range [0, 1]. Convert image to uint8 prior to saving to suppress this warning.\n"
     ]
    },
    {
     "name": "stdout",
     "output_type": "stream",
     "text": [
      "<class 'numpy.ndarray'>\n",
      "SHAPE:  (256, 256, 1)\n",
      "RANGE: [ 0.009344172 , 0.6579292 ]\n",
      "normal-head-mr-angiogram(4).png\n"
     ]
    },
    {
     "name": "stderr",
     "output_type": "stream",
     "text": [
      "Lossy conversion from float64 to uint8. Range [0, 1]. Convert image to uint8 prior to saving to suppress this warning.\n"
     ]
    },
    {
     "name": "stdout",
     "output_type": "stream",
     "text": [
      "<class 'numpy.ndarray'>\n",
      "SHAPE:  (256, 256, 1)\n",
      "RANGE: [ 0.011515088 , 0.6217891 ]\n",
      "normal-head-mr-angiogram(5).png\n"
     ]
    },
    {
     "name": "stderr",
     "output_type": "stream",
     "text": [
      "Lossy conversion from float64 to uint8. Range [0, 1]. Convert image to uint8 prior to saving to suppress this warning.\n"
     ]
    },
    {
     "name": "stdout",
     "output_type": "stream",
     "text": [
      "<class 'numpy.ndarray'>\n",
      "SHAPE:  (256, 256, 1)\n",
      "RANGE: [ 0.011888739 , 0.58912545 ]\n",
      "normal-head-mr-angiogram(6).png\n"
     ]
    },
    {
     "name": "stderr",
     "output_type": "stream",
     "text": [
      "Lossy conversion from float64 to uint8. Range [0, 1]. Convert image to uint8 prior to saving to suppress this warning.\n"
     ]
    },
    {
     "name": "stdout",
     "output_type": "stream",
     "text": [
      "<class 'numpy.ndarray'>\n",
      "SHAPE:  (256, 256, 1)\n",
      "RANGE: [ 0.015645038 , 0.6146501 ]\n",
      "normal-head-mr-angiogram(7).png\n"
     ]
    },
    {
     "name": "stderr",
     "output_type": "stream",
     "text": [
      "Lossy conversion from float64 to uint8. Range [0, 1]. Convert image to uint8 prior to saving to suppress this warning.\n"
     ]
    },
    {
     "name": "stdout",
     "output_type": "stream",
     "text": [
      "<class 'numpy.ndarray'>\n",
      "SHAPE:  (256, 256, 1)\n",
      "RANGE: [ 0.016947892 , 0.604927 ]\n",
      "normal-head-mr-angiogram(8).png\n"
     ]
    },
    {
     "name": "stderr",
     "output_type": "stream",
     "text": [
      "Lossy conversion from float64 to uint8. Range [0, 1]. Convert image to uint8 prior to saving to suppress this warning.\n",
      "Lossy conversion from float64 to uint8. Range [0, 1]. Convert image to uint8 prior to saving to suppress this warning.\n"
     ]
    },
    {
     "name": "stdout",
     "output_type": "stream",
     "text": [
      "<class 'numpy.ndarray'>\n",
      "SHAPE:  (256, 256, 1)\n",
      "RANGE: [ 0.019055208 , 0.62307125 ]\n",
      "normal-head-mr-angiogram(9).png\n",
      "<class 'numpy.ndarray'>\n",
      "SHAPE:  (256, 256, 1)\n",
      "RANGE: [ 0.021590851 , 0.62806153 ]\n",
      "normal-head-mr-angiogram(1).png\n"
     ]
    },
    {
     "name": "stderr",
     "output_type": "stream",
     "text": [
      "Lossy conversion from float64 to uint8. Range [0, 1]. Convert image to uint8 prior to saving to suppress this warning.\n"
     ]
    },
    {
     "name": "stdout",
     "output_type": "stream",
     "text": [
      "<class 'numpy.ndarray'>\n",
      "SHAPE:  (256, 256, 1)\n",
      "RANGE: [ 0.023205545 , 0.9997985 ]\n",
      "normal-head-mr-angiogram(10).png\n"
     ]
    },
    {
     "name": "stderr",
     "output_type": "stream",
     "text": [
      "Lossy conversion from float64 to uint8. Range [0, 1]. Convert image to uint8 prior to saving to suppress this warning.\n"
     ]
    },
    {
     "name": "stdout",
     "output_type": "stream",
     "text": [
      "<class 'numpy.ndarray'>\n",
      "SHAPE:  (256, 256, 1)\n",
      "RANGE: [ 0.019305272 , 0.9859332 ]\n",
      "normal-head-mr-angiogram(2).png\n"
     ]
    },
    {
     "name": "stderr",
     "output_type": "stream",
     "text": [
      "Lossy conversion from float64 to uint8. Range [0, 1]. Convert image to uint8 prior to saving to suppress this warning.\n"
     ]
    },
    {
     "name": "stdout",
     "output_type": "stream",
     "text": [
      "<class 'numpy.ndarray'>\n",
      "SHAPE:  (256, 256, 1)\n",
      "RANGE: [ 0.015395376 , 0.99482006 ]\n",
      "normal-head-mr-angiogram(3).png\n"
     ]
    },
    {
     "name": "stderr",
     "output_type": "stream",
     "text": [
      "Lossy conversion from float64 to uint8. Range [0, 1]. Convert image to uint8 prior to saving to suppress this warning.\n",
      "Lossy conversion from float64 to uint8. Range [0, 1]. Convert image to uint8 prior to saving to suppress this warning.\n"
     ]
    },
    {
     "name": "stdout",
     "output_type": "stream",
     "text": [
      "<class 'numpy.ndarray'>\n",
      "SHAPE:  (256, 256, 1)\n",
      "RANGE: [ 0.0112875365 , 0.99929595 ]\n",
      "normal-head-mr-angiogram(4).png\n",
      "<class 'numpy.ndarray'>\n",
      "SHAPE:  (256, 256, 1)\n",
      "RANGE: [ 0.0113239745 , 0.9127415 ]\n",
      "normal-head-mr-angiogram(5).png\n"
     ]
    },
    {
     "name": "stderr",
     "output_type": "stream",
     "text": [
      "Lossy conversion from float64 to uint8. Range [0, 1]. Convert image to uint8 prior to saving to suppress this warning.\n"
     ]
    },
    {
     "name": "stdout",
     "output_type": "stream",
     "text": [
      "<class 'numpy.ndarray'>\n",
      "SHAPE:  (256, 256, 1)\n",
      "RANGE: [ 0.011281644 , 0.8915439 ]\n",
      "normal-head-mr-angiogram(6).png\n"
     ]
    },
    {
     "name": "stderr",
     "output_type": "stream",
     "text": [
      "Lossy conversion from float64 to uint8. Range [0, 1]. Convert image to uint8 prior to saving to suppress this warning.\n"
     ]
    },
    {
     "name": "stdout",
     "output_type": "stream",
     "text": [
      "<class 'numpy.ndarray'>\n",
      "SHAPE:  (256, 256, 1)\n",
      "RANGE: [ 0.007689693 , 0.86213255 ]\n",
      "normal-head-mr-angiogram(7).png\n"
     ]
    },
    {
     "name": "stderr",
     "output_type": "stream",
     "text": [
      "Lossy conversion from float64 to uint8. Range [0, 1]. Convert image to uint8 prior to saving to suppress this warning.\n"
     ]
    },
    {
     "name": "stdout",
     "output_type": "stream",
     "text": [
      "<class 'numpy.ndarray'>\n",
      "SHAPE:  (256, 256, 1)\n",
      "RANGE: [ 0.0116745485 , 0.9348902 ]\n",
      "normal-head-mr-angiogram(8).png\n"
     ]
    },
    {
     "name": "stderr",
     "output_type": "stream",
     "text": [
      "Lossy conversion from float64 to uint8. Range [0, 1]. Convert image to uint8 prior to saving to suppress this warning.\n"
     ]
    },
    {
     "name": "stdout",
     "output_type": "stream",
     "text": [
      "<class 'numpy.ndarray'>\n",
      "SHAPE:  (256, 256, 1)\n",
      "RANGE: [ 0.01180107 , 0.9901381 ]\n",
      "normal-head-mr-angiogram(9).png\n"
     ]
    },
    {
     "name": "stderr",
     "output_type": "stream",
     "text": [
      "Lossy conversion from float64 to uint8. Range [0, 1]. Convert image to uint8 prior to saving to suppress this warning.\n"
     ]
    },
    {
     "name": "stdout",
     "output_type": "stream",
     "text": [
      "<class 'numpy.ndarray'>\n",
      "SHAPE:  (256, 256, 1)\n",
      "RANGE: [ 0.019196063 , 0.9870638 ]\n",
      "normal-head-mr-angiogram(1).png\n"
     ]
    },
    {
     "name": "stderr",
     "output_type": "stream",
     "text": [
      "Lossy conversion from float64 to uint8. Range [0, 1]. Convert image to uint8 prior to saving to suppress this warning.\n"
     ]
    },
    {
     "name": "stdout",
     "output_type": "stream",
     "text": [
      "<class 'numpy.ndarray'>\n",
      "SHAPE:  (256, 256, 1)\n",
      "RANGE: [ 0.0 , 0.76399386 ]\n",
      "normal-head-mr-angiogram(2).png\n"
     ]
    },
    {
     "name": "stderr",
     "output_type": "stream",
     "text": [
      "Lossy conversion from float64 to uint8. Range [0, 1]. Convert image to uint8 prior to saving to suppress this warning.\n",
      "Lossy conversion from float64 to uint8. Range [0, 1]. Convert image to uint8 prior to saving to suppress this warning.\n"
     ]
    },
    {
     "name": "stdout",
     "output_type": "stream",
     "text": [
      "<class 'numpy.ndarray'>\n",
      "SHAPE:  (256, 256, 1)\n",
      "RANGE: [ 0.0 , 0.7512085 ]\n",
      "normal-head-mr-angiogram(3).png\n",
      "<class 'numpy.ndarray'>\n",
      "SHAPE:  (256, 256, 1)\n",
      "RANGE: [ 0.0 , 0.7889919 ]\n",
      "normal-head-mr-angiogram(4).png\n"
     ]
    },
    {
     "name": "stderr",
     "output_type": "stream",
     "text": [
      "Lossy conversion from float64 to uint8. Range [0, 1]. Convert image to uint8 prior to saving to suppress this warning.\n"
     ]
    },
    {
     "name": "stdout",
     "output_type": "stream",
     "text": [
      "<class 'numpy.ndarray'>\n",
      "SHAPE:  (256, 256, 1)\n",
      "RANGE: [ 0.0 , 0.8553184 ]\n",
      "normal-head-mr-angiogram(5).png\n"
     ]
    },
    {
     "name": "stderr",
     "output_type": "stream",
     "text": [
      "Lossy conversion from float64 to uint8. Range [0, 1]. Convert image to uint8 prior to saving to suppress this warning.\n"
     ]
    },
    {
     "name": "stdout",
     "output_type": "stream",
     "text": [
      "<class 'numpy.ndarray'>\n",
      "SHAPE:  (256, 256, 1)\n",
      "RANGE: [ 0.0 , 0.8710113 ]\n",
      "normal-head-mr-angiogram(6).png\n"
     ]
    },
    {
     "name": "stderr",
     "output_type": "stream",
     "text": [
      "Lossy conversion from float64 to uint8. Range [0, 1]. Convert image to uint8 prior to saving to suppress this warning.\n"
     ]
    },
    {
     "name": "stdout",
     "output_type": "stream",
     "text": [
      "<class 'numpy.ndarray'>\n",
      "SHAPE:  (256, 256, 1)\n",
      "RANGE: [ 0.0 , 0.81242245 ]\n",
      "normal-head-mr-angiogram(7).png\n"
     ]
    },
    {
     "name": "stderr",
     "output_type": "stream",
     "text": [
      "Lossy conversion from float64 to uint8. Range [0, 1]. Convert image to uint8 prior to saving to suppress this warning.\n"
     ]
    },
    {
     "name": "stdout",
     "output_type": "stream",
     "text": [
      "<class 'numpy.ndarray'>\n",
      "SHAPE:  (256, 256, 1)\n",
      "RANGE: [ 0.0 , 0.74591947 ]\n",
      "normal-head-mr-angiogram(8).png\n"
     ]
    },
    {
     "name": "stderr",
     "output_type": "stream",
     "text": [
      "Lossy conversion from float64 to uint8. Range [0, 1]. Convert image to uint8 prior to saving to suppress this warning.\n"
     ]
    },
    {
     "name": "stdout",
     "output_type": "stream",
     "text": [
      "<class 'numpy.ndarray'>\n",
      "SHAPE:  (256, 256, 1)\n",
      "RANGE: [ 0.0 , 0.7736566 ]\n",
      "normal-head-mr-angiogram(9).png\n"
     ]
    },
    {
     "name": "stderr",
     "output_type": "stream",
     "text": [
      "Lossy conversion from float64 to uint8. Range [0, 1]. Convert image to uint8 prior to saving to suppress this warning.\n"
     ]
    },
    {
     "name": "stdout",
     "output_type": "stream",
     "text": [
      "<class 'numpy.ndarray'>\n",
      "SHAPE:  (256, 256, 1)\n",
      "RANGE: [ 0.16546714 , 0.7374499 ]\n",
      "normal-head-mr-angiogram(1).png\n"
     ]
    },
    {
     "name": "stderr",
     "output_type": "stream",
     "text": [
      "Lossy conversion from float64 to uint8. Range [0, 1]. Convert image to uint8 prior to saving to suppress this warning.\n"
     ]
    },
    {
     "name": "stdout",
     "output_type": "stream",
     "text": [
      "<class 'numpy.ndarray'>\n",
      "SHAPE:  (256, 256, 1)\n",
      "RANGE: [ 0.018331025 , 0.99999905 ]\n",
      "normal-head-mr-angiogram(10).png\n"
     ]
    },
    {
     "name": "stderr",
     "output_type": "stream",
     "text": [
      "Lossy conversion from float64 to uint8. Range [0, 1]. Convert image to uint8 prior to saving to suppress this warning.\n"
     ]
    },
    {
     "name": "stdout",
     "output_type": "stream",
     "text": [
      "<class 'numpy.ndarray'>\n",
      "SHAPE:  (256, 256, 1)\n",
      "RANGE: [ 0.023879096 , 0.99926907 ]\n",
      "normal-head-mr-angiogram(11).png\n"
     ]
    },
    {
     "name": "stderr",
     "output_type": "stream",
     "text": [
      "Lossy conversion from float64 to uint8. Range [0, 1]. Convert image to uint8 prior to saving to suppress this warning.\n"
     ]
    },
    {
     "name": "stdout",
     "output_type": "stream",
     "text": [
      "<class 'numpy.ndarray'>\n",
      "SHAPE:  (256, 256, 1)\n",
      "RANGE: [ 0.026355127 , 0.9954018 ]\n",
      "normal-head-mr-angiogram(2).png\n"
     ]
    },
    {
     "name": "stderr",
     "output_type": "stream",
     "text": [
      "Lossy conversion from float64 to uint8. Range [0, 1]. Convert image to uint8 prior to saving to suppress this warning.\n"
     ]
    },
    {
     "name": "stdout",
     "output_type": "stream",
     "text": [
      "<class 'numpy.ndarray'>\n",
      "SHAPE:  (256, 256, 1)\n",
      "RANGE: [ 0.018410152 , 0.9999987 ]\n",
      "normal-head-mr-angiogram(3).png\n"
     ]
    },
    {
     "name": "stderr",
     "output_type": "stream",
     "text": [
      "Lossy conversion from float64 to uint8. Range [0, 1]. Convert image to uint8 prior to saving to suppress this warning.\n"
     ]
    },
    {
     "name": "stdout",
     "output_type": "stream",
     "text": [
      "<class 'numpy.ndarray'>\n",
      "SHAPE:  (256, 256, 1)\n",
      "RANGE: [ 0.017502116 , 0.99999815 ]\n",
      "normal-head-mr-angiogram(4).png\n"
     ]
    },
    {
     "name": "stderr",
     "output_type": "stream",
     "text": [
      "Lossy conversion from float64 to uint8. Range [0, 1]. Convert image to uint8 prior to saving to suppress this warning.\n"
     ]
    },
    {
     "name": "stdout",
     "output_type": "stream",
     "text": [
      "<class 'numpy.ndarray'>\n",
      "SHAPE:  (256, 256, 1)\n",
      "RANGE: [ 0.014348649 , 0.99998796 ]\n",
      "normal-head-mr-angiogram(5).png\n"
     ]
    },
    {
     "name": "stderr",
     "output_type": "stream",
     "text": [
      "Lossy conversion from float64 to uint8. Range [0, 1]. Convert image to uint8 prior to saving to suppress this warning.\n"
     ]
    },
    {
     "name": "stdout",
     "output_type": "stream",
     "text": [
      "<class 'numpy.ndarray'>\n",
      "SHAPE:  (256, 256, 1)\n",
      "RANGE: [ 0.015312939 , 0.9999987 ]\n",
      "normal-head-mr-angiogram(6).png\n"
     ]
    },
    {
     "name": "stderr",
     "output_type": "stream",
     "text": [
      "Lossy conversion from float64 to uint8. Range [0, 1]. Convert image to uint8 prior to saving to suppress this warning.\n"
     ]
    },
    {
     "name": "stdout",
     "output_type": "stream",
     "text": [
      "<class 'numpy.ndarray'>\n",
      "SHAPE:  (256, 256, 1)\n",
      "RANGE: [ 0.014785982 , 0.9999998 ]\n",
      "normal-head-mr-angiogram(7).png\n"
     ]
    },
    {
     "name": "stderr",
     "output_type": "stream",
     "text": [
      "Lossy conversion from float64 to uint8. Range [0, 1]. Convert image to uint8 prior to saving to suppress this warning.\n"
     ]
    },
    {
     "name": "stdout",
     "output_type": "stream",
     "text": [
      "<class 'numpy.ndarray'>\n",
      "SHAPE:  (256, 256, 1)\n",
      "RANGE: [ 0.01408729 , 0.97982997 ]\n",
      "normal-head-mr-angiogram(8).png\n"
     ]
    },
    {
     "name": "stderr",
     "output_type": "stream",
     "text": [
      "Lossy conversion from float64 to uint8. Range [0, 1]. Convert image to uint8 prior to saving to suppress this warning.\n"
     ]
    },
    {
     "name": "stdout",
     "output_type": "stream",
     "text": [
      "<class 'numpy.ndarray'>\n",
      "SHAPE:  (256, 256, 1)\n",
      "RANGE: [ 0.01676687 , 0.9815378 ]\n",
      "normal-head-mr-angiogram(9).png\n"
     ]
    },
    {
     "name": "stderr",
     "output_type": "stream",
     "text": [
      "Lossy conversion from float64 to uint8. Range [0, 1]. Convert image to uint8 prior to saving to suppress this warning.\n"
     ]
    },
    {
     "name": "stdout",
     "output_type": "stream",
     "text": [
      "<class 'numpy.ndarray'>\n",
      "SHAPE:  (256, 256, 1)\n",
      "RANGE: [ 0.01889874 , 0.9593425 ]\n",
      "normal-head-mr-angiogram(1).png\n"
     ]
    },
    {
     "name": "stderr",
     "output_type": "stream",
     "text": [
      "Lossy conversion from float64 to uint8. Range [0, 1]. Convert image to uint8 prior to saving to suppress this warning.\n"
     ]
    },
    {
     "name": "stdout",
     "output_type": "stream",
     "text": [
      "<class 'numpy.ndarray'>\n",
      "SHAPE:  (256, 256, 1)\n",
      "RANGE: [ 0.0 , 0.9696844 ]\n",
      "normal-head-mr-angiogram(10).png\n"
     ]
    },
    {
     "name": "stderr",
     "output_type": "stream",
     "text": [
      "Lossy conversion from float64 to uint8. Range [0, 1]. Convert image to uint8 prior to saving to suppress this warning.\n"
     ]
    },
    {
     "name": "stdout",
     "output_type": "stream",
     "text": [
      "<class 'numpy.ndarray'>\n",
      "SHAPE:  (256, 256, 1)\n",
      "RANGE: [ 0.0 , 0.99686724 ]\n",
      "normal-head-mr-angiogram(11).png\n"
     ]
    },
    {
     "name": "stderr",
     "output_type": "stream",
     "text": [
      "Lossy conversion from float64 to uint8. Range [0, 1]. Convert image to uint8 prior to saving to suppress this warning.\n"
     ]
    },
    {
     "name": "stdout",
     "output_type": "stream",
     "text": [
      "<class 'numpy.ndarray'>\n",
      "SHAPE:  (256, 256, 1)\n",
      "RANGE: [ 0.0 , 0.99230146 ]\n",
      "normal-head-mr-angiogram(12).png\n"
     ]
    },
    {
     "name": "stderr",
     "output_type": "stream",
     "text": [
      "Lossy conversion from float64 to uint8. Range [0, 1]. Convert image to uint8 prior to saving to suppress this warning.\n"
     ]
    },
    {
     "name": "stdout",
     "output_type": "stream",
     "text": [
      "<class 'numpy.ndarray'>\n",
      "SHAPE:  (256, 256, 1)\n",
      "RANGE: [ 0.0 , 0.99245304 ]\n",
      "normal-head-mr-angiogram(13).png\n"
     ]
    },
    {
     "name": "stderr",
     "output_type": "stream",
     "text": [
      "Lossy conversion from float64 to uint8. Range [0, 1]. Convert image to uint8 prior to saving to suppress this warning.\n"
     ]
    },
    {
     "name": "stdout",
     "output_type": "stream",
     "text": [
      "<class 'numpy.ndarray'>\n",
      "SHAPE:  (256, 256, 1)\n",
      "RANGE: [ 0.0 , 0.99912083 ]\n",
      "normal-head-mr-angiogram(14).png\n"
     ]
    },
    {
     "name": "stderr",
     "output_type": "stream",
     "text": [
      "Lossy conversion from float64 to uint8. Range [0, 1]. Convert image to uint8 prior to saving to suppress this warning.\n"
     ]
    },
    {
     "name": "stdout",
     "output_type": "stream",
     "text": [
      "<class 'numpy.ndarray'>\n",
      "SHAPE:  (256, 256, 1)\n",
      "RANGE: [ 0.0 , 0.99088645 ]\n",
      "normal-head-mr-angiogram(15).png\n"
     ]
    },
    {
     "name": "stderr",
     "output_type": "stream",
     "text": [
      "Lossy conversion from float64 to uint8. Range [0, 1]. Convert image to uint8 prior to saving to suppress this warning.\n"
     ]
    },
    {
     "name": "stdout",
     "output_type": "stream",
     "text": [
      "<class 'numpy.ndarray'>\n",
      "SHAPE:  (256, 256, 1)\n",
      "RANGE: [ 0.0 , 0.9883014 ]\n",
      "normal-head-mr-angiogram(16).png\n"
     ]
    },
    {
     "name": "stderr",
     "output_type": "stream",
     "text": [
      "Lossy conversion from float64 to uint8. Range [0, 1]. Convert image to uint8 prior to saving to suppress this warning.\n"
     ]
    },
    {
     "name": "stdout",
     "output_type": "stream",
     "text": [
      "<class 'numpy.ndarray'>\n",
      "SHAPE:  (256, 256, 1)\n",
      "RANGE: [ 0.0 , 0.9711023 ]\n",
      "normal-head-mr-angiogram(17).png\n"
     ]
    },
    {
     "name": "stderr",
     "output_type": "stream",
     "text": [
      "Lossy conversion from float64 to uint8. Range [0, 1]. Convert image to uint8 prior to saving to suppress this warning.\n"
     ]
    },
    {
     "name": "stdout",
     "output_type": "stream",
     "text": [
      "<class 'numpy.ndarray'>\n",
      "SHAPE:  (256, 256, 1)\n",
      "RANGE: [ 0.0 , 0.9217785 ]\n",
      "normal-head-mr-angiogram(2).png\n"
     ]
    },
    {
     "name": "stderr",
     "output_type": "stream",
     "text": [
      "Lossy conversion from float64 to uint8. Range [0, 1]. Convert image to uint8 prior to saving to suppress this warning.\n"
     ]
    },
    {
     "name": "stdout",
     "output_type": "stream",
     "text": [
      "<class 'numpy.ndarray'>\n",
      "SHAPE:  (256, 256, 1)\n",
      "RANGE: [ 0.0 , 0.9726566 ]\n",
      "normal-head-mr-angiogram(3).png\n"
     ]
    },
    {
     "name": "stderr",
     "output_type": "stream",
     "text": [
      "Lossy conversion from float64 to uint8. Range [0, 1]. Convert image to uint8 prior to saving to suppress this warning.\n"
     ]
    },
    {
     "name": "stdout",
     "output_type": "stream",
     "text": [
      "<class 'numpy.ndarray'>\n",
      "SHAPE:  (256, 256, 1)\n",
      "RANGE: [ 0.0 , 0.9799973 ]\n",
      "normal-head-mr-angiogram(4).png\n"
     ]
    },
    {
     "name": "stderr",
     "output_type": "stream",
     "text": [
      "Lossy conversion from float64 to uint8. Range [0, 1]. Convert image to uint8 prior to saving to suppress this warning.\n"
     ]
    },
    {
     "name": "stdout",
     "output_type": "stream",
     "text": [
      "<class 'numpy.ndarray'>\n",
      "SHAPE:  (256, 256, 1)\n",
      "RANGE: [ 0.0 , 0.99879897 ]\n",
      "normal-head-mr-angiogram(5).png\n"
     ]
    },
    {
     "name": "stderr",
     "output_type": "stream",
     "text": [
      "Lossy conversion from float64 to uint8. Range [0, 1]. Convert image to uint8 prior to saving to suppress this warning.\n"
     ]
    },
    {
     "name": "stdout",
     "output_type": "stream",
     "text": [
      "<class 'numpy.ndarray'>\n",
      "SHAPE:  (256, 256, 1)\n",
      "RANGE: [ 0.0 , 0.96634144 ]\n",
      "normal-head-mr-angiogram(6).png\n"
     ]
    },
    {
     "name": "stderr",
     "output_type": "stream",
     "text": [
      "Lossy conversion from float64 to uint8. Range [0, 1]. Convert image to uint8 prior to saving to suppress this warning.\n"
     ]
    },
    {
     "name": "stdout",
     "output_type": "stream",
     "text": [
      "<class 'numpy.ndarray'>\n",
      "SHAPE:  (256, 256, 1)\n",
      "RANGE: [ 0.0 , 0.986611 ]\n",
      "normal-head-mr-angiogram(7).png\n"
     ]
    },
    {
     "name": "stderr",
     "output_type": "stream",
     "text": [
      "Lossy conversion from float64 to uint8. Range [0, 1]. Convert image to uint8 prior to saving to suppress this warning.\n"
     ]
    },
    {
     "name": "stdout",
     "output_type": "stream",
     "text": [
      "<class 'numpy.ndarray'>\n",
      "SHAPE:  (256, 256, 1)\n",
      "RANGE: [ 0.0 , 0.9968143 ]\n",
      "normal-head-mr-angiogram(8).png\n"
     ]
    },
    {
     "name": "stderr",
     "output_type": "stream",
     "text": [
      "Lossy conversion from float64 to uint8. Range [0, 1]. Convert image to uint8 prior to saving to suppress this warning.\n"
     ]
    },
    {
     "name": "stdout",
     "output_type": "stream",
     "text": [
      "<class 'numpy.ndarray'>\n",
      "SHAPE:  (256, 256, 1)\n",
      "RANGE: [ 0.0 , 0.9979948 ]\n",
      "normal-head-mr-angiogram(9).png\n"
     ]
    },
    {
     "name": "stderr",
     "output_type": "stream",
     "text": [
      "Lossy conversion from float64 to uint8. Range [0, 1]. Convert image to uint8 prior to saving to suppress this warning.\n"
     ]
    },
    {
     "name": "stdout",
     "output_type": "stream",
     "text": [
      "<class 'numpy.ndarray'>\n",
      "SHAPE:  (256, 256, 1)\n",
      "RANGE: [ 0.0 , 0.9941655 ]\n",
      "normal-head-mr-angiogram.png\n"
     ]
    },
    {
     "name": "stderr",
     "output_type": "stream",
     "text": [
      "Lossy conversion from float64 to uint8. Range [0, 1]. Convert image to uint8 prior to saving to suppress this warning.\n"
     ]
    },
    {
     "name": "stdout",
     "output_type": "stream",
     "text": [
      "<class 'numpy.ndarray'>\n",
      "SHAPE:  (256, 256, 1)\n",
      "RANGE: [ 0.0 , 0.99093723 ]\n",
      "normal-head-mr-angiogram(1).png\n"
     ]
    },
    {
     "name": "stderr",
     "output_type": "stream",
     "text": [
      "Lossy conversion from float64 to uint8. Range [0, 1]. Convert image to uint8 prior to saving to suppress this warning.\n"
     ]
    },
    {
     "name": "stdout",
     "output_type": "stream",
     "text": [
      "<class 'numpy.ndarray'>\n",
      "SHAPE:  (256, 256, 1)\n",
      "RANGE: [ 0.0 , 0.86814755 ]\n",
      "normal-head-mr-angiogram(10).png\n"
     ]
    },
    {
     "name": "stderr",
     "output_type": "stream",
     "text": [
      "Lossy conversion from float64 to uint8. Range [0, 1]. Convert image to uint8 prior to saving to suppress this warning.\n"
     ]
    },
    {
     "name": "stdout",
     "output_type": "stream",
     "text": [
      "<class 'numpy.ndarray'>\n",
      "SHAPE:  (256, 256, 1)\n",
      "RANGE: [ 0.0 , 0.9963461 ]\n",
      "normal-head-mr-angiogram(11).png\n"
     ]
    },
    {
     "name": "stderr",
     "output_type": "stream",
     "text": [
      "Lossy conversion from float64 to uint8. Range [0, 1]. Convert image to uint8 prior to saving to suppress this warning.\n"
     ]
    },
    {
     "name": "stdout",
     "output_type": "stream",
     "text": [
      "<class 'numpy.ndarray'>\n",
      "SHAPE:  (256, 256, 1)\n",
      "RANGE: [ 0.0 , 0.9974701 ]\n",
      "normal-head-mr-angiogram(12).png\n"
     ]
    },
    {
     "name": "stderr",
     "output_type": "stream",
     "text": [
      "Lossy conversion from float64 to uint8. Range [0, 1]. Convert image to uint8 prior to saving to suppress this warning.\n"
     ]
    },
    {
     "name": "stdout",
     "output_type": "stream",
     "text": [
      "<class 'numpy.ndarray'>\n",
      "SHAPE:  (256, 256, 1)\n",
      "RANGE: [ 0.0 , 0.981482 ]\n",
      "normal-head-mr-angiogram(13).png\n"
     ]
    },
    {
     "name": "stderr",
     "output_type": "stream",
     "text": [
      "Lossy conversion from float64 to uint8. Range [0, 1]. Convert image to uint8 prior to saving to suppress this warning.\n"
     ]
    },
    {
     "name": "stdout",
     "output_type": "stream",
     "text": [
      "<class 'numpy.ndarray'>\n",
      "SHAPE:  (256, 256, 1)\n",
      "RANGE: [ 0.0 , 0.9641702 ]\n",
      "normal-head-mr-angiogram(2).png\n"
     ]
    },
    {
     "name": "stderr",
     "output_type": "stream",
     "text": [
      "Lossy conversion from float64 to uint8. Range [0, 1]. Convert image to uint8 prior to saving to suppress this warning.\n"
     ]
    },
    {
     "name": "stdout",
     "output_type": "stream",
     "text": [
      "<class 'numpy.ndarray'>\n",
      "SHAPE:  (256, 256, 1)\n",
      "RANGE: [ 0.0 , 0.9534596 ]\n",
      "normal-head-mr-angiogram(3).png\n"
     ]
    },
    {
     "name": "stderr",
     "output_type": "stream",
     "text": [
      "Lossy conversion from float64 to uint8. Range [0, 1]. Convert image to uint8 prior to saving to suppress this warning.\n"
     ]
    },
    {
     "name": "stdout",
     "output_type": "stream",
     "text": [
      "<class 'numpy.ndarray'>\n",
      "SHAPE:  (256, 256, 1)\n",
      "RANGE: [ 0.0 , 0.98982996 ]\n",
      "normal-head-mr-angiogram(4).png\n"
     ]
    },
    {
     "name": "stderr",
     "output_type": "stream",
     "text": [
      "Lossy conversion from float64 to uint8. Range [0, 1]. Convert image to uint8 prior to saving to suppress this warning.\n"
     ]
    },
    {
     "name": "stdout",
     "output_type": "stream",
     "text": [
      "<class 'numpy.ndarray'>\n",
      "SHAPE:  (256, 256, 1)\n",
      "RANGE: [ 0.0 , 0.977133 ]\n",
      "normal-head-mr-angiogram(5).png\n"
     ]
    },
    {
     "name": "stderr",
     "output_type": "stream",
     "text": [
      "Lossy conversion from float64 to uint8. Range [0, 1]. Convert image to uint8 prior to saving to suppress this warning.\n"
     ]
    },
    {
     "name": "stdout",
     "output_type": "stream",
     "text": [
      "<class 'numpy.ndarray'>\n",
      "SHAPE:  (256, 256, 1)\n",
      "RANGE: [ 0.0 , 0.99600726 ]\n",
      "normal-head-mr-angiogram(6).png\n"
     ]
    },
    {
     "name": "stderr",
     "output_type": "stream",
     "text": [
      "Lossy conversion from float64 to uint8. Range [0, 1]. Convert image to uint8 prior to saving to suppress this warning.\n"
     ]
    },
    {
     "name": "stdout",
     "output_type": "stream",
     "text": [
      "<class 'numpy.ndarray'>\n",
      "SHAPE:  (256, 256, 1)\n",
      "RANGE: [ 0.0 , 0.9972766 ]\n",
      "normal-head-mr-angiogram(7).png\n"
     ]
    },
    {
     "name": "stderr",
     "output_type": "stream",
     "text": [
      "Lossy conversion from float64 to uint8. Range [0, 1]. Convert image to uint8 prior to saving to suppress this warning.\n"
     ]
    },
    {
     "name": "stdout",
     "output_type": "stream",
     "text": [
      "<class 'numpy.ndarray'>\n",
      "SHAPE:  (256, 256, 1)\n",
      "RANGE: [ 0.0 , 0.9993214 ]\n",
      "normal-head-mr-angiogram(8).png\n"
     ]
    },
    {
     "name": "stderr",
     "output_type": "stream",
     "text": [
      "Lossy conversion from float64 to uint8. Range [0, 1]. Convert image to uint8 prior to saving to suppress this warning.\n"
     ]
    },
    {
     "name": "stdout",
     "output_type": "stream",
     "text": [
      "<class 'numpy.ndarray'>\n",
      "SHAPE:  (256, 256, 1)\n",
      "RANGE: [ 0.0 , 0.9965711 ]\n",
      "normal-head-mr-angiogram(9).png\n"
     ]
    },
    {
     "name": "stderr",
     "output_type": "stream",
     "text": [
      "Lossy conversion from float64 to uint8. Range [0, 1]. Convert image to uint8 prior to saving to suppress this warning.\n"
     ]
    },
    {
     "name": "stdout",
     "output_type": "stream",
     "text": [
      "<class 'numpy.ndarray'>\n",
      "SHAPE:  (256, 256, 1)\n",
      "RANGE: [ 0.0 , 0.97992516 ]\n",
      "normal-head-mr-angiogram.png\n"
     ]
    },
    {
     "name": "stderr",
     "output_type": "stream",
     "text": [
      "Lossy conversion from float64 to uint8. Range [0, 1]. Convert image to uint8 prior to saving to suppress this warning.\n",
      "Lossy conversion from float64 to uint8. Range [0, 1]. Convert image to uint8 prior to saving to suppress this warning.\n"
     ]
    },
    {
     "name": "stdout",
     "output_type": "stream",
     "text": [
      "<class 'numpy.ndarray'>\n",
      "SHAPE:  (256, 256, 1)\n",
      "RANGE: [ 0.0 , 0.8255363 ]\n",
      "normal-mri-brain-with-mrv-teenager-1(37).jpg\n",
      "<class 'numpy.ndarray'>\n",
      "SHAPE:  (256, 256, 1)\n",
      "RANGE: [ 0.01737196970083557 , 0.9974279351610034 ]\n",
      "normal-mri-brain-with-mrv-teenager-1(38).jpg\n"
     ]
    },
    {
     "name": "stderr",
     "output_type": "stream",
     "text": [
      "Lossy conversion from float64 to uint8. Range [0, 1]. Convert image to uint8 prior to saving to suppress this warning.\n",
      "Lossy conversion from float64 to uint8. Range [0, 1]. Convert image to uint8 prior to saving to suppress this warning.\n"
     ]
    },
    {
     "name": "stdout",
     "output_type": "stream",
     "text": [
      "<class 'numpy.ndarray'>\n",
      "SHAPE:  (256, 256, 1)\n",
      "RANGE: [ 0.017583104346587948 , 0.9995841315182026 ]\n",
      "normal-mri-brain-with-mrv-teenager-1(39).jpg\n",
      "<class 'numpy.ndarray'>\n",
      "SHAPE:  (256, 256, 1)\n",
      "RANGE: [ 0.01708782578290719 , 0.9988998690228269 ]\n",
      "normal-mri-brain-with-mrv-teenager-1(40).jpg\n"
     ]
    },
    {
     "name": "stderr",
     "output_type": "stream",
     "text": [
      "Lossy conversion from float64 to uint8. Range [0, 1]. Convert image to uint8 prior to saving to suppress this warning.\n",
      "Lossy conversion from float64 to uint8. Range [0, 1]. Convert image to uint8 prior to saving to suppress this warning.\n"
     ]
    },
    {
     "name": "stdout",
     "output_type": "stream",
     "text": [
      "<class 'numpy.ndarray'>\n",
      "SHAPE:  (256, 256, 1)\n",
      "RANGE: [ 0.01768223744846282 , 0.9993878554458001 ]\n",
      "normal-mri-brain-with-mrv-teenager-1(41).jpg\n",
      "<class 'numpy.ndarray'>\n",
      "SHAPE:  (256, 256, 1)\n",
      "RANGE: [ 0.017594983631143327 , 0.9396298161122948 ]\n",
      "normal-mri-brain-with-mrv-teenager-1(42).jpg\n"
     ]
    },
    {
     "name": "stderr",
     "output_type": "stream",
     "text": [
      "Lossy conversion from float64 to uint8. Range [0, 1]. Convert image to uint8 prior to saving to suppress this warning.\n",
      "Lossy conversion from float64 to uint8. Range [0, 1]. Convert image to uint8 prior to saving to suppress this warning.\n"
     ]
    },
    {
     "name": "stdout",
     "output_type": "stream",
     "text": [
      "<class 'numpy.ndarray'>\n",
      "SHAPE:  (256, 256, 1)\n",
      "RANGE: [ 0.017590941258588462 , 0.9566230002373662 ]\n",
      "normal-mri-brain-with-mrv-teenager-1(43).jpg\n",
      "<class 'numpy.ndarray'>\n",
      "SHAPE:  (256, 256, 1)\n",
      "RANGE: [ 0.017359342090703434 , 0.9859924145618266 ]\n",
      "normal-mri-brain-with-mrv-teenager-1(44).jpg\n"
     ]
    },
    {
     "name": "stderr",
     "output_type": "stream",
     "text": [
      "Lossy conversion from float64 to uint8. Range [0, 1]. Convert image to uint8 prior to saving to suppress this warning.\n",
      "Lossy conversion from float64 to uint8. Range [0, 1]. Convert image to uint8 prior to saving to suppress this warning.\n"
     ]
    },
    {
     "name": "stdout",
     "output_type": "stream",
     "text": [
      "<class 'numpy.ndarray'>\n",
      "SHAPE:  (256, 256, 1)\n",
      "RANGE: [ 0.01767319630879938 , 0.9960727643923117 ]\n",
      "normal-mri-brain-with-mrv-teenager-1(45).jpg\n",
      "<class 'numpy.ndarray'>\n",
      "SHAPE:  (256, 256, 1)\n",
      "RANGE: [ 0.017505741766597298 , 0.9813684658140245 ]\n",
      "normal-mri-brain-with-mrv-teenager-1(46).jpg\n"
     ]
    },
    {
     "name": "stderr",
     "output_type": "stream",
     "text": [
      "Lossy conversion from float64 to uint8. Range [0, 1]. Convert image to uint8 prior to saving to suppress this warning.\n",
      "Lossy conversion from float64 to uint8. Range [0, 1]. Convert image to uint8 prior to saving to suppress this warning.\n"
     ]
    },
    {
     "name": "stdout",
     "output_type": "stream",
     "text": [
      "<class 'numpy.ndarray'>\n",
      "SHAPE:  (256, 256, 1)\n",
      "RANGE: [ 0.017662758658526456 , 0.977142738421468 ]\n",
      "normal-mri-brain-with-mrv-teenager-1(47).jpg\n",
      "<class 'numpy.ndarray'>\n",
      "SHAPE:  (256, 256, 1)\n",
      "RANGE: [ 0.017566012589721076 , 0.9987338216925915 ]\n",
      "normal-mri-brain-with-mrv-teenager-1(48).jpg\n"
     ]
    },
    {
     "name": "stderr",
     "output_type": "stream",
     "text": [
      "Lossy conversion from float64 to uint8. Range [0, 1]. Convert image to uint8 prior to saving to suppress this warning.\n"
     ]
    },
    {
     "name": "stdout",
     "output_type": "stream",
     "text": [
      "<class 'numpy.ndarray'>\n",
      "SHAPE:  (256, 256, 1)\n",
      "RANGE: [ 0.01737196970083557 , 0.9974279351610034 ]\n"
     ]
    }
   ],
   "source": [
    "# Lectura de todas las imágenes MRI de cerebros SANOS tanto del conjunto de entrenamiento como del conjunto\n",
    "# de validación y de test. Para cada imagen leida se convierten cada uno de los píxeles de la imagen al\n",
    "# tipo numérico de coma flotante 'float32', se reescala para que todas las imágenes leídas tengan\n",
    "# las dimensiones (256, 256, 1), se aplica una normalización estándar sobre la imagen para que cada\n",
    "# una tenga una media de 0 y una desviación estándar de 1 y se asigna la etiqueta\n",
    "# de la clase en cuestión. En este caso la se asigna la etiqueta 0 al tratarse de imágenes MRI de cerebros con HSVE\n",
    "\n",
    "# Para que las clases sean equilibradas, como máximo se leeran tantas imágenes MRI de cerebros sanos como número de\n",
    "# imágenes MRI de la enfermedad HSVE se hayan leido en la celda anterior\n",
    "# Se calculan las imágenes de HSVE leidas en traning, validación y test\n",
    "for folder1 in listdir(class_HealthyBrains_path):\n",
    "    if path.isdir(class_HealthyBrains_path + folder1):\n",
    "        for folder2 in listdir(class_HealthyBrains_path + folder1):\n",
    "            if path.isdir(class_HealthyBrains_path + folder1 + '/' + folder2):\n",
    "                for folder3 in listdir(class_HealthyBrains_path + folder1 + '/' + folder2):\n",
    "                    if path.isdir(class_HealthyBrains_path + folder1 + '/' + folder2 + '/' + folder3):\n",
    "                        for filename in listdir(class_HealthyBrains_path + folder1 + '/' + folder2 + '/' + folder3):\n",
    "                            print(filename)\n",
    "                            if path.isfile(class_HealthyBrains_path + folder1 + '/' + folder2 + '/' + folder3 + '/' + filename) and filename != '.DS_Store' and filename != '._.DS_Store':\n",
    "\n",
    "                                img = image.imread(class_HealthyBrains_path + folder1 + '/' + folder2 + '/' + folder3 + '/' + filename)\n",
    "\n",
    "                                imagen_rescaled = transform.resize(img, (256, 256, 1), anti_aliasing=True) # Se unifican las dimensiones de cada imagen leída para que puedan ser leídas por el modelo de keras\n",
    "\n",
    "                                img_array = (imagen_rescaled * 255).astype(np.uint8) # Se convierte la imagen a entero de 8 bits\n",
    "\n",
    "                                # Se normaliza cada imagen para que se encuentre en el rango de valores de 0 a 1\n",
    "                                normalized_img = (img_array - np.min(img_array)) / (np.max(img_array) - np.min(img_array))\n",
    "\n",
    "                                if not os.path.exists(class_HealthyBrains_RESIZED_path + folder1 + '/' + folder2 + '/' + folder3 + '/'):\n",
    "                                        os.makedirs(class_HealthyBrains_RESIZED_path + folder1 + '/' + folder2 + '/' + folder3 + '/')\n",
    "\n",
    "                                # Guardar imagen redimensionada en directorio de salida\n",
    "                                io.imsave(class_HealthyBrains_RESIZED_path + folder1 + '/' + folder2 + '/' + folder3 + '/' + filename, normalized_img)\n",
    "\n",
    "                                print(type(normalized_img))\n",
    "                                print(\"SHAPE: \", normalized_img.shape)\n",
    "                                print(\"RANGE: [\", np.min(imagen_rescaled), \",\", np.max(imagen_rescaled), \"]\")"
   ]
  }
 ],
 "metadata": {
  "kernelspec": {
   "display_name": "Python 3 (ipykernel)",
   "language": "python",
   "name": "python3"
  },
  "language_info": {
   "codemirror_mode": {
    "name": "ipython",
    "version": 3
   },
   "file_extension": ".py",
   "mimetype": "text/x-python",
   "name": "python",
   "nbconvert_exporter": "python",
   "pygments_lexer": "ipython3",
   "version": "3.9.16"
  }
 },
 "nbformat": 4,
 "nbformat_minor": 1
}
